{
 "cells": [
  {
   "cell_type": "code",
   "execution_count": 1,
   "metadata": {},
   "outputs": [],
   "source": [
    "#Os dados foram retirados do site do IBGE no seguinte link: \n",
    "#https://www.ibge.gov.br/estatisticas/downloads-estatisticas.html\n",
    "\n",
    "#Após retirada dos dados em xlsx, exportamos cada uma das tabelas no formato de csv e limpamos manualmente\n",
    "#os headers. Depois disso, partimos para a leitura dos mesmos, para início da interpretação\n",
    "\n",
    "import pandas as pd\n",
    "import numpy as np\n",
    "#import matplotlib.pyplot as plt\n",
    "\n",
    "pd.options.display.float_format = \"{:.2f}\".format"
   ]
  },
  {
   "cell_type": "code",
   "execution_count": 2,
   "metadata": {},
   "outputs": [],
   "source": [
    "def convertToFloat(df, columns, skipComma):\n",
    "    for column in columns:\n",
    "        if(skipComma == False):\n",
    "            df[column] = [x.replace(\",\", \".\") for x in df[column]]\n",
    "        df[column] = df[column].replace(\"-\", \"-1\")\n",
    "        df[column] = df[column].astype(float)\n",
    "    return df"
   ]
  },
  {
   "cell_type": "code",
   "execution_count": 3,
   "metadata": {},
   "outputs": [
    {
     "output_type": "execute_result",
     "data": {
      "text/plain": [
       "                       Alimento  Total  Até 1 908 (1)  Mais de 1 908 a 2 862  \\\n",
       "0         Cereais e leguminosas  27.76          30.50                  30.09   \n",
       "1                       Cereais  21.20          23.36                  22.98   \n",
       "2        Arroz não especificado   1.54           1.63                   1.31   \n",
       "3                  Arroz polido  18.22          20.48                  20.28   \n",
       "4                 Milho em grão   0.73           0.77                   0.73   \n",
       "\n",
       "   Mais de 2 862 a 5 724  Mais de 5 724 a 9 540  Mais de 9 540 a 14 310  \\\n",
       "0                  28.19                  23.59                   24.99   \n",
       "1                  21.75                  17.78                   18.88   \n",
       "2                   1.57                   1.39                    1.62   \n",
       "3                  18.80                  14.87                   15.57   \n",
       "4                   0.64                   0.72                    0.73   \n",
       "\n",
       "   Mais de 14 310  \n",
       "0           22.25  \n",
       "1           16.47  \n",
       "2            1.96  \n",
       "3           12.40  \n",
       "4            1.10  "
      ],
      "text/html": "<div>\n<style scoped>\n    .dataframe tbody tr th:only-of-type {\n        vertical-align: middle;\n    }\n\n    .dataframe tbody tr th {\n        vertical-align: top;\n    }\n\n    .dataframe thead th {\n        text-align: right;\n    }\n</style>\n<table border=\"1\" class=\"dataframe\">\n  <thead>\n    <tr style=\"text-align: right;\">\n      <th></th>\n      <th>Alimento</th>\n      <th>Total</th>\n      <th>Até 1 908 (1)</th>\n      <th>Mais de 1 908 a 2 862</th>\n      <th>Mais de 2 862 a 5 724</th>\n      <th>Mais de 5 724 a 9 540</th>\n      <th>Mais de 9 540 a 14 310</th>\n      <th>Mais de 14 310</th>\n    </tr>\n  </thead>\n  <tbody>\n    <tr>\n      <th>0</th>\n      <td>Cereais e leguminosas</td>\n      <td>27.76</td>\n      <td>30.50</td>\n      <td>30.09</td>\n      <td>28.19</td>\n      <td>23.59</td>\n      <td>24.99</td>\n      <td>22.25</td>\n    </tr>\n    <tr>\n      <th>1</th>\n      <td>Cereais</td>\n      <td>21.20</td>\n      <td>23.36</td>\n      <td>22.98</td>\n      <td>21.75</td>\n      <td>17.78</td>\n      <td>18.88</td>\n      <td>16.47</td>\n    </tr>\n    <tr>\n      <th>2</th>\n      <td>Arroz não especificado</td>\n      <td>1.54</td>\n      <td>1.63</td>\n      <td>1.31</td>\n      <td>1.57</td>\n      <td>1.39</td>\n      <td>1.62</td>\n      <td>1.96</td>\n    </tr>\n    <tr>\n      <th>3</th>\n      <td>Arroz polido</td>\n      <td>18.22</td>\n      <td>20.48</td>\n      <td>20.28</td>\n      <td>18.80</td>\n      <td>14.87</td>\n      <td>15.57</td>\n      <td>12.40</td>\n    </tr>\n    <tr>\n      <th>4</th>\n      <td>Milho em grão</td>\n      <td>0.73</td>\n      <td>0.77</td>\n      <td>0.73</td>\n      <td>0.64</td>\n      <td>0.72</td>\n      <td>0.73</td>\n      <td>1.10</td>\n    </tr>\n  </tbody>\n</table>\n</div>"
     },
     "metadata": {},
     "execution_count": 3
    }
   ],
   "source": [
    "#Testando primeiro para planilha total da pasta classe_de_rendimento\n",
    "total = pd.read_csv(\n",
    "    'dados-limpos/aquisicao_alimentar_por_classe_de_rendimento/total.csv', index_col=False, squeeze=True)\n",
    "\n",
    "#Remove colunas unamed\n",
    "total = total.dropna(how='all', axis='columns')\n",
    "\n",
    "#converte colunas em string para float\n",
    "total = convertToFloat(total, total.columns[1:], True)\n",
    "\n",
    "total.head()\n",
    "# as colunas mostram o alimento, e seu consumo em kg baseado na renda das pessoas"
   ]
  },
  {
   "cell_type": "code",
   "execution_count": 4,
   "metadata": {},
   "outputs": [
    {
     "output_type": "execute_result",
     "data": {
      "text/plain": [
       "                       Alimento  Total  Até 1 908 (1)  Mais de 1 908 a 2 862  \\\n",
       "0         Cereais e leguminosas  26.64          26.77                  28.14   \n",
       "1                       Cereais  21.32          21.53                  22.81   \n",
       "2        Arroz não especificado   1.97           2.50                   1.71   \n",
       "3                  Arroz polido  17.94          17.84                  19.64   \n",
       "4                 Milho em grão   0.84           0.75                   1.03   \n",
       "\n",
       "   Mais de 2 862 a 5 724  Mais de 5 724 a 9 540  Mais de 9 540 a 14 310  \\\n",
       "0                  25.79                  27.03                   24.22   \n",
       "1                  20.34                  21.41                   19.30   \n",
       "2                   1.64                   1.44                    1.75   \n",
       "3                  16.94                  18.65                   16.48   \n",
       "4                   0.89                   0.66                    0.67   \n",
       "\n",
       "   Mais de 14 310  \n",
       "0           23.90  \n",
       "1           19.39  \n",
       "2            2.27  \n",
       "3           15.87  \n",
       "4            0.87  "
      ],
      "text/html": "<div>\n<style scoped>\n    .dataframe tbody tr th:only-of-type {\n        vertical-align: middle;\n    }\n\n    .dataframe tbody tr th {\n        vertical-align: top;\n    }\n\n    .dataframe thead th {\n        text-align: right;\n    }\n</style>\n<table border=\"1\" class=\"dataframe\">\n  <thead>\n    <tr style=\"text-align: right;\">\n      <th></th>\n      <th>Alimento</th>\n      <th>Total</th>\n      <th>Até 1 908 (1)</th>\n      <th>Mais de 1 908 a 2 862</th>\n      <th>Mais de 2 862 a 5 724</th>\n      <th>Mais de 5 724 a 9 540</th>\n      <th>Mais de 9 540 a 14 310</th>\n      <th>Mais de 14 310</th>\n    </tr>\n  </thead>\n  <tbody>\n    <tr>\n      <th>0</th>\n      <td>Cereais e leguminosas</td>\n      <td>26.64</td>\n      <td>26.77</td>\n      <td>28.14</td>\n      <td>25.79</td>\n      <td>27.03</td>\n      <td>24.22</td>\n      <td>23.90</td>\n    </tr>\n    <tr>\n      <th>1</th>\n      <td>Cereais</td>\n      <td>21.32</td>\n      <td>21.53</td>\n      <td>22.81</td>\n      <td>20.34</td>\n      <td>21.41</td>\n      <td>19.30</td>\n      <td>19.39</td>\n    </tr>\n    <tr>\n      <th>2</th>\n      <td>Arroz não especificado</td>\n      <td>1.97</td>\n      <td>2.50</td>\n      <td>1.71</td>\n      <td>1.64</td>\n      <td>1.44</td>\n      <td>1.75</td>\n      <td>2.27</td>\n    </tr>\n    <tr>\n      <th>3</th>\n      <td>Arroz polido</td>\n      <td>17.94</td>\n      <td>17.84</td>\n      <td>19.64</td>\n      <td>16.94</td>\n      <td>18.65</td>\n      <td>16.48</td>\n      <td>15.87</td>\n    </tr>\n    <tr>\n      <th>4</th>\n      <td>Milho em grão</td>\n      <td>0.84</td>\n      <td>0.75</td>\n      <td>1.03</td>\n      <td>0.89</td>\n      <td>0.66</td>\n      <td>0.67</td>\n      <td>0.87</td>\n    </tr>\n  </tbody>\n</table>\n</div>"
     },
     "metadata": {},
     "execution_count": 4
    }
   ],
   "source": [
    "#Testando também para uma das regiões da pasta classe_de_rendimento\n",
    "regiao = 'norte'\n",
    "\n",
    "df = pd.read_csv(\n",
    "    'dados-limpos/aquisicao_alimentar_por_classe_de_rendimento/'+regiao+'.csv', index_col=False, squeeze=True)\n",
    "\n",
    "#Remove colunas unamed\n",
    "df = df.dropna(how='all', axis='columns')\n",
    "\n",
    "#converte colunas em string para float\n",
    "df = convertToFloat(df, df.columns[1:], False)\n",
    "\n",
    "df.head()\n",
    "#O mesmo pode ser feito com todas as outras planilhas seguindo esse mesmo formato descrito acima\n",
    "# as colunas mostram o alimento, e seu consumo em kg baseado na renda das pessoas"
   ]
  }
 ],
 "metadata": {
  "kernelspec": {
   "display_name": "Python 3",
   "language": "python",
   "name": "python3"
  },
  "language_info": {
   "codemirror_mode": {
    "name": "ipython",
    "version": 3
   },
   "file_extension": ".py",
   "mimetype": "text/x-python",
   "name": "python",
   "nbconvert_exporter": "python",
   "pygments_lexer": "ipython3",
   "version": "3.8.6-final"
  }
 },
 "nbformat": 4,
 "nbformat_minor": 2
}