{
 "metadata": {
  "language_info": {
   "codemirror_mode": {
    "name": "ipython",
    "version": 3
   },
   "file_extension": ".py",
   "mimetype": "text/x-python",
   "name": "python",
   "nbconvert_exporter": "python",
   "pygments_lexer": "ipython3",
   "version": "3.8.6-final"
  },
  "orig_nbformat": 2,
  "kernelspec": {
   "name": "python38664bitambientetpcc5dd72b41aa4d0e91520a9822110078",
   "display_name": "Python 3.8.6 64-bit ('AmbienteTP')",
   "language": "python"
  }
 },
 "nbformat": 4,
 "nbformat_minor": 2,
 "cells": [
  {
   "cell_type": "code",
   "execution_count": 1,
   "metadata": {},
   "outputs": [],
   "source": [
    "from funcoes_auxiliares import *\n",
    "\n",
    "from sklearn.linear_model import LinearRegression\n",
    "\n",
    "pd.options.display.float_format = \"{:.2f}\".format\n",
    "pd.options.display.max_rows = 6"
   ]
  },
  {
   "cell_type": "code",
   "execution_count": 2,
   "metadata": {},
   "outputs": [],
   "source": [
    "lista_estados = [\"AC\", \"AL\", \"AM\", \"AP\", \"BA\", \"CE\", \"DF\", \"ES\", \"GO\", \"MA\", \"MT\", \"MS\", \"MG\", \"PA\", \"PB\", \"PR\", \"PE\", \"PI\", \"RJ\", \"RN\", \"RO\", \"RS\", \"RR\", \"SC\", \"SE\", \"SP\", \"TO\"]"
   ]
  },
  {
   "cell_type": "code",
   "execution_count": 3,
   "metadata": {},
   "outputs": [],
   "source": [
    "df_estados_brasil = None"
   ]
  },
  {
   "cell_type": "code",
   "execution_count": 4,
   "metadata": {},
   "outputs": [],
   "source": [
    "for i, estado in enumerate(lista_estados):\n",
    "    nome_arquivo_despesas = \"../dados-limpos/aquisicao_por_classe_de_rendimento_e_estado/%s/dados-limpos/%s_tipos_despesas.csv\" % (estado, estado)\n",
    "    df_despesas = carregar_df_despesas_gerais(nome_arquivo_despesas)\n",
    "    df_invertido = df_despesas_gerais_invertido(df_despesas, estado, False)\n",
    "    if(i == 0):\n",
    "        df_estados_brasil = df_invertido\n",
    "    else:\n",
    "        df_estados_brasil = pd.concat([df_estados_brasil, df_invertido])"
   ]
  },
  {
   "cell_type": "code",
   "execution_count": 5,
   "metadata": {},
   "outputs": [],
   "source": [
    "df_estados_brasil.reset_index(drop=True, inplace=True)"
   ]
  },
  {
   "cell_type": "code",
   "execution_count": 6,
   "metadata": {},
   "outputs": [
    {
     "output_type": "execute_result",
     "data": {
      "text/plain": [
       "    Alimentação Habitação Aluguel Aluguel monetário Aluguel não monetário  \\\n",
       "0        592.63    730.80  376.63             17.01                359.62   \n",
       "1        767.97   1107.24  557.82             29.06                528.76   \n",
       "2        822.06   1645.56  828.81             29.04                799.78   \n",
       "..          ...       ...     ...               ...                   ...   \n",
       "159      697.99   1558.67  766.06            127.11                638.95   \n",
       "160      770.28   2207.58  838.66             66.28                772.37   \n",
       "161      709.70   3165.85 1128.58            163.28                965.30   \n",
       "\n",
       "    Condomínio Serviços e taxas Energia elétrica Telefone fixo  \\\n",
       "0         1.17           182.51            79.36          2.87   \n",
       "1         0.59           297.58           124.18          1.92   \n",
       "2         4.72           420.86           167.51          4.09   \n",
       "..         ...              ...              ...           ...   \n",
       "159       0.00           491.32           214.92         10.12   \n",
       "160       0.00           557.28           261.26          1.53   \n",
       "161       0.00           614.35           294.36          0.00   \n",
       "\n",
       "    Telefone Celular  ... Imóvel (aquisição) Imóvel (reforma)  \\\n",
       "0              31.01  ...               9.44            47.66   \n",
       "1              49.11  ...              17.81           105.58   \n",
       "2              71.63  ...             246.55           211.45   \n",
       "..               ...  ...                ...              ...   \n",
       "159            21.08  ...               6.58            17.79   \n",
       "160            38.42  ...               0.00            23.89   \n",
       "161            21.92  ...             885.46           557.83   \n",
       "\n",
       "    Outros investimentos Diminuição do passivo Empréstimo Prestação de imóvel  \\\n",
       "0                   0.00                 59.75      57.38                2.38   \n",
       "1                   0.00                202.88     199.49                3.39   \n",
       "2                   0.00                534.44     502.56               31.88   \n",
       "..                   ...                   ...        ...                 ...   \n",
       "159                 2.92                301.25     221.85               79.40   \n",
       "160                 0.00                223.34     223.34                0.00   \n",
       "161                 0.00               1546.38    1059.03              487.34   \n",
       "\n",
       "    Tamanho médio da família Total gasto por classes Estado  \\\n",
       "0                       3.72                 4763.74     AC   \n",
       "1                       4.07                 7809.43     AC   \n",
       "2                       3.99                13290.87     AC   \n",
       "..                       ...                     ...    ...   \n",
       "159                     3.48                12985.20     TO   \n",
       "160                     3.43                20047.08     TO   \n",
       "161                     3.01                28066.60     TO   \n",
       "\n",
       "             Classe social  \n",
       "0             Até 1908 (2)  \n",
       "1      Mais de 1908 a 2862  \n",
       "2      Mais de 2862 a 5724  \n",
       "..                     ...  \n",
       "159    Mais de 5724 a 9540  \n",
       "160   Mais de 9540 a 14310  \n",
       "161  Mais de 14310 a 23850  \n",
       "\n",
       "[162 rows x 94 columns]"
      ],
      "text/html": "<div>\n<style scoped>\n    .dataframe tbody tr th:only-of-type {\n        vertical-align: middle;\n    }\n\n    .dataframe tbody tr th {\n        vertical-align: top;\n    }\n\n    .dataframe thead th {\n        text-align: right;\n    }\n</style>\n<table border=\"1\" class=\"dataframe\">\n  <thead>\n    <tr style=\"text-align: right;\">\n      <th></th>\n      <th>Alimentação</th>\n      <th>Habitação</th>\n      <th>Aluguel</th>\n      <th>Aluguel monetário</th>\n      <th>Aluguel não monetário</th>\n      <th>Condomínio</th>\n      <th>Serviços e taxas</th>\n      <th>Energia elétrica</th>\n      <th>Telefone fixo</th>\n      <th>Telefone Celular</th>\n      <th>...</th>\n      <th>Imóvel (aquisição)</th>\n      <th>Imóvel (reforma)</th>\n      <th>Outros investimentos</th>\n      <th>Diminuição do passivo</th>\n      <th>Empréstimo</th>\n      <th>Prestação de imóvel</th>\n      <th>Tamanho médio da família</th>\n      <th>Total gasto por classes</th>\n      <th>Estado</th>\n      <th>Classe social</th>\n    </tr>\n  </thead>\n  <tbody>\n    <tr>\n      <th>0</th>\n      <td>592.63</td>\n      <td>730.80</td>\n      <td>376.63</td>\n      <td>17.01</td>\n      <td>359.62</td>\n      <td>1.17</td>\n      <td>182.51</td>\n      <td>79.36</td>\n      <td>2.87</td>\n      <td>31.01</td>\n      <td>...</td>\n      <td>9.44</td>\n      <td>47.66</td>\n      <td>0.00</td>\n      <td>59.75</td>\n      <td>57.38</td>\n      <td>2.38</td>\n      <td>3.72</td>\n      <td>4763.74</td>\n      <td>AC</td>\n      <td>Até 1908 (2)</td>\n    </tr>\n    <tr>\n      <th>1</th>\n      <td>767.97</td>\n      <td>1107.24</td>\n      <td>557.82</td>\n      <td>29.06</td>\n      <td>528.76</td>\n      <td>0.59</td>\n      <td>297.58</td>\n      <td>124.18</td>\n      <td>1.92</td>\n      <td>49.11</td>\n      <td>...</td>\n      <td>17.81</td>\n      <td>105.58</td>\n      <td>0.00</td>\n      <td>202.88</td>\n      <td>199.49</td>\n      <td>3.39</td>\n      <td>4.07</td>\n      <td>7809.43</td>\n      <td>AC</td>\n      <td>Mais de 1908 a 2862</td>\n    </tr>\n    <tr>\n      <th>2</th>\n      <td>822.06</td>\n      <td>1645.56</td>\n      <td>828.81</td>\n      <td>29.04</td>\n      <td>799.78</td>\n      <td>4.72</td>\n      <td>420.86</td>\n      <td>167.51</td>\n      <td>4.09</td>\n      <td>71.63</td>\n      <td>...</td>\n      <td>246.55</td>\n      <td>211.45</td>\n      <td>0.00</td>\n      <td>534.44</td>\n      <td>502.56</td>\n      <td>31.88</td>\n      <td>3.99</td>\n      <td>13290.87</td>\n      <td>AC</td>\n      <td>Mais de 2862 a 5724</td>\n    </tr>\n    <tr>\n      <th>...</th>\n      <td>...</td>\n      <td>...</td>\n      <td>...</td>\n      <td>...</td>\n      <td>...</td>\n      <td>...</td>\n      <td>...</td>\n      <td>...</td>\n      <td>...</td>\n      <td>...</td>\n      <td>...</td>\n      <td>...</td>\n      <td>...</td>\n      <td>...</td>\n      <td>...</td>\n      <td>...</td>\n      <td>...</td>\n      <td>...</td>\n      <td>...</td>\n      <td>...</td>\n      <td>...</td>\n    </tr>\n    <tr>\n      <th>159</th>\n      <td>697.99</td>\n      <td>1558.67</td>\n      <td>766.06</td>\n      <td>127.11</td>\n      <td>638.95</td>\n      <td>0.00</td>\n      <td>491.32</td>\n      <td>214.92</td>\n      <td>10.12</td>\n      <td>21.08</td>\n      <td>...</td>\n      <td>6.58</td>\n      <td>17.79</td>\n      <td>2.92</td>\n      <td>301.25</td>\n      <td>221.85</td>\n      <td>79.40</td>\n      <td>3.48</td>\n      <td>12985.20</td>\n      <td>TO</td>\n      <td>Mais de 5724 a 9540</td>\n    </tr>\n    <tr>\n      <th>160</th>\n      <td>770.28</td>\n      <td>2207.58</td>\n      <td>838.66</td>\n      <td>66.28</td>\n      <td>772.37</td>\n      <td>0.00</td>\n      <td>557.28</td>\n      <td>261.26</td>\n      <td>1.53</td>\n      <td>38.42</td>\n      <td>...</td>\n      <td>0.00</td>\n      <td>23.89</td>\n      <td>0.00</td>\n      <td>223.34</td>\n      <td>223.34</td>\n      <td>0.00</td>\n      <td>3.43</td>\n      <td>20047.08</td>\n      <td>TO</td>\n      <td>Mais de 9540 a 14310</td>\n    </tr>\n    <tr>\n      <th>161</th>\n      <td>709.70</td>\n      <td>3165.85</td>\n      <td>1128.58</td>\n      <td>163.28</td>\n      <td>965.30</td>\n      <td>0.00</td>\n      <td>614.35</td>\n      <td>294.36</td>\n      <td>0.00</td>\n      <td>21.92</td>\n      <td>...</td>\n      <td>885.46</td>\n      <td>557.83</td>\n      <td>0.00</td>\n      <td>1546.38</td>\n      <td>1059.03</td>\n      <td>487.34</td>\n      <td>3.01</td>\n      <td>28066.60</td>\n      <td>TO</td>\n      <td>Mais de 14310 a 23850</td>\n    </tr>\n  </tbody>\n</table>\n<p>162 rows × 94 columns</p>\n</div>"
     },
     "metadata": {},
     "execution_count": 6
    }
   ],
   "source": [
    "df_estados_brasil"
   ]
  },
  {
   "cell_type": "code",
   "execution_count": 7,
   "metadata": {},
   "outputs": [],
   "source": [
    "classes_sociais = [\"Até 1908 (2)\", \"Mais de 1908 a 2862\", \"Mais de 2862 a 5724\", \"Mais de 5724 a 9540\", \"Mais de 9540 a 14310\", \"Mais de 14310 a 23850\"]"
   ]
  },
  {
   "source": [
    "## Análise de regressão linear"
   ],
   "cell_type": "markdown",
   "metadata": {}
  },
  {
   "source": [
    "### Até 1908 (2)"
   ],
   "cell_type": "markdown",
   "metadata": {}
  },
  {
   "cell_type": "code",
   "execution_count": 8,
   "metadata": {},
   "outputs": [
    {
     "output_type": "stream",
     "name": "stdout",
     "text": [
      "Coeficiente estimado: [ 6.78122108e-01  2.59020118e+00  1.96320541e+00 -1.34671831e+00\n -2.17943210e+00  9.99190450e-02  2.09170200e+00 -5.95638599e-01\n  8.58355268e-02 -3.08621447e-01 -5.95304119e-01  1.10634652e-01\n -8.90099159e-01 -4.65864545e-01  4.57157639e-01  3.04300105e-01\n  9.59809967e-01 -2.06361386e-01 -7.50979074e-03  1.84996827e+00\n  8.57889338e-01  9.51448854e-01  2.60127154e-01  5.98502958e-01\n  1.39615313e-01  1.81899214e-02  2.26505233e+00  4.13013233e-01\n  5.66458714e-01 -8.21438150e-02 -4.81763518e-01 -3.36710356e-01\n  9.01815978e-02  5.99417099e-02  2.49905023e-01  3.51871099e-01\n  9.90784193e-02  9.41543702e-02  1.84145948e-01  3.35666811e-01\n  1.61581346e+00  1.58561129e+00  3.98326629e-01  9.81960753e-02\n  7.31474651e-01  1.86032209e+00 -4.82279348e-03  3.67642443e-01\n  3.80860227e-01  3.11751549e-01  1.62818441e-01  4.47892545e-01\n  5.03956416e-02 -4.71372763e-02  6.39152774e-02  5.99417099e-02\n  2.49905023e-01  3.51871099e-01  9.90784193e-02  9.41543702e-02\n  1.84145948e-01  3.35666811e-01  1.15733734e+00 -1.99178318e-01\n -8.36474720e-03 -3.50170411e-01  4.10775551e-01 -2.07351856e-02\n  5.99417099e-02  2.49905023e-01  3.51871099e-01  9.90784193e-02\n  9.41543702e-02  1.84145948e-01  3.35666811e-01  8.58815849e-01\n -6.75215949e-02  8.97136758e-01  3.47285386e-02 -1.27023999e-01\n  5.99417099e-02  2.49905023e-01  3.51871099e-01  9.90784193e-02\n  9.41543702e-02  1.84145948e-01  3.35666811e-01  6.35195634e-02\n  4.59923291e-01  4.12262801e-01  6.91963170e-02 -3.74721829e-02\n  5.99417099e-02  2.49905023e-01  3.51871099e-01  9.90784193e-02\n  9.41543702e-02  1.84145948e-01  3.35666811e-01  1.03140066e+00\n  4.43803148e-01 -7.69481235e-02 -7.32508079e-02  5.26265049e-01\n -1.79746022e-01  5.99417099e-02  2.49905023e-01  3.51871099e-01\n  9.90784193e-02  9.41543702e-02  1.84145948e-01  3.35666811e-01\n  2.04835604e-01  1.25495933e+00  7.14038980e-01  1.10527093e-01\n  5.36129993e-01 -1.88069515e-03  5.99417099e-02  2.49905023e-01\n  3.51871099e-01  9.90784193e-02  9.41543702e-02  1.84145948e-01\n  3.35666811e-01  1.26177966e+00  5.93476591e-01  4.53902120e-01\n -4.53044161e-02  6.79433404e-01  9.81047039e-01  7.83238150e-01\n -2.63970430e-02]\n\nR2 (score): 1.0\n\nIntercept: -0.52380\n\nEquação do 'valor-mensal' em termos de todos os atributos analisados:\n\n  f(x) = -0.52380 + (0.67812 * 'Alimentação') + (2.59020 * 'Habitação') + (1.96321 * 'Aluguel') + (-1.34672 * 'Aluguel monetário') + (-2.17943 * 'Aluguel não monetário') + (0.09992 * 'Condomínio') + (2.09170 * 'Serviços e taxas') + (-0.59564 * 'Energia elétrica') + (0.08584 * 'Telefone fixo') + (-0.30862 * 'Telefone Celular') + (-0.59530 * 'Pacote de telefone, TV e Internet') + (0.11063 * 'Gás doméstico') + (-0.89010 * 'Água e esgoto') + (-0.46586 * 'Outros') + (0.45716 * 'Manutenção do lar') + (0.30430 * 'Artigos de limpeza') + (0.95981 * 'Mobiliários e artigos do lar') + (-0.20636 * 'Eletrodomésticos') + (-0.00751 * 'Consertos artigos do lar') + (1.84997 * 'Vestuário') + (0.85789 * 'Roupa de homem') + (0.95145 * 'Roupa de mulher') + (0.26013 * 'Roupa de criança') + (0.59850 * 'Calçados e apetrechos') + (0.13962 * 'Jóias e bijuterias') + (0.01819 * 'Tecidos e armarinhos') + (2.26505 * 'Transporte') + (0.41301 * 'Urbano') + (0.56646 * 'Gasolina - veículo próprio') + (-0.08214 * 'Álcool - veículo próprio') + (-0.48176 * 'Manutenção e acessórios') + (-0.33671 * 'Aquisição de veículos') + (0.09018 * 'Viagens esporádicas') + (0.05994 * 'Outras') + (0.24991 * 'Higiene e Cuidados Pessoais') + (0.35187 * 'Perfume') + (0.09908 * 'Produtos para cabelo') + (0.09415 * 'Sabonete') + (0.18415 * 'Instrumentos e produtos de uso pessoal') + (0.33567 * 'Assistência a saúde') + (1.61581 * 'Remédios') + (1.58561 * 'Plano/Seguro saúde') + (0.39833 * 'Consulta e tratamento dentário') + (0.09820 * 'Consulta médica') + (0.73147 * 'Tratamento médico e ambulatorial') + (1.86032 * 'Serviços de cirurgia') + (-0.00482 * 'Hospitalização') + (0.36764 * 'Exames diversos') + (0.38086 * 'Material de tratamento') + (0.31175 * 'Outras') + (0.16282 * 'Educação') + (0.44789 * 'Cursos regulares') + (0.05040 * 'Cursos superiores') + (-0.04714 * 'Outros cursos e atividades') + (0.06392 * 'Livros didáticos e revistas técnicas') + (0.05994 * 'Artigos escolares') + (0.24991 * 'Outras') + (0.35187 * 'Recreação e cultura') + (0.09908 * 'Brinquedos e jogos') + (0.09415 * 'Celular e acessórios') + (0.18415 * 'Periódicos, livros e revistas não didáticos') + (0.33567 * 'Recreações e esportes') + (1.15734 * 'Outras') + (-0.19918 * 'Fumo') + (-0.00836 * 'Serviços pessoais') + (-0.35017 * 'Cabeleireiro') + (0.41078 * 'Manicuro e pedicuro') + (-0.02074 * 'Consertos de artigos pessoais') + (0.05994 * 'Outras') + (0.24991 * 'Despesas diversas') + (0.35187 * 'Jogos e apostas') + (0.09908 * 'Comunicação') + (0.09415 * 'Cerimônias e festas') + (0.18415 * 'Serviços profissionais') + (0.33567 * 'Imóveis de uso ocasional') + (0.85882 * 'Outras') + (-0.06752 * 'Outras despesas correntes') + (0.89714 * 'Impostos') + (0.03473 * 'Contribuições trabalhistas') + (-0.12702 * 'Serviços bancários') + (0.05994 * 'Pensões, mesadas e doações') + (0.24991 * 'Previdência privada') + (0.35187 * 'Outras') + (0.09908 * 'Aumento do ativo') + (0.09415 * 'Imóvel (aquisição)') + (0.18415 * 'Imóvel (reforma)') + (0.33567 * 'Outros investimentos') + (0.06352 * 'Diminuição do passivo') + (0.45992 * 'Empréstimo') + (0.41226 * 'Prestação de imóvel') + (0.06920 * 'Tamanho médio da família')\n\nCoeficiente de determinação é: 1.00000, ou seja, 0.00000% do 'valor-mensal' não é explicada pelos atributos utilizados\n"
     ]
    }
   ],
   "source": [
    "lista_colunas_afetam_valor_total = df_estados_brasil.columns[:-3]\n",
    "\n",
    "X = df_estados_brasil[df_estados_brasil['Classe social'] == classes_sociais[0]][lista_colunas_afetam_valor_total]\n",
    "Y = df_estados_brasil[df_estados_brasil['Classe social'] == classes_sociais[0]][\"Total gasto por classes\"]\n",
    "\n",
    "lm = LinearRegression()\n",
    "lm.fit(X, Y)\n",
    "\n",
    "r2 = lm.score(X.values, Y)\n",
    "\n",
    "print(\"Coeficiente estimado:\", lm.coef_)\n",
    "print(\"\\nR2 (score):\", r2)\n",
    "\n",
    "print(\"\\nIntercept: %.5f\" % lm.intercept_)\n",
    "\n",
    "equacao_str = \"\"\n",
    "for coef, feat in zip(lm.coef_,lista_colunas_afetam_valor_total):\n",
    "    equacao_str += \" + (%.5f * '%s')\" % (coef, feat)\n",
    "\n",
    "print(\"\\nEquação do 'valor-mensal' em termos de todos os atributos analisados:\\n\\n  f(x) = %.5f%s\" % (lm.intercept_, equacao_str))\n",
    "\n",
    "print(\"\\nCoeficiente de determinação é: %.5f, ou seja, %.5f%% do 'valor-mensal' não é explicada pelos atributos utilizados\" % (r2, (1-r2)*100))"
   ]
  },
  {
   "source": [
    "### Mais de 1908 a 2862"
   ],
   "cell_type": "markdown",
   "metadata": {}
  },
  {
   "cell_type": "code",
   "execution_count": 9,
   "metadata": {},
   "outputs": [
    {
     "output_type": "stream",
     "name": "stdout",
     "text": [
      "Coeficiente estimado: [ 1.27970088e+00 -4.12361913e-01  2.70865532e+00  1.37568954e+00\n  8.39348809e-01  4.37085393e-01  2.63585766e+00 -2.32805542e-01\n -9.79921667e-02  2.88104855e-01  5.68441651e-01 -6.21822358e-01\n -3.76541610e-01  3.74081177e-01  1.94951258e+00  2.84372129e-01\n  1.28867061e+00  9.38351276e-01  6.79278197e-02  1.73781131e+00\n  2.33249844e-01  1.00231352e+00  3.78920261e-01  3.58586637e-01\n  1.06412062e-01  1.32904331e-01  1.08802388e+00  2.63886656e-01\n  6.77900959e-01  7.26584408e-01  5.89152324e-01  9.18860118e-01\n  2.86676058e-01  1.15028624e-01 -1.63927973e-01 -1.57892284e-01\n  1.63624233e-01  1.97301079e-01  2.39029416e-01  3.22920765e-03\n  8.42830443e-01  7.44946112e-02  1.48340189e-01 -8.53879425e-02\n  1.02357423e+00  2.19021914e+00  5.88886945e-01 -8.22081769e-01\n  3.18452147e-01 -1.65014306e-01 -5.29178377e-02  2.99130727e-01\n -5.18512309e-02 -1.32093113e-02  7.94930658e-02  1.15028624e-01\n -1.63927973e-01 -1.57892284e-01  1.63624233e-01  1.97301079e-01\n  2.39029416e-01  3.22920765e-03  1.16273020e+00  5.40974783e-01\n  1.15760982e+00  2.13066872e-01 -2.59634113e-01  1.74376497e-01\n  1.15028624e-01 -1.63927973e-01 -1.57892284e-01  1.63624233e-01\n  1.97301079e-01  2.39029416e-01  3.22920765e-03  1.65810257e+00\n  1.12325052e-01  1.45000663e+00  6.51190050e-02  3.69765264e-01\n  1.15028624e-01 -1.63927973e-01 -1.57892284e-01  1.63624233e-01\n  1.97301079e-01  2.39029416e-01  3.22920765e-03  2.68740699e-01\n  2.57278859e-01 -2.69971050e-03 -2.15994879e-02  4.07924995e-02\n  1.15028624e-01 -1.63927973e-01 -1.57892284e-01  1.63624233e-01\n  1.97301079e-01  2.39029416e-01  3.22920765e-03  8.62956940e-01\n  2.67234499e-01 -1.42003917e-02  2.85753342e-03  2.59591308e-01\n  3.40052707e-01  1.15028624e-01 -1.63927973e-01 -1.57892284e-01\n  1.63624233e-01  1.97301079e-01  2.39029416e-01  3.22920765e-03\n  2.11380734e+00 -2.26545582e-01  1.07188261e+00  1.05549567e+00\n  4.77744935e-01  1.09718554e-02  1.15028624e-01 -1.63927973e-01\n -1.57892284e-01  1.63624233e-01  1.97301079e-01  2.39029416e-01\n  3.22920765e-03  1.07806676e+00  6.91824057e-01  1.72676546e-01\n -3.16414817e-03  7.91746386e-01  1.01735326e+00  6.10964366e-01\n -1.63580579e-02]\n\nR2 (score): 1.0\n\nIntercept: 360.47547\n\nEquação do 'valor-mensal' em termos de todos os atributos analisados:\n\n  f(x) = 360.47547 + (1.27970 * 'Alimentação') + (-0.41236 * 'Habitação') + (2.70866 * 'Aluguel') + (1.37569 * 'Aluguel monetário') + (0.83935 * 'Aluguel não monetário') + (0.43709 * 'Condomínio') + (2.63586 * 'Serviços e taxas') + (-0.23281 * 'Energia elétrica') + (-0.09799 * 'Telefone fixo') + (0.28810 * 'Telefone Celular') + (0.56844 * 'Pacote de telefone, TV e Internet') + (-0.62182 * 'Gás doméstico') + (-0.37654 * 'Água e esgoto') + (0.37408 * 'Outros') + (1.94951 * 'Manutenção do lar') + (0.28437 * 'Artigos de limpeza') + (1.28867 * 'Mobiliários e artigos do lar') + (0.93835 * 'Eletrodomésticos') + (0.06793 * 'Consertos artigos do lar') + (1.73781 * 'Vestuário') + (0.23325 * 'Roupa de homem') + (1.00231 * 'Roupa de mulher') + (0.37892 * 'Roupa de criança') + (0.35859 * 'Calçados e apetrechos') + (0.10641 * 'Jóias e bijuterias') + (0.13290 * 'Tecidos e armarinhos') + (1.08802 * 'Transporte') + (0.26389 * 'Urbano') + (0.67790 * 'Gasolina - veículo próprio') + (0.72658 * 'Álcool - veículo próprio') + (0.58915 * 'Manutenção e acessórios') + (0.91886 * 'Aquisição de veículos') + (0.28668 * 'Viagens esporádicas') + (0.11503 * 'Outras') + (-0.16393 * 'Higiene e Cuidados Pessoais') + (-0.15789 * 'Perfume') + (0.16362 * 'Produtos para cabelo') + (0.19730 * 'Sabonete') + (0.23903 * 'Instrumentos e produtos de uso pessoal') + (0.00323 * 'Assistência a saúde') + (0.84283 * 'Remédios') + (0.07449 * 'Plano/Seguro saúde') + (0.14834 * 'Consulta e tratamento dentário') + (-0.08539 * 'Consulta médica') + (1.02357 * 'Tratamento médico e ambulatorial') + (2.19022 * 'Serviços de cirurgia') + (0.58889 * 'Hospitalização') + (-0.82208 * 'Exames diversos') + (0.31845 * 'Material de tratamento') + (-0.16501 * 'Outras') + (-0.05292 * 'Educação') + (0.29913 * 'Cursos regulares') + (-0.05185 * 'Cursos superiores') + (-0.01321 * 'Outros cursos e atividades') + (0.07949 * 'Livros didáticos e revistas técnicas') + (0.11503 * 'Artigos escolares') + (-0.16393 * 'Outras') + (-0.15789 * 'Recreação e cultura') + (0.16362 * 'Brinquedos e jogos') + (0.19730 * 'Celular e acessórios') + (0.23903 * 'Periódicos, livros e revistas não didáticos') + (0.00323 * 'Recreações e esportes') + (1.16273 * 'Outras') + (0.54097 * 'Fumo') + (1.15761 * 'Serviços pessoais') + (0.21307 * 'Cabeleireiro') + (-0.25963 * 'Manicuro e pedicuro') + (0.17438 * 'Consertos de artigos pessoais') + (0.11503 * 'Outras') + (-0.16393 * 'Despesas diversas') + (-0.15789 * 'Jogos e apostas') + (0.16362 * 'Comunicação') + (0.19730 * 'Cerimônias e festas') + (0.23903 * 'Serviços profissionais') + (0.00323 * 'Imóveis de uso ocasional') + (1.65810 * 'Outras') + (0.11233 * 'Outras despesas correntes') + (1.45001 * 'Impostos') + (0.06512 * 'Contribuições trabalhistas') + (0.36977 * 'Serviços bancários') + (0.11503 * 'Pensões, mesadas e doações') + (-0.16393 * 'Previdência privada') + (-0.15789 * 'Outras') + (0.16362 * 'Aumento do ativo') + (0.19730 * 'Imóvel (aquisição)') + (0.23903 * 'Imóvel (reforma)') + (0.00323 * 'Outros investimentos') + (0.26874 * 'Diminuição do passivo') + (0.25728 * 'Empréstimo') + (-0.00270 * 'Prestação de imóvel') + (-0.02160 * 'Tamanho médio da família')\n\nCoeficiente de determinação é: 1.00000, ou seja, 0.00000% do 'valor-mensal' não é explicada pelos atributos utilizados\n"
     ]
    }
   ],
   "source": [
    "lista_colunas_afetam_valor_total = df_estados_brasil.columns[:-3]\n",
    "\n",
    "X = df_estados_brasil[df_estados_brasil['Classe social'] == classes_sociais[1]][lista_colunas_afetam_valor_total]\n",
    "Y = df_estados_brasil[df_estados_brasil['Classe social'] == classes_sociais[1]][\"Total gasto por classes\"]\n",
    "\n",
    "lm = LinearRegression()\n",
    "lm.fit(X, Y)\n",
    "\n",
    "r2 = lm.score(X.values, Y)\n",
    "\n",
    "print(\"Coeficiente estimado:\", lm.coef_)\n",
    "print(\"\\nR2 (score):\", r2)\n",
    "\n",
    "print(\"\\nIntercept: %.5f\" % lm.intercept_)\n",
    "\n",
    "equacao_str = \"\"\n",
    "for coef, feat in zip(lm.coef_,lista_colunas_afetam_valor_total):\n",
    "    equacao_str += \" + (%.5f * '%s')\" % (coef, feat)\n",
    "\n",
    "print(\"\\nEquação do 'valor-mensal' em termos de todos os atributos analisados:\\n\\n  f(x) = %.5f%s\" % (lm.intercept_, equacao_str))\n",
    "\n",
    "print(\"\\nCoeficiente de determinação é: %.5f, ou seja, %.5f%% do 'valor-mensal' não é explicada pelos atributos utilizados\" % (r2, (1-r2)*100))"
   ]
  },
  {
   "source": [
    "### Mais de 2862 a 5724"
   ],
   "cell_type": "markdown",
   "metadata": {}
  },
  {
   "cell_type": "code",
   "execution_count": 10,
   "metadata": {},
   "outputs": [
    {
     "output_type": "stream",
     "name": "stdout",
     "text": [
      "Coeficiente estimado: [ 9.17278810e-01  4.42243232e-01  7.17090515e-02  2.38965483e+00\n  2.12927135e+00  1.24446118e+00  1.81210404e+00  1.44772434e-01\n -7.62137195e-03 -1.11261698e-03  5.02317482e-01  2.99786659e-01\n  4.73760851e-01 -5.35565048e-01  6.07770808e-01  2.40362391e-01\n  2.24038906e-01  8.22260461e-01  5.88705564e-02  2.32874611e+00\n  2.30373084e-01  4.77078091e-02  1.43297770e-02  4.70966189e-01\n  1.62165696e-02  8.16338536e-02  2.52337977e+00  5.43360088e-01\n -6.03554838e-01  7.37106647e-01  1.42026669e-01 -5.65308568e-01\n -8.99036964e-01  2.37188584e-01 -3.11065615e-01  2.04908618e-01\n  2.69784378e-01  5.14831533e-02 -4.61747957e-02  2.29043733e-02\n  5.61132381e-01 -6.55748746e-01  4.49729923e-02  8.71234288e-02\n  1.57895009e+00  5.08557383e-01  8.19101628e-01  7.30492533e-01\n -3.29490195e-02 -1.01559090e-01  5.31446642e-02  7.86027223e-01\n  2.04069838e-01 -1.04785919e-01  2.02271537e-01  2.37188584e-01\n -3.11065615e-01  2.04908618e-01  2.69784378e-01  5.14831533e-02\n -4.61747957e-02  2.29043733e-02  1.46125993e+00  6.96369803e-01\n  1.93045897e-01  2.08757453e-01  2.30795017e-01 -3.89950309e-02\n  2.37188584e-01 -3.11065615e-01  2.04908618e-01  2.69784378e-01\n  5.14831533e-02 -4.61747957e-02  2.29043733e-02  1.00169956e+00\n  1.31602004e-01  3.88652051e-01  2.00269273e-01  4.29512913e-01\n  2.37188584e-01 -3.11065615e-01  2.04908618e-01  2.69784378e-01\n  5.14831533e-02 -4.61747957e-02  2.29043733e-02  6.91544854e-01\n  8.13026714e-01  3.20907252e-01  1.72993424e-02  7.19065346e-02\n  2.37188584e-01 -3.11065615e-01  2.04908618e-01  2.69784378e-01\n  5.14831533e-02 -4.61747957e-02  2.29043733e-02  1.15170814e+00\n  3.19387049e-01 -3.54862532e-02  4.69969504e-01  3.87183284e-01\n -5.07274784e-01  2.37188584e-01 -3.11065615e-01  2.04908618e-01\n  2.69784378e-01  5.14831533e-02 -4.61747957e-02  2.29043733e-02\n  2.99780654e+00 -1.78865567e+00 -8.16237865e-01 -1.06603969e+00\n  1.33593295e-01 -1.07131752e-01  2.37188584e-01 -3.11065615e-01\n  2.04908618e-01  2.69784378e-01  5.14831533e-02 -4.61747957e-02\n  2.29043733e-02  1.28492051e+00  3.07571904e-01  8.30156734e-01\n -8.70451037e-03  1.10160121e+00  1.19133055e+00  2.49687565e-02\n -1.05813473e-02]\n\nR2 (score): 1.0\n\nIntercept: 1374.73958\n\nEquação do 'valor-mensal' em termos de todos os atributos analisados:\n\n  f(x) = 1374.73958 + (0.91728 * 'Alimentação') + (0.44224 * 'Habitação') + (0.07171 * 'Aluguel') + (2.38965 * 'Aluguel monetário') + (2.12927 * 'Aluguel não monetário') + (1.24446 * 'Condomínio') + (1.81210 * 'Serviços e taxas') + (0.14477 * 'Energia elétrica') + (-0.00762 * 'Telefone fixo') + (-0.00111 * 'Telefone Celular') + (0.50232 * 'Pacote de telefone, TV e Internet') + (0.29979 * 'Gás doméstico') + (0.47376 * 'Água e esgoto') + (-0.53557 * 'Outros') + (0.60777 * 'Manutenção do lar') + (0.24036 * 'Artigos de limpeza') + (0.22404 * 'Mobiliários e artigos do lar') + (0.82226 * 'Eletrodomésticos') + (0.05887 * 'Consertos artigos do lar') + (2.32875 * 'Vestuário') + (0.23037 * 'Roupa de homem') + (0.04771 * 'Roupa de mulher') + (0.01433 * 'Roupa de criança') + (0.47097 * 'Calçados e apetrechos') + (0.01622 * 'Jóias e bijuterias') + (0.08163 * 'Tecidos e armarinhos') + (2.52338 * 'Transporte') + (0.54336 * 'Urbano') + (-0.60355 * 'Gasolina - veículo próprio') + (0.73711 * 'Álcool - veículo próprio') + (0.14203 * 'Manutenção e acessórios') + (-0.56531 * 'Aquisição de veículos') + (-0.89904 * 'Viagens esporádicas') + (0.23719 * 'Outras') + (-0.31107 * 'Higiene e Cuidados Pessoais') + (0.20491 * 'Perfume') + (0.26978 * 'Produtos para cabelo') + (0.05148 * 'Sabonete') + (-0.04617 * 'Instrumentos e produtos de uso pessoal') + (0.02290 * 'Assistência a saúde') + (0.56113 * 'Remédios') + (-0.65575 * 'Plano/Seguro saúde') + (0.04497 * 'Consulta e tratamento dentário') + (0.08712 * 'Consulta médica') + (1.57895 * 'Tratamento médico e ambulatorial') + (0.50856 * 'Serviços de cirurgia') + (0.81910 * 'Hospitalização') + (0.73049 * 'Exames diversos') + (-0.03295 * 'Material de tratamento') + (-0.10156 * 'Outras') + (0.05314 * 'Educação') + (0.78603 * 'Cursos regulares') + (0.20407 * 'Cursos superiores') + (-0.10479 * 'Outros cursos e atividades') + (0.20227 * 'Livros didáticos e revistas técnicas') + (0.23719 * 'Artigos escolares') + (-0.31107 * 'Outras') + (0.20491 * 'Recreação e cultura') + (0.26978 * 'Brinquedos e jogos') + (0.05148 * 'Celular e acessórios') + (-0.04617 * 'Periódicos, livros e revistas não didáticos') + (0.02290 * 'Recreações e esportes') + (1.46126 * 'Outras') + (0.69637 * 'Fumo') + (0.19305 * 'Serviços pessoais') + (0.20876 * 'Cabeleireiro') + (0.23080 * 'Manicuro e pedicuro') + (-0.03900 * 'Consertos de artigos pessoais') + (0.23719 * 'Outras') + (-0.31107 * 'Despesas diversas') + (0.20491 * 'Jogos e apostas') + (0.26978 * 'Comunicação') + (0.05148 * 'Cerimônias e festas') + (-0.04617 * 'Serviços profissionais') + (0.02290 * 'Imóveis de uso ocasional') + (1.00170 * 'Outras') + (0.13160 * 'Outras despesas correntes') + (0.38865 * 'Impostos') + (0.20027 * 'Contribuições trabalhistas') + (0.42951 * 'Serviços bancários') + (0.23719 * 'Pensões, mesadas e doações') + (-0.31107 * 'Previdência privada') + (0.20491 * 'Outras') + (0.26978 * 'Aumento do ativo') + (0.05148 * 'Imóvel (aquisição)') + (-0.04617 * 'Imóvel (reforma)') + (0.02290 * 'Outros investimentos') + (0.69154 * 'Diminuição do passivo') + (0.81303 * 'Empréstimo') + (0.32091 * 'Prestação de imóvel') + (0.01730 * 'Tamanho médio da família')\n\nCoeficiente de determinação é: 1.00000, ou seja, 0.00000% do 'valor-mensal' não é explicada pelos atributos utilizados\n"
     ]
    }
   ],
   "source": [
    "lista_colunas_afetam_valor_total = df_estados_brasil.columns[:-3]\n",
    "\n",
    "X = df_estados_brasil[df_estados_brasil['Classe social'] == classes_sociais[2]][lista_colunas_afetam_valor_total]\n",
    "Y = df_estados_brasil[df_estados_brasil['Classe social'] == classes_sociais[2]][\"Total gasto por classes\"]\n",
    "\n",
    "lm = LinearRegression()\n",
    "lm.fit(X, Y)\n",
    "\n",
    "r2 = lm.score(X.values, Y)\n",
    "\n",
    "print(\"Coeficiente estimado:\", lm.coef_)\n",
    "print(\"\\nR2 (score):\", r2)\n",
    "\n",
    "print(\"\\nIntercept: %.5f\" % lm.intercept_)\n",
    "\n",
    "equacao_str = \"\"\n",
    "for coef, feat in zip(lm.coef_,lista_colunas_afetam_valor_total):\n",
    "    equacao_str += \" + (%.5f * '%s')\" % (coef, feat)\n",
    "\n",
    "print(\"\\nEquação do 'valor-mensal' em termos de todos os atributos analisados:\\n\\n  f(x) = %.5f%s\" % (lm.intercept_, equacao_str))\n",
    "\n",
    "print(\"\\nCoeficiente de determinação é: %.5f, ou seja, %.5f%% do 'valor-mensal' não é explicada pelos atributos utilizados\" % (r2, (1-r2)*100))"
   ]
  },
  {
   "source": [
    "### Mais de 5724 a 9540"
   ],
   "cell_type": "markdown",
   "metadata": {}
  },
  {
   "cell_type": "code",
   "execution_count": 11,
   "metadata": {},
   "outputs": [
    {
     "output_type": "stream",
     "name": "stdout",
     "text": [
      "Coeficiente estimado: [ 2.04065307e+00  2.57616498e-01  7.79581962e+00 -2.17804175e+00\n -3.43905442e+00 -8.96003381e-01 -1.79664599e+00  1.15061719e+00\n -2.79077917e-01  5.46186719e-01 -3.88412996e-01 -4.36541605e-02\n -1.12230483e+00  8.24640657e-01  2.14142258e+00  8.92259987e-01\n  3.18533302e-01  9.27697052e-01  3.27402318e-01  3.42164467e+00\n  1.37793032e+00  1.19110863e+00  1.52377573e-01  1.33725112e+00\n  6.75038428e-01  1.55565425e-02 -5.95445481e-02  1.38074140e+00\n  7.44651840e-01  1.19172895e+00  1.09142143e+00  1.95220728e+00\n  8.78094395e-01  2.38281254e-01 -5.46480261e-01  2.12966228e-01\n  3.53358425e-01  1.24709401e-01 -1.24201757e+00 -1.57299395e-01\n -7.97520415e-01  1.83602606e+00 -1.35915177e-01  1.99685823e-01\n  6.69286858e-01  2.07987704e+00  9.65362171e-01  6.38392659e-01\n -5.62460776e-01  1.48654582e-01 -1.72308211e-01  2.52096387e-01\n -5.50288703e-01 -3.60399239e-02  6.31724100e-02  2.38281254e-01\n -5.46480261e-01  2.12966228e-01  3.53358425e-01  1.24709401e-01\n -1.24201757e+00 -1.57299395e-01  1.69206902e+00  1.07914107e+00\n -7.44865551e-01  8.38450044e-01  1.69662010e+00 -2.47489985e-01\n  2.38281254e-01 -5.46480261e-01  2.12966228e-01  3.53358425e-01\n  1.24709401e-01 -1.24201757e+00 -1.57299395e-01  1.27975154e+00\n  3.10758027e-01 -1.16298328e+00 -7.04930399e-02 -5.44315205e-01\n  2.38281254e-01 -5.46480261e-01  2.12966228e-01  3.53358425e-01\n  1.24709401e-01 -1.24201757e+00 -1.57299395e-01  2.82831730e-01\n -2.81523652e-01 -1.70947083e-01 -1.56025006e-01  1.34627803e-02\n  2.38281254e-01 -5.46480261e-01  2.12966228e-01  3.53358425e-01\n  1.24709401e-01 -1.24201757e+00 -1.57299395e-01  5.14466254e-01\n -1.34991998e+00 -1.53313776e-01 -1.23050235e-02  1.99010193e+00\n -5.55336438e-01  2.38281254e-01 -5.46480261e-01  2.12966228e-01\n  3.53358425e-01  1.24709401e-01 -1.24201757e+00 -1.57299395e-01\n  1.48512877e+00  8.35883000e-01 -6.28033717e-01 -4.79504524e-01\n  1.09051916e-01  1.36050650e-01  2.38281254e-01 -5.46480261e-01\n  2.12966228e-01  3.53358425e-01  1.24709401e-01 -1.24201757e+00\n -1.57299395e-01  2.62713902e+00 -5.79534501e-01  7.32072477e-01\n  6.72160371e-02  3.67550285e+00 -8.28238144e-01 -1.54152326e+00\n -2.84367563e-03]\n\nR2 (score): 1.0\n\nIntercept: 1281.16625\n\nEquação do 'valor-mensal' em termos de todos os atributos analisados:\n\n  f(x) = 1281.16625 + (2.04065 * 'Alimentação') + (0.25762 * 'Habitação') + (7.79582 * 'Aluguel') + (-2.17804 * 'Aluguel monetário') + (-3.43905 * 'Aluguel não monetário') + (-0.89600 * 'Condomínio') + (-1.79665 * 'Serviços e taxas') + (1.15062 * 'Energia elétrica') + (-0.27908 * 'Telefone fixo') + (0.54619 * 'Telefone Celular') + (-0.38841 * 'Pacote de telefone, TV e Internet') + (-0.04365 * 'Gás doméstico') + (-1.12230 * 'Água e esgoto') + (0.82464 * 'Outros') + (2.14142 * 'Manutenção do lar') + (0.89226 * 'Artigos de limpeza') + (0.31853 * 'Mobiliários e artigos do lar') + (0.92770 * 'Eletrodomésticos') + (0.32740 * 'Consertos artigos do lar') + (3.42164 * 'Vestuário') + (1.37793 * 'Roupa de homem') + (1.19111 * 'Roupa de mulher') + (0.15238 * 'Roupa de criança') + (1.33725 * 'Calçados e apetrechos') + (0.67504 * 'Jóias e bijuterias') + (0.01556 * 'Tecidos e armarinhos') + (-0.05954 * 'Transporte') + (1.38074 * 'Urbano') + (0.74465 * 'Gasolina - veículo próprio') + (1.19173 * 'Álcool - veículo próprio') + (1.09142 * 'Manutenção e acessórios') + (1.95221 * 'Aquisição de veículos') + (0.87809 * 'Viagens esporádicas') + (0.23828 * 'Outras') + (-0.54648 * 'Higiene e Cuidados Pessoais') + (0.21297 * 'Perfume') + (0.35336 * 'Produtos para cabelo') + (0.12471 * 'Sabonete') + (-1.24202 * 'Instrumentos e produtos de uso pessoal') + (-0.15730 * 'Assistência a saúde') + (-0.79752 * 'Remédios') + (1.83603 * 'Plano/Seguro saúde') + (-0.13592 * 'Consulta e tratamento dentário') + (0.19969 * 'Consulta médica') + (0.66929 * 'Tratamento médico e ambulatorial') + (2.07988 * 'Serviços de cirurgia') + (0.96536 * 'Hospitalização') + (0.63839 * 'Exames diversos') + (-0.56246 * 'Material de tratamento') + (0.14865 * 'Outras') + (-0.17231 * 'Educação') + (0.25210 * 'Cursos regulares') + (-0.55029 * 'Cursos superiores') + (-0.03604 * 'Outros cursos e atividades') + (0.06317 * 'Livros didáticos e revistas técnicas') + (0.23828 * 'Artigos escolares') + (-0.54648 * 'Outras') + (0.21297 * 'Recreação e cultura') + (0.35336 * 'Brinquedos e jogos') + (0.12471 * 'Celular e acessórios') + (-1.24202 * 'Periódicos, livros e revistas não didáticos') + (-0.15730 * 'Recreações e esportes') + (1.69207 * 'Outras') + (1.07914 * 'Fumo') + (-0.74487 * 'Serviços pessoais') + (0.83845 * 'Cabeleireiro') + (1.69662 * 'Manicuro e pedicuro') + (-0.24749 * 'Consertos de artigos pessoais') + (0.23828 * 'Outras') + (-0.54648 * 'Despesas diversas') + (0.21297 * 'Jogos e apostas') + (0.35336 * 'Comunicação') + (0.12471 * 'Cerimônias e festas') + (-1.24202 * 'Serviços profissionais') + (-0.15730 * 'Imóveis de uso ocasional') + (1.27975 * 'Outras') + (0.31076 * 'Outras despesas correntes') + (-1.16298 * 'Impostos') + (-0.07049 * 'Contribuições trabalhistas') + (-0.54432 * 'Serviços bancários') + (0.23828 * 'Pensões, mesadas e doações') + (-0.54648 * 'Previdência privada') + (0.21297 * 'Outras') + (0.35336 * 'Aumento do ativo') + (0.12471 * 'Imóvel (aquisição)') + (-1.24202 * 'Imóvel (reforma)') + (-0.15730 * 'Outros investimentos') + (0.28283 * 'Diminuição do passivo') + (-0.28152 * 'Empréstimo') + (-0.17095 * 'Prestação de imóvel') + (-0.15603 * 'Tamanho médio da família')\n\nCoeficiente de determinação é: 1.00000, ou seja, 0.00000% do 'valor-mensal' não é explicada pelos atributos utilizados\n"
     ]
    }
   ],
   "source": [
    "lista_colunas_afetam_valor_total = df_estados_brasil.columns[:-3]\n",
    "\n",
    "X = df_estados_brasil[df_estados_brasil['Classe social'] == classes_sociais[3]][lista_colunas_afetam_valor_total]\n",
    "Y = df_estados_brasil[df_estados_brasil['Classe social'] == classes_sociais[3]][\"Total gasto por classes\"]\n",
    "\n",
    "lm = LinearRegression()\n",
    "lm.fit(X, Y)\n",
    "\n",
    "r2 = lm.score(X.values, Y)\n",
    "\n",
    "print(\"Coeficiente estimado:\", lm.coef_)\n",
    "print(\"\\nR2 (score):\", r2)\n",
    "\n",
    "print(\"\\nIntercept: %.5f\" % lm.intercept_)\n",
    "\n",
    "equacao_str = \"\"\n",
    "for coef, feat in zip(lm.coef_,lista_colunas_afetam_valor_total):\n",
    "    equacao_str += \" + (%.5f * '%s')\" % (coef, feat)\n",
    "\n",
    "print(\"\\nEquação do 'valor-mensal' em termos de todos os atributos analisados:\\n\\n  f(x) = %.5f%s\" % (lm.intercept_, equacao_str))\n",
    "\n",
    "print(\"\\nCoeficiente de determinação é: %.5f, ou seja, %.5f%% do 'valor-mensal' não é explicada pelos atributos utilizados\" % (r2, (1-r2)*100))"
   ]
  },
  {
   "source": [
    "### Mais de 9540 a 14310"
   ],
   "cell_type": "markdown",
   "metadata": {}
  },
  {
   "cell_type": "code",
   "execution_count": 12,
   "metadata": {},
   "outputs": [
    {
     "output_type": "stream",
     "name": "stdout",
     "text": [
      "Coeficiente estimado: [ 1.23382315e+00  1.93355149e+00  5.84308278e-01  1.71704319e-01\n  4.12649593e-01  4.43011494e-01  2.36622235e-01 -3.61713383e-01\n -6.70704133e-02  6.04011930e-01  1.18267299e-01 -4.19701651e-02\n -2.49403144e-01  2.34506464e-01  4.88480789e-01  1.17852468e-01\n  3.08796307e-01 -2.28097418e-01 -1.74159438e-02  1.54466422e+00\n  1.80326960e-01  5.04092664e-01  2.43926071e-01  4.36226550e-01\n  1.15249229e-01  6.48173726e-02  1.82183223e+00  2.42133905e-01\n  3.39667769e-01 -4.99513550e-02  4.81080579e-01  3.47144596e-02\n  7.17949176e-01  5.62955849e-02  3.58282786e-02  2.17690782e-01\n -5.85981982e-03  1.08766123e-01  1.17366048e-01  3.24222736e-02\n  8.38751080e-01  9.28417211e-02  1.52109343e-01  3.00996005e-02\n  5.63707581e-01  1.49135924e+00  2.98783398e-01  6.74611332e-01\n  1.41374119e-01  1.34569813e-01  8.00632298e-02 -6.04611950e-02\n  5.50529096e-02  1.31676238e-01 -1.66199516e-04  5.62955849e-02\n  3.58282786e-02  2.17690782e-01 -5.85981982e-03  1.08766123e-01\n  1.17366048e-01  3.24222736e-02  1.24137124e+00  4.38500738e-01\n  1.90875070e-01  1.86113221e-01  1.63253578e-01  4.49059038e-02\n  5.62955849e-02  3.58282786e-02  2.17690782e-01 -5.85981982e-03\n  1.08766123e-01  1.17366048e-01  3.24222736e-02  6.65919076e-01\n  5.86317967e-02  3.04731687e-01  4.50705422e-02  2.63396826e-01\n  5.62955849e-02  3.58282786e-02  2.17690782e-01 -5.85981982e-03\n  1.08766123e-01  1.17366048e-01  3.24222736e-02 -1.03983658e-01\n  4.48565318e-01  1.85664944e-01  1.38592963e-01  1.55428586e-02\n  5.62955849e-02  3.58282786e-02  2.17690782e-01 -5.85981982e-03\n  1.08766123e-01  1.17366048e-01  3.24222736e-02  1.10475253e+00\n  1.91440869e-01  1.62577500e-03  3.70331577e-01  6.95973949e-01\n -2.72016828e-01  5.62955849e-02  3.58282786e-02  2.17690782e-01\n -5.85981982e-03  1.08766123e-01  1.17366048e-01  3.24222736e-02\n  1.76549774e+00  1.91139976e-01  2.82188695e-01  6.32636472e-01\n  7.03404067e-01 -7.63513373e-02  5.62955849e-02  3.58282786e-02\n  2.17690782e-01 -5.85981982e-03  1.08766123e-01  1.17366048e-01\n  3.24222736e-02  1.42775210e+00  5.78611144e-01  8.42409537e-01\n  6.73010722e-03  1.14669650e+00  9.25589947e-01  2.21081266e-01\n  1.50370389e-03]\n\nR2 (score): 1.0\n\nIntercept: 1208.84013\n\nEquação do 'valor-mensal' em termos de todos os atributos analisados:\n\n  f(x) = 1208.84013 + (1.23382 * 'Alimentação') + (1.93355 * 'Habitação') + (0.58431 * 'Aluguel') + (0.17170 * 'Aluguel monetário') + (0.41265 * 'Aluguel não monetário') + (0.44301 * 'Condomínio') + (0.23662 * 'Serviços e taxas') + (-0.36171 * 'Energia elétrica') + (-0.06707 * 'Telefone fixo') + (0.60401 * 'Telefone Celular') + (0.11827 * 'Pacote de telefone, TV e Internet') + (-0.04197 * 'Gás doméstico') + (-0.24940 * 'Água e esgoto') + (0.23451 * 'Outros') + (0.48848 * 'Manutenção do lar') + (0.11785 * 'Artigos de limpeza') + (0.30880 * 'Mobiliários e artigos do lar') + (-0.22810 * 'Eletrodomésticos') + (-0.01742 * 'Consertos artigos do lar') + (1.54466 * 'Vestuário') + (0.18033 * 'Roupa de homem') + (0.50409 * 'Roupa de mulher') + (0.24393 * 'Roupa de criança') + (0.43623 * 'Calçados e apetrechos') + (0.11525 * 'Jóias e bijuterias') + (0.06482 * 'Tecidos e armarinhos') + (1.82183 * 'Transporte') + (0.24213 * 'Urbano') + (0.33967 * 'Gasolina - veículo próprio') + (-0.04995 * 'Álcool - veículo próprio') + (0.48108 * 'Manutenção e acessórios') + (0.03471 * 'Aquisição de veículos') + (0.71795 * 'Viagens esporádicas') + (0.05630 * 'Outras') + (0.03583 * 'Higiene e Cuidados Pessoais') + (0.21769 * 'Perfume') + (-0.00586 * 'Produtos para cabelo') + (0.10877 * 'Sabonete') + (0.11737 * 'Instrumentos e produtos de uso pessoal') + (0.03242 * 'Assistência a saúde') + (0.83875 * 'Remédios') + (0.09284 * 'Plano/Seguro saúde') + (0.15211 * 'Consulta e tratamento dentário') + (0.03010 * 'Consulta médica') + (0.56371 * 'Tratamento médico e ambulatorial') + (1.49136 * 'Serviços de cirurgia') + (0.29878 * 'Hospitalização') + (0.67461 * 'Exames diversos') + (0.14137 * 'Material de tratamento') + (0.13457 * 'Outras') + (0.08006 * 'Educação') + (-0.06046 * 'Cursos regulares') + (0.05505 * 'Cursos superiores') + (0.13168 * 'Outros cursos e atividades') + (-0.00017 * 'Livros didáticos e revistas técnicas') + (0.05630 * 'Artigos escolares') + (0.03583 * 'Outras') + (0.21769 * 'Recreação e cultura') + (-0.00586 * 'Brinquedos e jogos') + (0.10877 * 'Celular e acessórios') + (0.11737 * 'Periódicos, livros e revistas não didáticos') + (0.03242 * 'Recreações e esportes') + (1.24137 * 'Outras') + (0.43850 * 'Fumo') + (0.19088 * 'Serviços pessoais') + (0.18611 * 'Cabeleireiro') + (0.16325 * 'Manicuro e pedicuro') + (0.04491 * 'Consertos de artigos pessoais') + (0.05630 * 'Outras') + (0.03583 * 'Despesas diversas') + (0.21769 * 'Jogos e apostas') + (-0.00586 * 'Comunicação') + (0.10877 * 'Cerimônias e festas') + (0.11737 * 'Serviços profissionais') + (0.03242 * 'Imóveis de uso ocasional') + (0.66592 * 'Outras') + (0.05863 * 'Outras despesas correntes') + (0.30473 * 'Impostos') + (0.04507 * 'Contribuições trabalhistas') + (0.26340 * 'Serviços bancários') + (0.05630 * 'Pensões, mesadas e doações') + (0.03583 * 'Previdência privada') + (0.21769 * 'Outras') + (-0.00586 * 'Aumento do ativo') + (0.10877 * 'Imóvel (aquisição)') + (0.11737 * 'Imóvel (reforma)') + (0.03242 * 'Outros investimentos') + (-0.10398 * 'Diminuição do passivo') + (0.44857 * 'Empréstimo') + (0.18566 * 'Prestação de imóvel') + (0.13859 * 'Tamanho médio da família')\n\nCoeficiente de determinação é: 1.00000, ou seja, 0.00000% do 'valor-mensal' não é explicada pelos atributos utilizados\n"
     ]
    }
   ],
   "source": [
    "lista_colunas_afetam_valor_total = df_estados_brasil.columns[:-3]\n",
    "\n",
    "X = df_estados_brasil[df_estados_brasil['Classe social'] == classes_sociais[4]][lista_colunas_afetam_valor_total]\n",
    "Y = df_estados_brasil[df_estados_brasil['Classe social'] == classes_sociais[4]][\"Total gasto por classes\"]\n",
    "\n",
    "lm = LinearRegression()\n",
    "lm.fit(X, Y)\n",
    "\n",
    "r2 = lm.score(X.values, Y)\n",
    "\n",
    "print(\"Coeficiente estimado:\", lm.coef_)\n",
    "print(\"\\nR2 (score):\", r2)\n",
    "\n",
    "print(\"\\nIntercept: %.5f\" % lm.intercept_)\n",
    "\n",
    "equacao_str = \"\"\n",
    "for coef, feat in zip(lm.coef_,lista_colunas_afetam_valor_total):\n",
    "    equacao_str += \" + (%.5f * '%s')\" % (coef, feat)\n",
    "\n",
    "print(\"\\nEquação do 'valor-mensal' em termos de todos os atributos analisados:\\n\\n  f(x) = %.5f%s\" % (lm.intercept_, equacao_str))\n",
    "\n",
    "print(\"\\nCoeficiente de determinação é: %.5f, ou seja, %.5f%% do 'valor-mensal' não é explicada pelos atributos utilizados\" % (r2, (1-r2)*100))"
   ]
  },
  {
   "source": [
    "### Mais de 14310 a 23850"
   ],
   "cell_type": "markdown",
   "metadata": {}
  },
  {
   "cell_type": "code",
   "execution_count": 13,
   "metadata": {},
   "outputs": [
    {
     "output_type": "execute_result",
     "data": {
      "text/plain": [
       "'Mais de 9540 a 14310'"
      ]
     },
     "metadata": {},
     "execution_count": 13
    }
   ],
   "source": [
    "classes_sociais[4]"
   ]
  },
  {
   "cell_type": "code",
   "execution_count": 14,
   "metadata": {},
   "outputs": [
    {
     "output_type": "stream",
     "name": "stdout",
     "text": [
      "Coeficiente estimado: [ 1.07074603e-01  5.48398877e+00 -1.11260333e+00  7.85524690e-02\n -1.53982989e+00 -2.73307328e+00 -2.72101223e+00  1.49172764e-01\n -4.14475459e-01 -2.11451800e-01 -3.06048434e-01 -1.33138006e-01\n -5.30320340e-01 -3.17347904e-02 -2.40378703e+00 -6.47860735e-02\n -2.82016718e+00 -6.34735179e-01 -4.47469660e-02  1.75519311e+00\n  1.38233521e+00 -1.86406845e-01  2.56132845e-01  3.62560646e-01\n  2.55764076e-01  1.09947984e-01  2.21236467e+00  5.82884610e-01\n  1.47057536e+00 -3.62968415e-01 -8.50766350e-01  9.01066438e-02\n  4.30752425e-01 -1.19015691e-01 -8.70010239e-02  6.93699507e-01\n  5.71422646e-01  9.11151338e-02  1.00540770e-01 -2.13052616e-01\n  4.29917329e-01  4.35327307e-03 -2.17340432e-01 -8.71191976e-03\n  1.82947500e-01  1.08664145e+00  1.39198253e-01  5.28654059e-02\n -4.36761862e-01 -1.60431626e-01  1.98949317e-01  4.53124887e-01\n  1.61908986e-01  2.27104345e-02 -1.01572349e-01 -1.19015691e-01\n -8.70010239e-02  6.93699507e-01  5.71422646e-01  9.11151338e-02\n  1.00540770e-01 -2.13052616e-01  7.72083407e-01  3.40855716e-01\n  1.03343264e-01  1.24447764e+00  1.50651989e-01  6.02943912e-02\n -1.19015691e-01 -8.70010239e-02  6.93699507e-01  5.71422646e-01\n  9.11151338e-02  1.00540770e-01 -2.13052616e-01  1.73007193e-01\n -2.14356001e-01  2.15028544e-01 -1.35148699e-01  8.27125733e-01\n -1.19015691e-01 -8.70010239e-02  6.93699507e-01  5.71422646e-01\n  9.11151338e-02  1.00540770e-01 -2.13052616e-01 -1.43772384e-02\n -2.04128717e-01 -5.60564397e-02 -1.51727500e-01  9.51645817e-03\n -1.19015691e-01 -8.70010239e-02  6.93699507e-01  5.71422646e-01\n  9.11151338e-02  1.00540770e-01 -2.13052616e-01  1.05352089e+00\n  1.68617999e-01 -6.84390256e-02  6.19208985e-01  6.96265022e-01\n  1.34118378e+00 -1.19015691e-01 -8.70010239e-02  6.93699507e-01\n  5.71422646e-01  9.11151338e-02  1.00540770e-01 -2.13052616e-01\n  4.43601410e+00 -2.63595761e+00 -2.75985726e+00 -6.55009158e-02\n -1.18327845e+00 -1.38298253e-02 -1.19015691e-01 -8.70010239e-02\n  6.93699507e-01  5.71422646e-01  9.11151338e-02  1.00540770e-01\n -2.13052616e-01  9.75292855e-01  8.64475213e-01  6.56024771e-01\n  5.50111486e-02  1.00399460e+00  6.46506129e-01 -6.44051393e-01\n  2.64740266e-04]\n\nR2 (score): 1.0\n\nIntercept: 464.48912\n\nEquação do 'valor-mensal' em termos de todos os atributos analisados:\n\n  f(x) = 464.48912 + (0.10707 * 'Alimentação') + (5.48399 * 'Habitação') + (-1.11260 * 'Aluguel') + (0.07855 * 'Aluguel monetário') + (-1.53983 * 'Aluguel não monetário') + (-2.73307 * 'Condomínio') + (-2.72101 * 'Serviços e taxas') + (0.14917 * 'Energia elétrica') + (-0.41448 * 'Telefone fixo') + (-0.21145 * 'Telefone Celular') + (-0.30605 * 'Pacote de telefone, TV e Internet') + (-0.13314 * 'Gás doméstico') + (-0.53032 * 'Água e esgoto') + (-0.03173 * 'Outros') + (-2.40379 * 'Manutenção do lar') + (-0.06479 * 'Artigos de limpeza') + (-2.82017 * 'Mobiliários e artigos do lar') + (-0.63474 * 'Eletrodomésticos') + (-0.04475 * 'Consertos artigos do lar') + (1.75519 * 'Vestuário') + (1.38234 * 'Roupa de homem') + (-0.18641 * 'Roupa de mulher') + (0.25613 * 'Roupa de criança') + (0.36256 * 'Calçados e apetrechos') + (0.25576 * 'Jóias e bijuterias') + (0.10995 * 'Tecidos e armarinhos') + (2.21236 * 'Transporte') + (0.58288 * 'Urbano') + (1.47058 * 'Gasolina - veículo próprio') + (-0.36297 * 'Álcool - veículo próprio') + (-0.85077 * 'Manutenção e acessórios') + (0.09011 * 'Aquisição de veículos') + (0.43075 * 'Viagens esporádicas') + (-0.11902 * 'Outras') + (-0.08700 * 'Higiene e Cuidados Pessoais') + (0.69370 * 'Perfume') + (0.57142 * 'Produtos para cabelo') + (0.09112 * 'Sabonete') + (0.10054 * 'Instrumentos e produtos de uso pessoal') + (-0.21305 * 'Assistência a saúde') + (0.42992 * 'Remédios') + (0.00435 * 'Plano/Seguro saúde') + (-0.21734 * 'Consulta e tratamento dentário') + (-0.00871 * 'Consulta médica') + (0.18295 * 'Tratamento médico e ambulatorial') + (1.08664 * 'Serviços de cirurgia') + (0.13920 * 'Hospitalização') + (0.05287 * 'Exames diversos') + (-0.43676 * 'Material de tratamento') + (-0.16043 * 'Outras') + (0.19895 * 'Educação') + (0.45312 * 'Cursos regulares') + (0.16191 * 'Cursos superiores') + (0.02271 * 'Outros cursos e atividades') + (-0.10157 * 'Livros didáticos e revistas técnicas') + (-0.11902 * 'Artigos escolares') + (-0.08700 * 'Outras') + (0.69370 * 'Recreação e cultura') + (0.57142 * 'Brinquedos e jogos') + (0.09112 * 'Celular e acessórios') + (0.10054 * 'Periódicos, livros e revistas não didáticos') + (-0.21305 * 'Recreações e esportes') + (0.77208 * 'Outras') + (0.34086 * 'Fumo') + (0.10334 * 'Serviços pessoais') + (1.24448 * 'Cabeleireiro') + (0.15065 * 'Manicuro e pedicuro') + (0.06029 * 'Consertos de artigos pessoais') + (-0.11902 * 'Outras') + (-0.08700 * 'Despesas diversas') + (0.69370 * 'Jogos e apostas') + (0.57142 * 'Comunicação') + (0.09112 * 'Cerimônias e festas') + (0.10054 * 'Serviços profissionais') + (-0.21305 * 'Imóveis de uso ocasional') + (0.17301 * 'Outras') + (-0.21436 * 'Outras despesas correntes') + (0.21503 * 'Impostos') + (-0.13515 * 'Contribuições trabalhistas') + (0.82713 * 'Serviços bancários') + (-0.11902 * 'Pensões, mesadas e doações') + (-0.08700 * 'Previdência privada') + (0.69370 * 'Outras') + (0.57142 * 'Aumento do ativo') + (0.09112 * 'Imóvel (aquisição)') + (0.10054 * 'Imóvel (reforma)') + (-0.21305 * 'Outros investimentos') + (-0.01438 * 'Diminuição do passivo') + (-0.20413 * 'Empréstimo') + (-0.05606 * 'Prestação de imóvel') + (-0.15173 * 'Tamanho médio da família')\n\nCoeficiente de determinação é: 1.00000, ou seja, 0.00000% do 'valor-mensal' não é explicada pelos atributos utilizados\n"
     ]
    }
   ],
   "source": [
    "lista_colunas_afetam_valor_total = df_estados_brasil.columns[:-3]\n",
    "\n",
    "X = df_estados_brasil[df_estados_brasil['Classe social'] == classes_sociais[5]][lista_colunas_afetam_valor_total]\n",
    "Y = df_estados_brasil[df_estados_brasil['Classe social'] == classes_sociais[5]][\"Total gasto por classes\"]\n",
    "\n",
    "lm = LinearRegression()\n",
    "lm.fit(X, Y)\n",
    "\n",
    "r2 = lm.score(X.values, Y)\n",
    "\n",
    "print(\"Coeficiente estimado:\", lm.coef_)\n",
    "print(\"\\nR2 (score):\", r2)\n",
    "\n",
    "print(\"\\nIntercept: %.5f\" % lm.intercept_)\n",
    "\n",
    "equacao_str = \"\"\n",
    "for coef, feat in zip(lm.coef_,lista_colunas_afetam_valor_total):\n",
    "    equacao_str += \" + (%.5f * '%s')\" % (coef, feat)\n",
    "\n",
    "print(\"\\nEquação do 'valor-mensal' em termos de todos os atributos analisados:\\n\\n  f(x) = %.5f%s\" % (lm.intercept_, equacao_str))\n",
    "\n",
    "print(\"\\nCoeficiente de determinação é: %.5f, ou seja, %.5f%% do 'valor-mensal' não é explicada pelos atributos utilizados\" % (r2, (1-r2)*100))"
   ]
  }
 ]
}