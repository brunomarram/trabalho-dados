{
 "metadata": {
  "language_info": {
   "codemirror_mode": {
    "name": "ipython",
    "version": 3
   },
   "file_extension": ".py",
   "mimetype": "text/x-python",
   "name": "python",
   "nbconvert_exporter": "python",
   "pygments_lexer": "ipython3",
   "version": 3
  },
  "orig_nbformat": 2
 },
 "nbformat": 4,
 "nbformat_minor": 2,
 "cells": [
  {
   "cell_type": "code",
   "execution_count": 1,
   "metadata": {},
   "outputs": [],
   "source": [
    "from funcoes_auxiliares import *\n",
    "\n",
    "pd.options.display.float_format = \"{:.2f}\".format\n",
    "pd.options.display.max_rows = 6"
   ]
  },
  {
   "cell_type": "code",
   "execution_count": 2,
   "metadata": {},
   "outputs": [],
   "source": [
    "estado = \"MG\""
   ]
  },
  {
   "cell_type": "code",
   "execution_count": 3,
   "metadata": {},
   "outputs": [],
   "source": [
    "nome_arquivo_despesas = \"../dados-limpos/aquisicao_por_classe_de_rendimento_e_estado/%s/dados-limpos/%s_tipos_despesas.csv\" % (estado, estado)"
   ]
  },
  {
   "cell_type": "code",
   "execution_count": 4,
   "metadata": {},
   "outputs": [],
   "source": [
    "df_despesas = carregar_dataset_e_converter_dados(nome_arquivo_despesas)"
   ]
  },
  {
   "cell_type": "code",
   "execution_count": 5,
   "metadata": {},
   "outputs": [
    {
     "output_type": "execute_result",
     "data": {
      "text/plain": [
       "   Tipos de despesa, número e tamanho médio das famílias  \\\n",
       "0                                       Despesa total      \n",
       "1                                  Despesas correntes      \n",
       "2                                 Despesas de consumo      \n",
       "..                                                ...      \n",
       "92                                Prestação de imóvel      \n",
       "93                                 Número de famílias      \n",
       "94                           Tamanho médio da família      \n",
       "\n",
       "   Despesa monetária e não monetária média mensal familiar (R$)      Total  \\\n",
       "0                                             4390.72              1501.78   \n",
       "1                                             4082.30              1457.93   \n",
       "2                                             3635.92              1392.69   \n",
       "..                                                ...                  ...   \n",
       "92                                              46.30                 4.62   \n",
       "93                                         7149295.00           1392069.00   \n",
       "94                                               2.93                 2.36   \n",
       "\n",
       "   Até 1908 (2) Mais de 1908 a 2862 Mais de 2862 a 5724 Mais de 5724 a 9540  \\\n",
       "0       2271.56             3697.32             6575.93             9589.42   \n",
       "1       2159.63             3510.91             6027.63             8811.94   \n",
       "2       2039.02             3247.30             5409.91             7559.27   \n",
       "..          ...                 ...                 ...                 ...   \n",
       "92        13.36               26.47               97.15               86.72   \n",
       "93   1478894.00          2470800.00          1092145.00           384637.00   \n",
       "94         2.69                3.13                3.48                3.11   \n",
       "\n",
       "   Mais de 9540 a 14310 Mais de 14310 a 23850  \n",
       "0              14391.83              23891.78  \n",
       "1              13263.37              20768.46  \n",
       "2              10752.93              15961.57  \n",
       "..                  ...                   ...  \n",
       "92               236.52                412.36  \n",
       "93            207088.00             123662.00  \n",
       "94                 2.93                  3.02  \n",
       "\n",
       "[95 rows x 9 columns]"
      ],
      "text/html": "<div>\n<style scoped>\n    .dataframe tbody tr th:only-of-type {\n        vertical-align: middle;\n    }\n\n    .dataframe tbody tr th {\n        vertical-align: top;\n    }\n\n    .dataframe thead th {\n        text-align: right;\n    }\n</style>\n<table border=\"1\" class=\"dataframe\">\n  <thead>\n    <tr style=\"text-align: right;\">\n      <th></th>\n      <th>Tipos de despesa, número e tamanho médio das famílias</th>\n      <th>Despesa monetária e não monetária média mensal familiar (R$)</th>\n      <th>Total</th>\n      <th>Até 1908 (2)</th>\n      <th>Mais de 1908 a 2862</th>\n      <th>Mais de 2862 a 5724</th>\n      <th>Mais de 5724 a 9540</th>\n      <th>Mais de 9540 a 14310</th>\n      <th>Mais de 14310 a 23850</th>\n    </tr>\n  </thead>\n  <tbody>\n    <tr>\n      <th>0</th>\n      <td>Despesa total</td>\n      <td>4390.72</td>\n      <td>1501.78</td>\n      <td>2271.56</td>\n      <td>3697.32</td>\n      <td>6575.93</td>\n      <td>9589.42</td>\n      <td>14391.83</td>\n      <td>23891.78</td>\n    </tr>\n    <tr>\n      <th>1</th>\n      <td>Despesas correntes</td>\n      <td>4082.30</td>\n      <td>1457.93</td>\n      <td>2159.63</td>\n      <td>3510.91</td>\n      <td>6027.63</td>\n      <td>8811.94</td>\n      <td>13263.37</td>\n      <td>20768.46</td>\n    </tr>\n    <tr>\n      <th>2</th>\n      <td>Despesas de consumo</td>\n      <td>3635.92</td>\n      <td>1392.69</td>\n      <td>2039.02</td>\n      <td>3247.30</td>\n      <td>5409.91</td>\n      <td>7559.27</td>\n      <td>10752.93</td>\n      <td>15961.57</td>\n    </tr>\n    <tr>\n      <th>...</th>\n      <td>...</td>\n      <td>...</td>\n      <td>...</td>\n      <td>...</td>\n      <td>...</td>\n      <td>...</td>\n      <td>...</td>\n      <td>...</td>\n      <td>...</td>\n    </tr>\n    <tr>\n      <th>92</th>\n      <td>Prestação de imóvel</td>\n      <td>46.30</td>\n      <td>4.62</td>\n      <td>13.36</td>\n      <td>26.47</td>\n      <td>97.15</td>\n      <td>86.72</td>\n      <td>236.52</td>\n      <td>412.36</td>\n    </tr>\n    <tr>\n      <th>93</th>\n      <td>Número de famílias</td>\n      <td>7149295.00</td>\n      <td>1392069.00</td>\n      <td>1478894.00</td>\n      <td>2470800.00</td>\n      <td>1092145.00</td>\n      <td>384637.00</td>\n      <td>207088.00</td>\n      <td>123662.00</td>\n    </tr>\n    <tr>\n      <th>94</th>\n      <td>Tamanho médio da família</td>\n      <td>2.93</td>\n      <td>2.36</td>\n      <td>2.69</td>\n      <td>3.13</td>\n      <td>3.48</td>\n      <td>3.11</td>\n      <td>2.93</td>\n      <td>3.02</td>\n    </tr>\n  </tbody>\n</table>\n<p>95 rows × 9 columns</p>\n</div>"
     },
     "metadata": {},
     "execution_count": 5
    }
   ],
   "source": [
    "df_despesas"
   ]
  },
  {
   "cell_type": "code",
   "execution_count": 6,
   "metadata": {},
   "outputs": [],
   "source": [
    "df_despesas = df_despesas.drop(columns=['Total'])\n",
    "df_despesas = df_despesas.drop(columns=['Despesa monetária e não monetária média mensal familiar (R$)'])"
   ]
  },
  {
   "cell_type": "code",
   "execution_count": 7,
   "metadata": {},
   "outputs": [],
   "source": [
    "df_despesas = df_despesas.drop([0, 1, 2]).reset_index(drop=True)"
   ]
  },
  {
   "cell_type": "code",
   "execution_count": 8,
   "metadata": {},
   "outputs": [
    {
     "output_type": "execute_result",
     "data": {
      "text/plain": [
       "   Tipos de despesa, número e tamanho médio das famílias Até 1908 (2)  \\\n",
       "0                                         Alimentação          470.26   \n",
       "1                                           Habitação          817.04   \n",
       "2                                             Aluguel          423.40   \n",
       "..                                                ...             ...   \n",
       "89                                Prestação de imóvel           13.36   \n",
       "90                                 Número de famílias      1478894.00   \n",
       "91                           Tamanho médio da família            2.69   \n",
       "\n",
       "   Mais de 1908 a 2862 Mais de 2862 a 5724 Mais de 5724 a 9540  \\\n",
       "0               682.91              965.76             1183.04   \n",
       "1              1148.45             1658.10             2278.54   \n",
       "2               581.47              799.82             1098.35   \n",
       "..                 ...                 ...                 ...   \n",
       "89               26.47               97.15               86.72   \n",
       "90          2470800.00          1092145.00           384637.00   \n",
       "91                3.13                3.48                3.11   \n",
       "\n",
       "   Mais de 9540 a 14310 Mais de 14310 a 23850  \n",
       "0               1511.11               2111.32  \n",
       "1               3102.18               4744.36  \n",
       "2               1430.00               2098.02  \n",
       "..                  ...                   ...  \n",
       "89               236.52                412.36  \n",
       "90            207088.00             123662.00  \n",
       "91                 2.93                  3.02  \n",
       "\n",
       "[92 rows x 7 columns]"
      ],
      "text/html": "<div>\n<style scoped>\n    .dataframe tbody tr th:only-of-type {\n        vertical-align: middle;\n    }\n\n    .dataframe tbody tr th {\n        vertical-align: top;\n    }\n\n    .dataframe thead th {\n        text-align: right;\n    }\n</style>\n<table border=\"1\" class=\"dataframe\">\n  <thead>\n    <tr style=\"text-align: right;\">\n      <th></th>\n      <th>Tipos de despesa, número e tamanho médio das famílias</th>\n      <th>Até 1908 (2)</th>\n      <th>Mais de 1908 a 2862</th>\n      <th>Mais de 2862 a 5724</th>\n      <th>Mais de 5724 a 9540</th>\n      <th>Mais de 9540 a 14310</th>\n      <th>Mais de 14310 a 23850</th>\n    </tr>\n  </thead>\n  <tbody>\n    <tr>\n      <th>0</th>\n      <td>Alimentação</td>\n      <td>470.26</td>\n      <td>682.91</td>\n      <td>965.76</td>\n      <td>1183.04</td>\n      <td>1511.11</td>\n      <td>2111.32</td>\n    </tr>\n    <tr>\n      <th>1</th>\n      <td>Habitação</td>\n      <td>817.04</td>\n      <td>1148.45</td>\n      <td>1658.10</td>\n      <td>2278.54</td>\n      <td>3102.18</td>\n      <td>4744.36</td>\n    </tr>\n    <tr>\n      <th>2</th>\n      <td>Aluguel</td>\n      <td>423.40</td>\n      <td>581.47</td>\n      <td>799.82</td>\n      <td>1098.35</td>\n      <td>1430.00</td>\n      <td>2098.02</td>\n    </tr>\n    <tr>\n      <th>...</th>\n      <td>...</td>\n      <td>...</td>\n      <td>...</td>\n      <td>...</td>\n      <td>...</td>\n      <td>...</td>\n      <td>...</td>\n    </tr>\n    <tr>\n      <th>89</th>\n      <td>Prestação de imóvel</td>\n      <td>13.36</td>\n      <td>26.47</td>\n      <td>97.15</td>\n      <td>86.72</td>\n      <td>236.52</td>\n      <td>412.36</td>\n    </tr>\n    <tr>\n      <th>90</th>\n      <td>Número de famílias</td>\n      <td>1478894.00</td>\n      <td>2470800.00</td>\n      <td>1092145.00</td>\n      <td>384637.00</td>\n      <td>207088.00</td>\n      <td>123662.00</td>\n    </tr>\n    <tr>\n      <th>91</th>\n      <td>Tamanho médio da família</td>\n      <td>2.69</td>\n      <td>3.13</td>\n      <td>3.48</td>\n      <td>3.11</td>\n      <td>2.93</td>\n      <td>3.02</td>\n    </tr>\n  </tbody>\n</table>\n<p>92 rows × 7 columns</p>\n</div>"
     },
     "metadata": {},
     "execution_count": 8
    }
   ],
   "source": [
    "df_despesas"
   ]
  },
  {
   "cell_type": "code",
   "execution_count": 9,
   "metadata": {},
   "outputs": [],
   "source": [
    "df_despesas = retorna_dataset_com_soma_colunas_classes_sociais(df_despesas)"
   ]
  },
  {
   "cell_type": "code",
   "execution_count": 10,
   "metadata": {},
   "outputs": [
    {
     "output_type": "execute_result",
     "data": {
      "text/plain": [
       "   Tipos de despesa, número e tamanho médio das famílias Até 1908 (2)  \\\n",
       "0                                         Alimentação          470.26   \n",
       "1                                           Habitação          817.04   \n",
       "2                                             Aluguel          423.40   \n",
       "..                                                ...             ...   \n",
       "90                                 Número de famílias      1478894.00   \n",
       "91                           Tamanho médio da família            2.69   \n",
       "92                            Total gasto por classes         4723.72   \n",
       "\n",
       "   Mais de 1908 a 2862 Mais de 2862 a 5724 Mais de 5724 a 9540  \\\n",
       "0               682.91              965.76             1183.04   \n",
       "1              1148.45             1658.10             2278.54   \n",
       "2               581.47              799.82             1098.35   \n",
       "..                 ...                 ...                 ...   \n",
       "90          2470800.00          1092145.00           384637.00   \n",
       "91                3.13                3.48                3.11   \n",
       "92             7618.75            13440.48            19663.04   \n",
       "\n",
       "   Mais de 9540 a 14310 Mais de 14310 a 23850  \n",
       "0               1511.11               2111.32  \n",
       "1               3102.18               4744.36  \n",
       "2               1430.00               2098.02  \n",
       "..                  ...                   ...  \n",
       "90            207088.00             123662.00  \n",
       "91                 2.93                  3.02  \n",
       "92             29365.22              48634.53  \n",
       "\n",
       "[93 rows x 7 columns]"
      ],
      "text/html": "<div>\n<style scoped>\n    .dataframe tbody tr th:only-of-type {\n        vertical-align: middle;\n    }\n\n    .dataframe tbody tr th {\n        vertical-align: top;\n    }\n\n    .dataframe thead th {\n        text-align: right;\n    }\n</style>\n<table border=\"1\" class=\"dataframe\">\n  <thead>\n    <tr style=\"text-align: right;\">\n      <th></th>\n      <th>Tipos de despesa, número e tamanho médio das famílias</th>\n      <th>Até 1908 (2)</th>\n      <th>Mais de 1908 a 2862</th>\n      <th>Mais de 2862 a 5724</th>\n      <th>Mais de 5724 a 9540</th>\n      <th>Mais de 9540 a 14310</th>\n      <th>Mais de 14310 a 23850</th>\n    </tr>\n  </thead>\n  <tbody>\n    <tr>\n      <th>0</th>\n      <td>Alimentação</td>\n      <td>470.26</td>\n      <td>682.91</td>\n      <td>965.76</td>\n      <td>1183.04</td>\n      <td>1511.11</td>\n      <td>2111.32</td>\n    </tr>\n    <tr>\n      <th>1</th>\n      <td>Habitação</td>\n      <td>817.04</td>\n      <td>1148.45</td>\n      <td>1658.10</td>\n      <td>2278.54</td>\n      <td>3102.18</td>\n      <td>4744.36</td>\n    </tr>\n    <tr>\n      <th>2</th>\n      <td>Aluguel</td>\n      <td>423.40</td>\n      <td>581.47</td>\n      <td>799.82</td>\n      <td>1098.35</td>\n      <td>1430.00</td>\n      <td>2098.02</td>\n    </tr>\n    <tr>\n      <th>...</th>\n      <td>...</td>\n      <td>...</td>\n      <td>...</td>\n      <td>...</td>\n      <td>...</td>\n      <td>...</td>\n      <td>...</td>\n    </tr>\n    <tr>\n      <th>90</th>\n      <td>Número de famílias</td>\n      <td>1478894.00</td>\n      <td>2470800.00</td>\n      <td>1092145.00</td>\n      <td>384637.00</td>\n      <td>207088.00</td>\n      <td>123662.00</td>\n    </tr>\n    <tr>\n      <th>91</th>\n      <td>Tamanho médio da família</td>\n      <td>2.69</td>\n      <td>3.13</td>\n      <td>3.48</td>\n      <td>3.11</td>\n      <td>2.93</td>\n      <td>3.02</td>\n    </tr>\n    <tr>\n      <th>92</th>\n      <td>Total gasto por classes</td>\n      <td>4723.72</td>\n      <td>7618.75</td>\n      <td>13440.48</td>\n      <td>19663.04</td>\n      <td>29365.22</td>\n      <td>48634.53</td>\n    </tr>\n  </tbody>\n</table>\n<p>93 rows × 7 columns</p>\n</div>"
     },
     "metadata": {},
     "execution_count": 10
    }
   ],
   "source": [
    "df_despesas"
   ]
  },
  {
   "source": [
    "# Parte de predição"
   ],
   "cell_type": "markdown",
   "metadata": {}
  },
  {
   "cell_type": "code",
   "execution_count": 11,
   "metadata": {},
   "outputs": [],
   "source": [
    "def converter_valores_para_porcentagem(item, total):\n",
    "    return round((item/total), 5)"
   ]
  },
  {
   "cell_type": "code",
   "execution_count": 12,
   "metadata": {},
   "outputs": [],
   "source": [
    "df_despesas.iloc[0:-3, 1] = df_despesas.iloc[0:-3, 1].apply(converter_valores_para_porcentagem, args=(df_despesas.iloc[-1, 1],))\n",
    "df_despesas.iloc[0:-3, 2] = df_despesas.iloc[0:-3, 2].apply(converter_valores_para_porcentagem, args=(df_despesas.iloc[-1, 2],))\n",
    "df_despesas.iloc[0:-3, 3] = df_despesas.iloc[0:-3, 3].apply(converter_valores_para_porcentagem, args=(df_despesas.iloc[-1, 3],))\n",
    "df_despesas.iloc[0:-3, 4] = df_despesas.iloc[0:-3, 4].apply(converter_valores_para_porcentagem, args=(df_despesas.iloc[-1, 4],))\n",
    "df_despesas.iloc[0:-3, 5] = df_despesas.iloc[0:-3, 5].apply(converter_valores_para_porcentagem, args=(df_despesas.iloc[-1, 5],))\n",
    "df_despesas.iloc[0:-3, 6] = df_despesas.iloc[0:-3, 6].apply(converter_valores_para_porcentagem, args=(df_despesas.iloc[-1, 6],))"
   ]
  },
  {
   "cell_type": "code",
   "execution_count": 13,
   "metadata": {},
   "outputs": [],
   "source": [
    "df_despesas.iloc[-1, 1:] = 1"
   ]
  },
  {
   "cell_type": "code",
   "execution_count": 14,
   "metadata": {},
   "outputs": [
    {
     "output_type": "execute_result",
     "data": {
      "text/plain": [
       "   Tipos de despesa, número e tamanho médio das famílias Até 1908 (2)  \\\n",
       "0                                         Alimentação            0.10   \n",
       "1                                           Habitação            0.17   \n",
       "2                                             Aluguel            0.09   \n",
       "..                                                ...             ...   \n",
       "90                                 Número de famílias      1478894.00   \n",
       "91                           Tamanho médio da família            2.69   \n",
       "92                            Total gasto por classes               1   \n",
       "\n",
       "   Mais de 1908 a 2862 Mais de 2862 a 5724 Mais de 5724 a 9540  \\\n",
       "0                 0.09                0.07                0.06   \n",
       "1                 0.15                0.12                0.12   \n",
       "2                 0.08                0.06                0.06   \n",
       "..                 ...                 ...                 ...   \n",
       "90          2470800.00          1092145.00           384637.00   \n",
       "91                3.13                3.48                3.11   \n",
       "92                   1                   1                   1   \n",
       "\n",
       "   Mais de 9540 a 14310 Mais de 14310 a 23850  \n",
       "0                  0.05                  0.04  \n",
       "1                  0.11                  0.10  \n",
       "2                  0.05                  0.04  \n",
       "..                  ...                   ...  \n",
       "90            207088.00             123662.00  \n",
       "91                 2.93                  3.02  \n",
       "92                    1                     1  \n",
       "\n",
       "[93 rows x 7 columns]"
      ],
      "text/html": "<div>\n<style scoped>\n    .dataframe tbody tr th:only-of-type {\n        vertical-align: middle;\n    }\n\n    .dataframe tbody tr th {\n        vertical-align: top;\n    }\n\n    .dataframe thead th {\n        text-align: right;\n    }\n</style>\n<table border=\"1\" class=\"dataframe\">\n  <thead>\n    <tr style=\"text-align: right;\">\n      <th></th>\n      <th>Tipos de despesa, número e tamanho médio das famílias</th>\n      <th>Até 1908 (2)</th>\n      <th>Mais de 1908 a 2862</th>\n      <th>Mais de 2862 a 5724</th>\n      <th>Mais de 5724 a 9540</th>\n      <th>Mais de 9540 a 14310</th>\n      <th>Mais de 14310 a 23850</th>\n    </tr>\n  </thead>\n  <tbody>\n    <tr>\n      <th>0</th>\n      <td>Alimentação</td>\n      <td>0.10</td>\n      <td>0.09</td>\n      <td>0.07</td>\n      <td>0.06</td>\n      <td>0.05</td>\n      <td>0.04</td>\n    </tr>\n    <tr>\n      <th>1</th>\n      <td>Habitação</td>\n      <td>0.17</td>\n      <td>0.15</td>\n      <td>0.12</td>\n      <td>0.12</td>\n      <td>0.11</td>\n      <td>0.10</td>\n    </tr>\n    <tr>\n      <th>2</th>\n      <td>Aluguel</td>\n      <td>0.09</td>\n      <td>0.08</td>\n      <td>0.06</td>\n      <td>0.06</td>\n      <td>0.05</td>\n      <td>0.04</td>\n    </tr>\n    <tr>\n      <th>...</th>\n      <td>...</td>\n      <td>...</td>\n      <td>...</td>\n      <td>...</td>\n      <td>...</td>\n      <td>...</td>\n      <td>...</td>\n    </tr>\n    <tr>\n      <th>90</th>\n      <td>Número de famílias</td>\n      <td>1478894.00</td>\n      <td>2470800.00</td>\n      <td>1092145.00</td>\n      <td>384637.00</td>\n      <td>207088.00</td>\n      <td>123662.00</td>\n    </tr>\n    <tr>\n      <th>91</th>\n      <td>Tamanho médio da família</td>\n      <td>2.69</td>\n      <td>3.13</td>\n      <td>3.48</td>\n      <td>3.11</td>\n      <td>2.93</td>\n      <td>3.02</td>\n    </tr>\n    <tr>\n      <th>92</th>\n      <td>Total gasto por classes</td>\n      <td>1</td>\n      <td>1</td>\n      <td>1</td>\n      <td>1</td>\n      <td>1</td>\n      <td>1</td>\n    </tr>\n  </tbody>\n</table>\n<p>93 rows × 7 columns</p>\n</div>"
     },
     "metadata": {},
     "execution_count": 14
    }
   ],
   "source": [
    "df_despesas"
   ]
  },
  {
   "cell_type": "code",
   "execution_count": null,
   "metadata": {},
   "outputs": [],
   "source": []
  }
 ]
}