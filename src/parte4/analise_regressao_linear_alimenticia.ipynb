{
 "metadata": {
  "language_info": {
   "codemirror_mode": {
    "name": "ipython",
    "version": 3
   },
   "file_extension": ".py",
   "mimetype": "text/x-python",
   "name": "python",
   "nbconvert_exporter": "python",
   "pygments_lexer": "ipython3",
   "version": "3.8.6-final"
  },
  "orig_nbformat": 2,
  "kernelspec": {
   "name": "python38664bitambientetpcc5dd72b41aa4d0e91520a9822110078",
   "display_name": "Python 3.8.6 64-bit ('AmbienteTP')",
   "language": "python"
  }
 },
 "nbformat": 4,
 "nbformat_minor": 2,
 "cells": [
  {
   "cell_type": "code",
   "execution_count": 1,
   "metadata": {},
   "outputs": [],
   "source": [
    "from funcoes_auxiliares import *\n",
    "\n",
    "from sklearn.linear_model import LinearRegression\n",
    "\n",
    "pd.options.display.float_format = \"{:.2f}\".format\n",
    "pd.options.display.max_rows = 6"
   ]
  },
  {
   "cell_type": "code",
   "execution_count": 2,
   "metadata": {},
   "outputs": [],
   "source": [
    "lista_estados = [\"AC\", \"AL\", \"AM\", \"AP\", \"BA\", \"CE\", \"DF\", \"ES\", \"GO\", \"MA\", \"MT\", \"MS\", \"MG\", \"PA\", \"PB\", \"PR\", \"PE\", \"PI\", \"RJ\", \"RN\", \"RO\", \"RS\", \"RR\", \"SC\", \"SE\", \"SP\", \"TO\"]"
   ]
  },
  {
   "cell_type": "code",
   "execution_count": 3,
   "metadata": {},
   "outputs": [],
   "source": [
    "df_estados_brasil = None"
   ]
  },
  {
   "cell_type": "code",
   "execution_count": 4,
   "metadata": {},
   "outputs": [],
   "source": [
    "for i, estado in enumerate(lista_estados):\n",
    "    nome_arquivo_despesas = \"../dados-limpos/aquisicao_por_classe_de_rendimento_e_estado/%s/dados-limpos/%s_alimentacao.csv\" % (estado, estado)\n",
    "    df_despesas = carregar_df_despesas_gerais(nome_arquivo_despesas)\n",
    "    df_invertido = df_despesas_gerais_invertido(df_despesas, estado, False)\n",
    "    if(i == 0):\n",
    "        df_estados_brasil = df_invertido\n",
    "    else:\n",
    "        df_estados_brasil = pd.concat([df_estados_brasil, df_invertido])"
   ]
  },
  {
   "cell_type": "code",
   "execution_count": 5,
   "metadata": {},
   "outputs": [],
   "source": [
    "df_estados_brasil.reset_index(drop=True, inplace=True)"
   ]
  },
  {
   "cell_type": "code",
   "execution_count": 6,
   "metadata": {},
   "outputs": [
    {
     "output_type": "execute_result",
     "data": {
      "text/plain": [
       "    Arroz Feijão Orgânicos Outros Farinhas, féculas e massas Macarrão  \\\n",
       "0   18.14   5.94      0.00   4.74                      15.38     3.94   \n",
       "1   22.45   5.17      0.00   3.59                      25.21     5.36   \n",
       "2   16.37   3.85      0.00   3.47                      21.31     1.88   \n",
       "..    ...    ...       ...    ...                        ...      ...   \n",
       "159 38.79   3.52      0.00   0.70                      21.68     1.63   \n",
       "160 17.37   2.08      0.00   0.17                      25.58     5.93   \n",
       "161 51.45  20.18      0.00   0.00                      38.20     1.61   \n",
       "\n",
       "    Farinha de trigo Farinha de mandioca Outras Tubérculos e raízes  ...  \\\n",
       "0               0.63                6.34   4.48                6.29  ...   \n",
       "1               1.21               12.16   6.47                7.29  ...   \n",
       "2               0.79                7.29  11.35                2.90  ...   \n",
       "..               ...                 ...    ...                 ...  ...   \n",
       "159             3.74               12.14   4.17                4.06  ...   \n",
       "160             0.00                2.66  16.99                4.02  ...   \n",
       "161             0.00                0.00  36.59                5.70  ...   \n",
       "\n",
       "    Sanduíches e salgados Refrigerantes e outras bebidas não alcoólicas  \\\n",
       "0                   13.77                                         17.68   \n",
       "1                   18.73                                         19.62   \n",
       "2                   36.30                                         20.60   \n",
       "..                    ...                                           ...   \n",
       "159                  3.30                                          3.31   \n",
       "160                  8.95                                          1.21   \n",
       "161                  2.43                                          1.72   \n",
       "\n",
       "    Lanches Cervejas, chopes e outras bebidas alcoólicas  \\\n",
       "0     17.83                                         6.52   \n",
       "1     21.96                                         8.08   \n",
       "2     24.62                                        26.27   \n",
       "..      ...                                          ...   \n",
       "159    0.00                                        40.45   \n",
       "160    0.00                                         0.00   \n",
       "161    0.00                                         0.00   \n",
       "\n",
       "    Alimentação light e diet Outras Tamanho médio da família  \\\n",
       "0                       0.00  18.07                     3.72   \n",
       "1                       0.00  11.82                     4.07   \n",
       "2                       0.17  40.23                     3.99   \n",
       "..                       ...    ...                      ...   \n",
       "159                     0.00   4.92                     3.48   \n",
       "160                     0.00   7.88                     3.43   \n",
       "161                     0.00   0.00                     3.01   \n",
       "\n",
       "    Total gasto por classes Estado          Classe social  \n",
       "0                   1132.05     AC           Até 1908 (2)  \n",
       "1                   1443.81     AC    Mais de 1908 a 2862  \n",
       "2                   1578.39     AC    Mais de 2862 a 5724  \n",
       "..                      ...    ...                    ...  \n",
       "159                 1245.30     TO    Mais de 5724 a 9540  \n",
       "160                 1239.49     TO   Mais de 9540 a 14310  \n",
       "161                 1339.79     TO  Mais de 14310 a 23850  \n",
       "\n",
       "[162 rows x 85 columns]"
      ],
      "text/html": "<div>\n<style scoped>\n    .dataframe tbody tr th:only-of-type {\n        vertical-align: middle;\n    }\n\n    .dataframe tbody tr th {\n        vertical-align: top;\n    }\n\n    .dataframe thead th {\n        text-align: right;\n    }\n</style>\n<table border=\"1\" class=\"dataframe\">\n  <thead>\n    <tr style=\"text-align: right;\">\n      <th></th>\n      <th>Arroz</th>\n      <th>Feijão</th>\n      <th>Orgânicos</th>\n      <th>Outros</th>\n      <th>Farinhas, féculas e massas</th>\n      <th>Macarrão</th>\n      <th>Farinha de trigo</th>\n      <th>Farinha de mandioca</th>\n      <th>Outras</th>\n      <th>Tubérculos e raízes</th>\n      <th>...</th>\n      <th>Sanduíches e salgados</th>\n      <th>Refrigerantes e outras bebidas não alcoólicas</th>\n      <th>Lanches</th>\n      <th>Cervejas, chopes e outras bebidas alcoólicas</th>\n      <th>Alimentação light e diet</th>\n      <th>Outras</th>\n      <th>Tamanho médio da família</th>\n      <th>Total gasto por classes</th>\n      <th>Estado</th>\n      <th>Classe social</th>\n    </tr>\n  </thead>\n  <tbody>\n    <tr>\n      <th>0</th>\n      <td>18.14</td>\n      <td>5.94</td>\n      <td>0.00</td>\n      <td>4.74</td>\n      <td>15.38</td>\n      <td>3.94</td>\n      <td>0.63</td>\n      <td>6.34</td>\n      <td>4.48</td>\n      <td>6.29</td>\n      <td>...</td>\n      <td>13.77</td>\n      <td>17.68</td>\n      <td>17.83</td>\n      <td>6.52</td>\n      <td>0.00</td>\n      <td>18.07</td>\n      <td>3.72</td>\n      <td>1132.05</td>\n      <td>AC</td>\n      <td>Até 1908 (2)</td>\n    </tr>\n    <tr>\n      <th>1</th>\n      <td>22.45</td>\n      <td>5.17</td>\n      <td>0.00</td>\n      <td>3.59</td>\n      <td>25.21</td>\n      <td>5.36</td>\n      <td>1.21</td>\n      <td>12.16</td>\n      <td>6.47</td>\n      <td>7.29</td>\n      <td>...</td>\n      <td>18.73</td>\n      <td>19.62</td>\n      <td>21.96</td>\n      <td>8.08</td>\n      <td>0.00</td>\n      <td>11.82</td>\n      <td>4.07</td>\n      <td>1443.81</td>\n      <td>AC</td>\n      <td>Mais de 1908 a 2862</td>\n    </tr>\n    <tr>\n      <th>2</th>\n      <td>16.37</td>\n      <td>3.85</td>\n      <td>0.00</td>\n      <td>3.47</td>\n      <td>21.31</td>\n      <td>1.88</td>\n      <td>0.79</td>\n      <td>7.29</td>\n      <td>11.35</td>\n      <td>2.90</td>\n      <td>...</td>\n      <td>36.30</td>\n      <td>20.60</td>\n      <td>24.62</td>\n      <td>26.27</td>\n      <td>0.17</td>\n      <td>40.23</td>\n      <td>3.99</td>\n      <td>1578.39</td>\n      <td>AC</td>\n      <td>Mais de 2862 a 5724</td>\n    </tr>\n    <tr>\n      <th>...</th>\n      <td>...</td>\n      <td>...</td>\n      <td>...</td>\n      <td>...</td>\n      <td>...</td>\n      <td>...</td>\n      <td>...</td>\n      <td>...</td>\n      <td>...</td>\n      <td>...</td>\n      <td>...</td>\n      <td>...</td>\n      <td>...</td>\n      <td>...</td>\n      <td>...</td>\n      <td>...</td>\n      <td>...</td>\n      <td>...</td>\n      <td>...</td>\n      <td>...</td>\n      <td>...</td>\n    </tr>\n    <tr>\n      <th>159</th>\n      <td>38.79</td>\n      <td>3.52</td>\n      <td>0.00</td>\n      <td>0.70</td>\n      <td>21.68</td>\n      <td>1.63</td>\n      <td>3.74</td>\n      <td>12.14</td>\n      <td>4.17</td>\n      <td>4.06</td>\n      <td>...</td>\n      <td>3.30</td>\n      <td>3.31</td>\n      <td>0.00</td>\n      <td>40.45</td>\n      <td>0.00</td>\n      <td>4.92</td>\n      <td>3.48</td>\n      <td>1245.30</td>\n      <td>TO</td>\n      <td>Mais de 5724 a 9540</td>\n    </tr>\n    <tr>\n      <th>160</th>\n      <td>17.37</td>\n      <td>2.08</td>\n      <td>0.00</td>\n      <td>0.17</td>\n      <td>25.58</td>\n      <td>5.93</td>\n      <td>0.00</td>\n      <td>2.66</td>\n      <td>16.99</td>\n      <td>4.02</td>\n      <td>...</td>\n      <td>8.95</td>\n      <td>1.21</td>\n      <td>0.00</td>\n      <td>0.00</td>\n      <td>0.00</td>\n      <td>7.88</td>\n      <td>3.43</td>\n      <td>1239.49</td>\n      <td>TO</td>\n      <td>Mais de 9540 a 14310</td>\n    </tr>\n    <tr>\n      <th>161</th>\n      <td>51.45</td>\n      <td>20.18</td>\n      <td>0.00</td>\n      <td>0.00</td>\n      <td>38.20</td>\n      <td>1.61</td>\n      <td>0.00</td>\n      <td>0.00</td>\n      <td>36.59</td>\n      <td>5.70</td>\n      <td>...</td>\n      <td>2.43</td>\n      <td>1.72</td>\n      <td>0.00</td>\n      <td>0.00</td>\n      <td>0.00</td>\n      <td>0.00</td>\n      <td>3.01</td>\n      <td>1339.79</td>\n      <td>TO</td>\n      <td>Mais de 14310 a 23850</td>\n    </tr>\n  </tbody>\n</table>\n<p>162 rows × 85 columns</p>\n</div>"
     },
     "metadata": {},
     "execution_count": 6
    }
   ],
   "source": [
    "df_estados_brasil"
   ]
  },
  {
   "cell_type": "code",
   "execution_count": 7,
   "metadata": {},
   "outputs": [],
   "source": [
    "classes_sociais = [\"Até 1908 (2)\", \"Mais de 1908 a 2862\", \"Mais de 2862 a 5724\", \"Mais de 5724 a 9540\", \"Mais de 9540 a 14310\", \"Mais de 14310 a 23850\"]"
   ]
  },
  {
   "source": [
    "## Análise de regressão linear"
   ],
   "cell_type": "markdown",
   "metadata": {}
  },
  {
   "cell_type": "code",
   "execution_count": 8,
   "metadata": {},
   "outputs": [],
   "source": [
    "def regressao_linear_classes_sociais(df, classe_social):\n",
    "\n",
    "    lista_colunas_afetam_valor_total = df.columns[:-3]\n",
    "\n",
    "    X = df[df['Classe social'] == classe_social][lista_colunas_afetam_valor_total]\n",
    "    Y = df[df['Classe social'] == classe_social][\"Total gasto por classes\"]\n",
    "\n",
    "    lm = LinearRegression()\n",
    "    lm.fit(X, Y)\n",
    "\n",
    "    r2 = lm.score(X.values, Y)\n",
    "\n",
    "    print(\"Coeficiente estimado:\", lm.coef_)\n",
    "    print(\"\\nR2 (score):\", r2)\n",
    "\n",
    "    print(\"\\nIntercept: %.5f\" % lm.intercept_)\n",
    "\n",
    "    equacao_str = \"\"\n",
    "    for coef, feat in zip(lm.coef_,lista_colunas_afetam_valor_total):\n",
    "        equacao_str += \" + (%.5f * '%s')\" % (coef, feat)\n",
    "\n",
    "    print(\"\\nEquação do 'valor-mensal' em termos de todos os atributos analisados:\\n\\n  f(x) = %.5f%s\" % (lm.intercept_, equacao_str))\n",
    "\n",
    "    print(\"\\nCoeficiente de determinação é: %.5f, ou seja, %.5f%% do 'valor-mensal' não é explicada pelos atributos utilizados\" % (r2, (1-r2)*100))"
   ]
  },
  {
   "source": [
    "### Até 1908 (2)"
   ],
   "cell_type": "markdown",
   "metadata": {}
  },
  {
   "cell_type": "code",
   "execution_count": 9,
   "metadata": {},
   "outputs": [
    {
     "output_type": "stream",
     "name": "stdout",
     "text": [
      "Coeficiente estimado: [ 1.01706171e+00  6.89806395e-01 -1.12197735e-03 -1.24655816e-03\n  7.67268514e-03 -5.20695563e-02  1.77878393e-01  1.44785761e-01\n  6.59923690e-02  5.89073263e-02  6.43813833e-02  3.11049068e-01\n -1.75648957e-03  1.61485318e-01  9.53992780e-01  3.52430270e-01\n -9.75842340e-03  2.55084402e-01  3.55235951e-01  2.02316390e-01\n  2.26040714e-01  3.67536396e-01  2.55941839e-01  3.34376789e-02\n -9.89594443e-02 -5.20695563e-02  1.77878393e-01  1.44785761e-01\n  6.59923690e-02  5.89073263e-02  6.43813833e-02  3.11049068e-01\n -1.75648957e-03  1.61485318e-01  1.16040646e+00  7.69362686e-01\n  2.41400158e-01  6.53983013e-03  4.19550699e-03  1.32759301e-03\n -5.20695563e-02  1.77878393e-01  1.44785761e-01  6.59923690e-02\n  5.89073263e-02  6.43813833e-02  3.11049068e-01 -1.75648957e-03\n  1.61485318e-01  5.48090351e-01  3.52470927e-01  1.22464458e-01\n  5.38909257e-03 -5.20695563e-02  1.77878393e-01  1.44785761e-01\n  6.59923690e-02  5.89073263e-02  6.43813833e-02  3.11049068e-01\n -1.75648957e-03  1.61485318e-01  1.20219642e+00  1.61354847e-01\n  1.57726524e-01  1.77789500e-01  7.06769086e-01  2.02538150e+00\n  5.57175602e-01  1.21705964e-01  7.48586516e-01  6.77369403e-01\n -1.37902561e-01 -5.20695563e-02  1.77878393e-01  1.44785761e-01\n  6.59923690e-02  5.89073263e-02  6.43813833e-02  3.11049068e-01\n -1.75648957e-03  1.61485318e-01  1.07454717e+00  7.53701547e-01\n  2.58030936e-01 -1.12197735e-03 -1.24655816e-03  7.67268514e-03\n -5.20695563e-02  1.77878393e-01  1.44785761e-01  6.59923690e-02\n  5.89073263e-02  6.43813833e-02  3.11049068e-01 -1.75648957e-03\n  1.61485318e-01  1.47015507e+00  1.35085068e-02  4.30829758e-01\n  7.03298973e-01  6.53983013e-03  4.19550699e-03  1.32759301e-03\n -1.12197735e-03 -1.24655816e-03  7.67268514e-03 -5.20695563e-02\n  1.77878393e-01  1.44785761e-01  6.59923690e-02  5.89073263e-02\n  6.43813833e-02  3.11049068e-01 -1.75648957e-03  1.61485318e-01\n  1.42930726e+00  1.01713937e+00  3.12064662e-03  6.53983013e-03\n  4.19550699e-03  1.32759301e-03  4.05810419e-01  6.15986165e-01\n  5.27712036e-01  9.12547603e-02 -5.20695563e-02  1.77878393e-01\n  1.44785761e-01  6.59923690e-02  5.89073263e-02  6.43813833e-02\n  3.11049068e-01 -1.75648957e-03  1.61485318e-01  1.47819491e+00\n  8.58382754e-01  3.19250063e-01  1.74506177e-02  5.83582495e-02\n  2.45124169e-02  3.55235951e-01  2.02316390e-01  2.26040714e-01\n -1.55226527e-01  3.21394189e-01  6.74633819e-02  4.10383026e-02\n  5.14668406e-02 -5.20695563e-02  1.77878393e-01  1.44785761e-01\n  6.59923690e-02  5.89073263e-02  6.43813833e-02  3.11049068e-01\n -1.75648957e-03  1.61485318e-01  6.17366398e-01  8.43590714e-01\n  1.52387805e+00  6.70629417e-01 -5.42534424e-02 -3.33947250e-01\n  1.15852948e-01  2.55781563e-01  6.53314250e-01 -8.42718326e-03\n  3.55235951e-01  2.02316390e-01  2.26040714e-01 -2.97693439e-02]\n\nR2 (score): 1.0\n\nIntercept: 13.33700\n\nEquação do 'valor-mensal' em termos de todos os atributos analisados:\n\n  f(x) = 13.33700 + (1.01706 * 'Arroz') + (0.68981 * 'Feijão') + (-0.00112 * 'Orgânicos') + (-0.00125 * 'Outros') + (0.00767 * 'Farinhas, féculas e massas') + (-0.05207 * 'Macarrão') + (0.17788 * 'Farinha de trigo') + (0.14479 * 'Farinha de mandioca') + (0.06599 * 'Outras') + (0.05891 * 'Tubérculos e raízes') + (0.06438 * 'Batata inglesa') + (0.31105 * 'Cenoura') + (-0.00176 * 'Mandioca') + (0.16149 * 'Outros') + (0.95399 * 'Açúcares e derivados') + (0.35243 * 'Açúcar refinado') + (-0.00976 * 'Açúcar cristal') + (0.25508 * 'Light e diet') + (0.35524 * 'Outros') + (0.20232 * 'Legumes e verduras') + (0.22604 * 'Tomate') + (0.36754 * 'Cebola') + (0.25594 * 'Alface') + (0.03344 * 'Outros') + (-0.09896 * 'Frutas') + (-0.05207 * 'Banana') + (0.17788 * 'Laranja') + (0.14479 * 'Maçã') + (0.06599 * 'Outras frutas') + (0.05891 * 'Carnes, vísceras e pescados') + (0.06438 * 'Carne de boi de primeira') + (0.31105 * 'Carne de boi de segunda') + (-0.00176 * 'Carne de suíno') + (0.16149 * 'Carnes e peixes industrializados') + (1.16041 * 'Pescados frescos') + (0.76936 * 'Outros') + (0.24140 * 'Aves e ovos') + (0.00654 * 'Frango') + (0.00420 * 'Ovo de galinha') + (0.00133 * 'Orgânicos') + (-0.05207 * 'Outros') + (0.17788 * 'Leites e derivados') + (0.14479 * 'Leite de vaca') + (0.06599 * 'Leite em pó') + (0.05891 * 'Queijos') + (0.06438 * 'Light e diet') + (0.31105 * 'Orgânicos') + (-0.00176 * 'Outros') + (0.16149 * 'Panificados') + (0.54809 * 'Pão francês') + (0.35247 * 'Biscoito') + (0.12246 * 'Light e diet') + (0.00539 * 'Outros panificados') + (-0.05207 * 'Óleos e gorduras') + (0.17788 * 'Óleo de soja') + (0.14479 * 'Azeite de oliva') + (0.06599 * 'Outros') + (0.05891 * 'Bebidas e infusões') + (0.06438 * 'Café moído') + (0.31105 * 'Refrigerantes') + (-0.00176 * 'Bebidas não alcoólicas light e diet') + (0.16149 * 'Cervejas e chopes') + (1.20220 * 'Outras bebidas alcoólicas') + (0.16135 * 'Outras') + (0.15773 * 'Enlatados e conservas') + (0.17779 * 'Sal e condimentos') + (0.70677 * 'Massa de tomate') + (2.02538 * 'Maionese') + (0.55718 * 'Sal refinado') + (0.12171 * 'Outros') + (0.74859 * 'Alimentos preparados') + (0.67737 * 'Outros alimentos') + (-0.13790 * 'Alimentação fora do domicílio') + (-0.05207 * 'Almoço e jantar') + (0.17788 * 'Café, leite, café/leite e chocolate') + (0.14479 * 'Sanduíches e salgados') + (0.06599 * 'Refrigerantes e outras bebidas não alcoólicas') + (0.05891 * 'Lanches') + (0.06438 * 'Cervejas, chopes e outras bebidas alcoólicas') + (0.31105 * 'Alimentação light e diet') + (-0.00176 * 'Outras') + (0.16149 * 'Tamanho médio da família')\n\nCoeficiente de determinação é: 1.00000, ou seja, 0.00000% do 'valor-mensal' não é explicada pelos atributos utilizados\n"
     ]
    }
   ],
   "source": [
    "regressao_linear_classes_sociais(df_estados_brasil, classes_sociais[0])"
   ]
  },
  {
   "source": [
    "### Mais de 1908 a 2862"
   ],
   "cell_type": "markdown",
   "metadata": {}
  },
  {
   "cell_type": "code",
   "execution_count": 10,
   "metadata": {},
   "outputs": [
    {
     "output_type": "stream",
     "name": "stdout",
     "text": [
      "Coeficiente estimado: [ 4.60236412e-01  7.53581878e-01 -7.89906987e-03  1.32502534e-02\n  1.64097263e-02  3.73763465e-03  2.19723817e-01  3.07711748e-01\n  5.97520508e-02  1.64254610e-02 -2.51886465e-02  2.89123563e-01\n -1.84335549e-03 -5.14270419e-02  6.59017364e-01  1.45010152e-01\n  2.46507515e-01  1.08013478e-02  2.56109276e-01  1.36384449e-01\n  3.44610119e-01  4.46493310e-01  1.61439208e-01  8.37434515e-02\n -1.99547974e-02  3.73763465e-03  2.19723817e-01  3.07711748e-01\n  5.97520508e-02  1.64254610e-02 -2.51886465e-02  2.89123563e-01\n -1.84335549e-03 -5.14270419e-02  1.01391683e+00  6.71899572e-01\n -3.98635138e-02  7.04957417e-02  1.96284888e-01  1.13338071e-02\n  3.73763465e-03  2.19723817e-01  3.07711748e-01  5.97520508e-02\n  1.64254610e-02 -2.51886465e-02  2.89123563e-01 -1.84335549e-03\n -5.14270419e-02  4.72225399e-01  1.30052949e-01  2.31746384e-01\n  5.18904170e-02  3.73763465e-03  2.19723817e-01  3.07711748e-01\n  5.97520508e-02  1.64254610e-02 -2.51886465e-02  2.89123563e-01\n -1.84335549e-03 -5.14270419e-02  8.85918523e-01  3.47137921e-01\n  2.21671004e-01  1.46540117e-01  1.68917419e-01  2.27264740e+00\n  3.59092054e-01  1.11233148e-01  4.88536433e-01  7.57351510e-01\n  5.38231757e-01  3.73763465e-03  2.19723817e-01  3.07711748e-01\n  5.97520508e-02  1.64254610e-02 -2.51886465e-02  2.89123563e-01\n -1.84335549e-03 -5.14270419e-02  1.24730569e+00  7.57562631e-01\n  4.99002207e-01 -7.89906987e-03  1.32502534e-02  1.64097263e-02\n  3.73763465e-03  2.19723817e-01  3.07711748e-01  5.97520508e-02\n  1.64254610e-02 -2.51886465e-02  2.89123563e-01 -1.84335549e-03\n -5.14270419e-02  1.62277709e+00  1.07311642e-01  7.53751253e-01\n  2.59938833e-01  7.04957417e-02  1.96284888e-01  1.13338071e-02\n -7.89906987e-03  1.32502534e-02  1.64097263e-02  3.73763465e-03\n  2.19723817e-01  3.07711748e-01  5.97520508e-02  1.64254610e-02\n -2.51886465e-02  2.89123563e-01 -1.84335549e-03 -5.14270419e-02\n  1.56399314e+00  1.43581345e-01  8.55442209e-01  7.04957417e-02\n  1.96284888e-01  1.13338071e-02  5.52317862e-01  3.46118348e-01\n  3.33368707e-01  1.44383481e-02  3.73763465e-03  2.19723817e-01\n  3.07711748e-01  5.97520508e-02  1.64254610e-02 -2.51886465e-02\n  2.89123563e-01 -1.84335549e-03 -5.14270419e-02  1.33608197e+00\n  9.10508886e-02  1.05160118e-01  4.59126564e-02  5.73795064e-01\n  3.82008834e-01  2.56109276e-01  1.36384449e-01  3.44610119e-01\n  1.66337080e-01  5.87398136e-01  3.96959048e-01  2.29694273e-01\n  1.14175191e-02  3.73763465e-03  2.19723817e-01  3.07711748e-01\n  5.97520508e-02  1.64254610e-02 -2.51886465e-02  2.89123563e-01\n -1.84335549e-03 -5.14270419e-02  7.55373013e-01  8.40104809e-01\n  1.37007549e+00  8.41515805e-01 -1.90988653e-01 -5.04434858e-01\n -7.73003685e-02  7.66660613e-01  1.89873617e-01  7.15265532e-04\n  2.56109276e-01  1.36384449e-01  3.44610119e-01  2.81580770e-02]\n\nR2 (score): 1.0\n\nIntercept: 21.70495\n\nEquação do 'valor-mensal' em termos de todos os atributos analisados:\n\n  f(x) = 21.70495 + (0.46024 * 'Arroz') + (0.75358 * 'Feijão') + (-0.00790 * 'Orgânicos') + (0.01325 * 'Outros') + (0.01641 * 'Farinhas, féculas e massas') + (0.00374 * 'Macarrão') + (0.21972 * 'Farinha de trigo') + (0.30771 * 'Farinha de mandioca') + (0.05975 * 'Outras') + (0.01643 * 'Tubérculos e raízes') + (-0.02519 * 'Batata inglesa') + (0.28912 * 'Cenoura') + (-0.00184 * 'Mandioca') + (-0.05143 * 'Outros') + (0.65902 * 'Açúcares e derivados') + (0.14501 * 'Açúcar refinado') + (0.24651 * 'Açúcar cristal') + (0.01080 * 'Light e diet') + (0.25611 * 'Outros') + (0.13638 * 'Legumes e verduras') + (0.34461 * 'Tomate') + (0.44649 * 'Cebola') + (0.16144 * 'Alface') + (0.08374 * 'Outros') + (-0.01995 * 'Frutas') + (0.00374 * 'Banana') + (0.21972 * 'Laranja') + (0.30771 * 'Maçã') + (0.05975 * 'Outras frutas') + (0.01643 * 'Carnes, vísceras e pescados') + (-0.02519 * 'Carne de boi de primeira') + (0.28912 * 'Carne de boi de segunda') + (-0.00184 * 'Carne de suíno') + (-0.05143 * 'Carnes e peixes industrializados') + (1.01392 * 'Pescados frescos') + (0.67190 * 'Outros') + (-0.03986 * 'Aves e ovos') + (0.07050 * 'Frango') + (0.19628 * 'Ovo de galinha') + (0.01133 * 'Orgânicos') + (0.00374 * 'Outros') + (0.21972 * 'Leites e derivados') + (0.30771 * 'Leite de vaca') + (0.05975 * 'Leite em pó') + (0.01643 * 'Queijos') + (-0.02519 * 'Light e diet') + (0.28912 * 'Orgânicos') + (-0.00184 * 'Outros') + (-0.05143 * 'Panificados') + (0.47223 * 'Pão francês') + (0.13005 * 'Biscoito') + (0.23175 * 'Light e diet') + (0.05189 * 'Outros panificados') + (0.00374 * 'Óleos e gorduras') + (0.21972 * 'Óleo de soja') + (0.30771 * 'Azeite de oliva') + (0.05975 * 'Outros') + (0.01643 * 'Bebidas e infusões') + (-0.02519 * 'Café moído') + (0.28912 * 'Refrigerantes') + (-0.00184 * 'Bebidas não alcoólicas light e diet') + (-0.05143 * 'Cervejas e chopes') + (0.88592 * 'Outras bebidas alcoólicas') + (0.34714 * 'Outras') + (0.22167 * 'Enlatados e conservas') + (0.14654 * 'Sal e condimentos') + (0.16892 * 'Massa de tomate') + (2.27265 * 'Maionese') + (0.35909 * 'Sal refinado') + (0.11123 * 'Outros') + (0.48854 * 'Alimentos preparados') + (0.75735 * 'Outros alimentos') + (0.53823 * 'Alimentação fora do domicílio') + (0.00374 * 'Almoço e jantar') + (0.21972 * 'Café, leite, café/leite e chocolate') + (0.30771 * 'Sanduíches e salgados') + (0.05975 * 'Refrigerantes e outras bebidas não alcoólicas') + (0.01643 * 'Lanches') + (-0.02519 * 'Cervejas, chopes e outras bebidas alcoólicas') + (0.28912 * 'Alimentação light e diet') + (-0.00184 * 'Outras') + (-0.05143 * 'Tamanho médio da família')\n\nCoeficiente de determinação é: 1.00000, ou seja, 0.00000% do 'valor-mensal' não é explicada pelos atributos utilizados\n"
     ]
    }
   ],
   "source": [
    "regressao_linear_classes_sociais(df_estados_brasil, classes_sociais[1])"
   ]
  },
  {
   "source": [
    "### Mais de 2862 a 5724"
   ],
   "cell_type": "markdown",
   "metadata": {}
  },
  {
   "cell_type": "code",
   "execution_count": 11,
   "metadata": {},
   "outputs": [
    {
     "output_type": "stream",
     "name": "stdout",
     "text": [
      "Coeficiente estimado: [ 1.02623559e+00  6.33059104e-01 -3.93715003e-03  4.73594877e-03\n  4.66355289e-02  4.36269792e-02  3.96840290e-02  2.10569367e-01\n  2.90605738e-01  3.12358147e-02  7.96483371e-02  1.87907037e-01\n  5.66841273e-02  9.49787522e-02  7.32968080e-01  3.61404405e-01\n  4.72161557e-02 -1.36473861e-02  3.38120831e-01 -7.79055356e-04\n  1.78045144e-01  3.68677950e-01  1.46667883e-01  1.30676191e-01\n  4.93440650e-02  4.36269792e-02  3.96840290e-02  2.10569367e-01\n  2.90605738e-01  3.12358147e-02  7.96483371e-02  1.87907037e-01\n  5.66841273e-02  9.49787522e-02  5.46219210e-01  2.22724084e-01\n  1.02351051e-01  1.11218308e-02 -1.49149767e-01  4.85455305e-02\n  4.36269792e-02  3.96840290e-02  2.10569367e-01  2.90605738e-01\n  3.12358147e-02  7.96483371e-02  1.87907037e-01  5.66841273e-02\n  9.49787522e-02  9.56234548e-01  4.84970139e-01  1.07372790e-01\n  7.35666639e-02  4.36269792e-02  3.96840290e-02  2.10569367e-01\n  2.90605738e-01  3.12358147e-02  7.96483371e-02  1.87907037e-01\n  5.66841273e-02  9.49787522e-02  1.02318706e+00  4.10708521e-02\n -3.78120748e-03  3.20196782e-01  6.65759854e-01  1.74336127e+00\n  1.11016782e-02  1.04973578e-01  3.62751410e-01  6.41650524e-01\n  5.91217667e-01  4.36269792e-02  3.96840290e-02  2.10569367e-01\n  2.90605738e-01  3.12358147e-02  7.96483371e-02  1.87907037e-01\n  5.66841273e-02  9.49787522e-02  1.57824442e+00  1.00872408e+00\n  4.85457192e-01 -3.93715003e-03  4.73594877e-03  4.66355289e-02\n  4.36269792e-02  3.96840290e-02  2.10569367e-01  2.90605738e-01\n  3.12358147e-02  7.96483371e-02  1.87907037e-01  5.66841273e-02\n  9.49787522e-02  1.48891802e+00  3.36089320e-01  7.21348769e-01\n  3.47898785e-01  1.11218308e-02 -1.49149767e-01  4.85455305e-02\n -3.93715003e-03  4.73594877e-03  4.66355289e-02  4.36269792e-02\n  3.96840290e-02  2.10569367e-01  2.90605738e-01  3.12358147e-02\n  7.96483371e-02  1.87907037e-01  5.66841273e-02  9.49787522e-02\n  1.31060927e+00  2.79444518e-01  7.27504060e-01  1.11218308e-02\n -1.49149767e-01  4.85455305e-02  2.56499908e-01  1.15541367e-01\n  2.18106868e-01 -1.59109988e-01  4.36269792e-02  3.96840290e-02\n  2.10569367e-01  2.90605738e-01  3.12358147e-02  7.96483371e-02\n  1.87907037e-01  5.66841273e-02  9.49787522e-02  1.83657767e+00\n  3.96584607e-01  3.42534608e-01  1.62553052e-02  8.91908001e-01\n  1.91162728e-01  3.38120831e-01 -7.79055356e-04  1.78045144e-01\n  1.67636464e-01  3.01133128e-01  1.44011457e-01  1.30338902e-02\n  4.95449523e-02  4.36269792e-02  3.96840290e-02  2.10569367e-01\n  2.90605738e-01  3.12358147e-02  7.96483371e-02  1.87907037e-01\n  5.66841273e-02  9.49787522e-02  1.19414933e+00  9.30562831e-01\n  1.53914817e+00  5.65846047e-01 -4.67432638e-01  3.36720479e-01\n  2.06708655e-01  1.59598877e-01  5.59049798e-01 -7.69199630e-04\n  3.38120831e-01 -7.79055356e-04  1.78045144e-01  8.56465316e-03]\n\nR2 (score): 1.0\n\nIntercept: 29.63796\n\nEquação do 'valor-mensal' em termos de todos os atributos analisados:\n\n  f(x) = 29.63796 + (1.02624 * 'Arroz') + (0.63306 * 'Feijão') + (-0.00394 * 'Orgânicos') + (0.00474 * 'Outros') + (0.04664 * 'Farinhas, féculas e massas') + (0.04363 * 'Macarrão') + (0.03968 * 'Farinha de trigo') + (0.21057 * 'Farinha de mandioca') + (0.29061 * 'Outras') + (0.03124 * 'Tubérculos e raízes') + (0.07965 * 'Batata inglesa') + (0.18791 * 'Cenoura') + (0.05668 * 'Mandioca') + (0.09498 * 'Outros') + (0.73297 * 'Açúcares e derivados') + (0.36140 * 'Açúcar refinado') + (0.04722 * 'Açúcar cristal') + (-0.01365 * 'Light e diet') + (0.33812 * 'Outros') + (-0.00078 * 'Legumes e verduras') + (0.17805 * 'Tomate') + (0.36868 * 'Cebola') + (0.14667 * 'Alface') + (0.13068 * 'Outros') + (0.04934 * 'Frutas') + (0.04363 * 'Banana') + (0.03968 * 'Laranja') + (0.21057 * 'Maçã') + (0.29061 * 'Outras frutas') + (0.03124 * 'Carnes, vísceras e pescados') + (0.07965 * 'Carne de boi de primeira') + (0.18791 * 'Carne de boi de segunda') + (0.05668 * 'Carne de suíno') + (0.09498 * 'Carnes e peixes industrializados') + (0.54622 * 'Pescados frescos') + (0.22272 * 'Outros') + (0.10235 * 'Aves e ovos') + (0.01112 * 'Frango') + (-0.14915 * 'Ovo de galinha') + (0.04855 * 'Orgânicos') + (0.04363 * 'Outros') + (0.03968 * 'Leites e derivados') + (0.21057 * 'Leite de vaca') + (0.29061 * 'Leite em pó') + (0.03124 * 'Queijos') + (0.07965 * 'Light e diet') + (0.18791 * 'Orgânicos') + (0.05668 * 'Outros') + (0.09498 * 'Panificados') + (0.95623 * 'Pão francês') + (0.48497 * 'Biscoito') + (0.10737 * 'Light e diet') + (0.07357 * 'Outros panificados') + (0.04363 * 'Óleos e gorduras') + (0.03968 * 'Óleo de soja') + (0.21057 * 'Azeite de oliva') + (0.29061 * 'Outros') + (0.03124 * 'Bebidas e infusões') + (0.07965 * 'Café moído') + (0.18791 * 'Refrigerantes') + (0.05668 * 'Bebidas não alcoólicas light e diet') + (0.09498 * 'Cervejas e chopes') + (1.02319 * 'Outras bebidas alcoólicas') + (0.04107 * 'Outras') + (-0.00378 * 'Enlatados e conservas') + (0.32020 * 'Sal e condimentos') + (0.66576 * 'Massa de tomate') + (1.74336 * 'Maionese') + (0.01110 * 'Sal refinado') + (0.10497 * 'Outros') + (0.36275 * 'Alimentos preparados') + (0.64165 * 'Outros alimentos') + (0.59122 * 'Alimentação fora do domicílio') + (0.04363 * 'Almoço e jantar') + (0.03968 * 'Café, leite, café/leite e chocolate') + (0.21057 * 'Sanduíches e salgados') + (0.29061 * 'Refrigerantes e outras bebidas não alcoólicas') + (0.03124 * 'Lanches') + (0.07965 * 'Cervejas, chopes e outras bebidas alcoólicas') + (0.18791 * 'Alimentação light e diet') + (0.05668 * 'Outras') + (0.09498 * 'Tamanho médio da família')\n\nCoeficiente de determinação é: 1.00000, ou seja, 0.00000% do 'valor-mensal' não é explicada pelos atributos utilizados\n"
     ]
    }
   ],
   "source": [
    "regressao_linear_classes_sociais(df_estados_brasil, classes_sociais[2])"
   ]
  },
  {
   "source": [
    "### Mais de 5724 a 9540"
   ],
   "cell_type": "markdown",
   "metadata": {}
  },
  {
   "cell_type": "code",
   "execution_count": 12,
   "metadata": {},
   "outputs": [
    {
     "output_type": "stream",
     "name": "stdout",
     "text": [
      "Coeficiente estimado: [ 1.30707798  0.17350135  0.01022792 -0.00967183  0.01510121  0.11732638\n  0.13133646  0.20923183  0.26751117  0.02041073  0.00533109  0.12810516\n  0.00246186  0.21238575  1.08079191  0.40316188  0.11614976  0.16953885\n  0.39245622 -0.10939782  0.0320789   0.43162434  0.27438451  0.09030411\n -0.06489762  0.11732638  0.13133646  0.20923183  0.26751117  0.02041073\n  0.00533109  0.12810516  0.00246186  0.21238575  0.61488291  0.13632195\n  0.29033517 -0.02055327 -0.08801914  0.05055993  0.11732638  0.13133646\n  0.20923183  0.26751117  0.02041073  0.00533109  0.12810516  0.00246186\n  0.21238575  0.79414186  0.37831835  0.20252667 -0.05495736  0.11732638\n  0.13133646  0.20923183  0.26751117  0.02041073  0.00533109  0.12810516\n  0.00246186  0.21238575  1.51702357  0.41915344  0.10847901  0.24734555\n  0.7414889   1.8220033   0.52655655  0.3385654  -0.00418265  0.57003592\n  0.37152815  0.11732638  0.13133646  0.20923183  0.26751117  0.02041073\n  0.00533109  0.12810516  0.00246186  0.21238575  1.1909323   0.89763304\n  0.29734282  0.01022792 -0.00967183  0.01510121  0.11732638  0.13133646\n  0.20923183  0.26751117  0.02041073  0.00533109  0.12810516  0.00246186\n  0.21238575  1.45129205  0.10647777  0.81457187  0.4752396  -0.02055327\n -0.08801914  0.05055993  0.01022792 -0.00967183  0.01510121  0.11732638\n  0.13133646  0.20923183  0.26751117  0.02041073  0.00533109  0.12810516\n  0.00246186  0.21238575  1.25201769  0.81315267 -0.06336056 -0.02055327\n -0.08801914  0.05055993  0.45158083  0.4944025   0.17759485  0.31493071\n  0.11732638  0.13133646  0.20923183  0.26751117  0.02041073  0.00533109\n  0.12810516  0.00246186  0.21238575  1.63881005 -0.28729634  0.77963022\n  0.00808313  0.74600459  0.50123864  0.39245622 -0.10939782  0.0320789\n -0.06315657  0.35146186  0.08062939  0.03767457  0.02080083  0.11732638\n  0.13133646  0.20923183  0.26751117  0.02041073  0.00533109  0.12810516\n  0.00246186  0.21238575  0.56029968  1.00039284  1.7214759   0.40384155\n -0.10285047  0.15831184  0.58681464  0.23423175  0.35812941  0.05094746\n  0.39245622 -0.10939782  0.0320789   0.03633361]\n\nR2 (score): 1.0\n\nIntercept: -3.09042\n\nEquação do 'valor-mensal' em termos de todos os atributos analisados:\n\n  f(x) = -3.09042 + (1.30708 * 'Arroz') + (0.17350 * 'Feijão') + (0.01023 * 'Orgânicos') + (-0.00967 * 'Outros') + (0.01510 * 'Farinhas, féculas e massas') + (0.11733 * 'Macarrão') + (0.13134 * 'Farinha de trigo') + (0.20923 * 'Farinha de mandioca') + (0.26751 * 'Outras') + (0.02041 * 'Tubérculos e raízes') + (0.00533 * 'Batata inglesa') + (0.12811 * 'Cenoura') + (0.00246 * 'Mandioca') + (0.21239 * 'Outros') + (1.08079 * 'Açúcares e derivados') + (0.40316 * 'Açúcar refinado') + (0.11615 * 'Açúcar cristal') + (0.16954 * 'Light e diet') + (0.39246 * 'Outros') + (-0.10940 * 'Legumes e verduras') + (0.03208 * 'Tomate') + (0.43162 * 'Cebola') + (0.27438 * 'Alface') + (0.09030 * 'Outros') + (-0.06490 * 'Frutas') + (0.11733 * 'Banana') + (0.13134 * 'Laranja') + (0.20923 * 'Maçã') + (0.26751 * 'Outras frutas') + (0.02041 * 'Carnes, vísceras e pescados') + (0.00533 * 'Carne de boi de primeira') + (0.12811 * 'Carne de boi de segunda') + (0.00246 * 'Carne de suíno') + (0.21239 * 'Carnes e peixes industrializados') + (0.61488 * 'Pescados frescos') + (0.13632 * 'Outros') + (0.29034 * 'Aves e ovos') + (-0.02055 * 'Frango') + (-0.08802 * 'Ovo de galinha') + (0.05056 * 'Orgânicos') + (0.11733 * 'Outros') + (0.13134 * 'Leites e derivados') + (0.20923 * 'Leite de vaca') + (0.26751 * 'Leite em pó') + (0.02041 * 'Queijos') + (0.00533 * 'Light e diet') + (0.12811 * 'Orgânicos') + (0.00246 * 'Outros') + (0.21239 * 'Panificados') + (0.79414 * 'Pão francês') + (0.37832 * 'Biscoito') + (0.20253 * 'Light e diet') + (-0.05496 * 'Outros panificados') + (0.11733 * 'Óleos e gorduras') + (0.13134 * 'Óleo de soja') + (0.20923 * 'Azeite de oliva') + (0.26751 * 'Outros') + (0.02041 * 'Bebidas e infusões') + (0.00533 * 'Café moído') + (0.12811 * 'Refrigerantes') + (0.00246 * 'Bebidas não alcoólicas light e diet') + (0.21239 * 'Cervejas e chopes') + (1.51702 * 'Outras bebidas alcoólicas') + (0.41915 * 'Outras') + (0.10848 * 'Enlatados e conservas') + (0.24735 * 'Sal e condimentos') + (0.74149 * 'Massa de tomate') + (1.82200 * 'Maionese') + (0.52656 * 'Sal refinado') + (0.33857 * 'Outros') + (-0.00418 * 'Alimentos preparados') + (0.57004 * 'Outros alimentos') + (0.37153 * 'Alimentação fora do domicílio') + (0.11733 * 'Almoço e jantar') + (0.13134 * 'Café, leite, café/leite e chocolate') + (0.20923 * 'Sanduíches e salgados') + (0.26751 * 'Refrigerantes e outras bebidas não alcoólicas') + (0.02041 * 'Lanches') + (0.00533 * 'Cervejas, chopes e outras bebidas alcoólicas') + (0.12811 * 'Alimentação light e diet') + (0.00246 * 'Outras') + (0.21239 * 'Tamanho médio da família')\n\nCoeficiente de determinação é: 1.00000, ou seja, 0.00000% do 'valor-mensal' não é explicada pelos atributos utilizados\n"
     ]
    }
   ],
   "source": [
    "regressao_linear_classes_sociais(df_estados_brasil, classes_sociais[3])"
   ]
  },
  {
   "source": [
    "### Mais de 9540 a 14310"
   ],
   "cell_type": "markdown",
   "metadata": {}
  },
  {
   "cell_type": "code",
   "execution_count": 13,
   "metadata": {},
   "outputs": [
    {
     "output_type": "stream",
     "name": "stdout",
     "text": [
      "Coeficiente estimado: [ 2.76556765e-01  1.50017299e-01 -4.11898967e-03  4.65435305e-02\n  1.62374826e-03  2.27723546e-01  8.58035770e-02  1.72039589e-01\n  1.90043105e-01  5.19156018e-02  2.32048575e-01  9.95519759e-02\n  2.28186285e-01  2.24631938e-01  4.41383966e-01  8.10419074e-02\n  1.02694389e-01  4.36949533e-02  2.14073201e-01  2.74370919e-01\n  1.39437889e-01  3.66638560e-01  1.81985996e-01  8.62816403e-02\n  1.27453243e-02  2.27723546e-01  8.58035770e-02  1.72039589e-01\n  1.90043105e-01  5.19156018e-02  2.32048575e-01  9.95519759e-02\n  2.28186285e-01  2.24631938e-01  1.43681740e-01  8.62534062e-02\n -2.79733011e-02 -8.67554116e-02  7.75458595e-02  6.54895983e-02\n  2.27723546e-01  8.58035770e-02  1.72039589e-01  1.90043105e-01\n  5.19156018e-02  2.32048575e-01  9.95519759e-02  2.28186285e-01\n  2.24631938e-01  6.13454368e-01  1.85201924e-01  3.41851917e-02\n  2.03655233e-01  2.27723546e-01  8.58035770e-02  1.72039589e-01\n  1.90043105e-01  5.19156018e-02  2.32048575e-01  9.95519759e-02\n  2.28186285e-01  2.24631938e-01  1.21094202e+00  1.95938523e-01\n  2.29430539e-01  8.77286955e-02  6.97949589e-01  1.73466287e+00\n  1.22496327e-01  6.13277535e-01  6.13276152e-02  3.40129253e-01\n  5.45996527e-01  2.27723546e-01  8.58035770e-02  1.72039589e-01\n  1.90043105e-01  5.19156018e-02  2.32048575e-01  9.95519759e-02\n  2.28186285e-01  2.24631938e-01  1.54955211e+00  9.33075979e-01\n  3.37990841e-01 -4.11898967e-03  4.65435305e-02  1.62374826e-03\n  2.27723546e-01  8.58035770e-02  1.72039589e-01  1.90043105e-01\n  5.19156018e-02  2.32048575e-01  9.95519759e-02  2.28186285e-01\n  2.24631938e-01  1.89032894e+00  6.20663936e-01  8.00012032e-01\n  2.90855601e-01 -8.67554116e-02  7.75458595e-02  6.54895983e-02\n -4.11898967e-03  4.65435305e-02  1.62374826e-03  2.27723546e-01\n  8.58035770e-02  1.72039589e-01  1.90043105e-01  5.19156018e-02\n  2.32048575e-01  9.95519759e-02  2.28186285e-01  2.24631938e-01\n  1.39139987e+00  4.75489205e-01  3.54177206e-01 -8.67554116e-02\n  7.75458595e-02  6.54895983e-02  4.97072151e-01  6.27019527e-01\n  1.65131640e-01  2.33723479e-01  2.27723546e-01  8.58035770e-02\n  1.72039589e-01  1.90043105e-01  5.19156018e-02  2.32048575e-01\n  9.95519759e-02  2.28186285e-01  2.24631938e-01  1.58972084e+00\n  3.08323998e-02  2.18686573e-01  4.02138411e-02  3.62353983e-01\n  6.63100065e-01  2.14073201e-01  2.74370919e-01  1.39437889e-01\n  3.11609016e-01  3.58282281e-01  4.96066532e-02  6.83615322e-02\n  1.57050909e-02  2.27723546e-01  8.58035770e-02  1.72039589e-01\n  1.90043105e-01  5.19156018e-02  2.32048575e-01  9.95519759e-02\n  2.28186285e-01  2.24631938e-01  1.27725679e+00  1.01652640e+00\n  1.66729276e+00  2.74162837e-01  4.96676321e-02  4.49017379e-01\n  1.60478929e-01  1.27006511e-01  4.82139281e-01 -1.39749071e-02\n  2.14073201e-01  2.74370919e-01  1.39437889e-01 -2.04627217e-02]\n\nR2 (score): 1.0\n\nIntercept: 67.29713\n\nEquação do 'valor-mensal' em termos de todos os atributos analisados:\n\n  f(x) = 67.29713 + (0.27656 * 'Arroz') + (0.15002 * 'Feijão') + (-0.00412 * 'Orgânicos') + (0.04654 * 'Outros') + (0.00162 * 'Farinhas, féculas e massas') + (0.22772 * 'Macarrão') + (0.08580 * 'Farinha de trigo') + (0.17204 * 'Farinha de mandioca') + (0.19004 * 'Outras') + (0.05192 * 'Tubérculos e raízes') + (0.23205 * 'Batata inglesa') + (0.09955 * 'Cenoura') + (0.22819 * 'Mandioca') + (0.22463 * 'Outros') + (0.44138 * 'Açúcares e derivados') + (0.08104 * 'Açúcar refinado') + (0.10269 * 'Açúcar cristal') + (0.04369 * 'Light e diet') + (0.21407 * 'Outros') + (0.27437 * 'Legumes e verduras') + (0.13944 * 'Tomate') + (0.36664 * 'Cebola') + (0.18199 * 'Alface') + (0.08628 * 'Outros') + (0.01275 * 'Frutas') + (0.22772 * 'Banana') + (0.08580 * 'Laranja') + (0.17204 * 'Maçã') + (0.19004 * 'Outras frutas') + (0.05192 * 'Carnes, vísceras e pescados') + (0.23205 * 'Carne de boi de primeira') + (0.09955 * 'Carne de boi de segunda') + (0.22819 * 'Carne de suíno') + (0.22463 * 'Carnes e peixes industrializados') + (0.14368 * 'Pescados frescos') + (0.08625 * 'Outros') + (-0.02797 * 'Aves e ovos') + (-0.08676 * 'Frango') + (0.07755 * 'Ovo de galinha') + (0.06549 * 'Orgânicos') + (0.22772 * 'Outros') + (0.08580 * 'Leites e derivados') + (0.17204 * 'Leite de vaca') + (0.19004 * 'Leite em pó') + (0.05192 * 'Queijos') + (0.23205 * 'Light e diet') + (0.09955 * 'Orgânicos') + (0.22819 * 'Outros') + (0.22463 * 'Panificados') + (0.61345 * 'Pão francês') + (0.18520 * 'Biscoito') + (0.03419 * 'Light e diet') + (0.20366 * 'Outros panificados') + (0.22772 * 'Óleos e gorduras') + (0.08580 * 'Óleo de soja') + (0.17204 * 'Azeite de oliva') + (0.19004 * 'Outros') + (0.05192 * 'Bebidas e infusões') + (0.23205 * 'Café moído') + (0.09955 * 'Refrigerantes') + (0.22819 * 'Bebidas não alcoólicas light e diet') + (0.22463 * 'Cervejas e chopes') + (1.21094 * 'Outras bebidas alcoólicas') + (0.19594 * 'Outras') + (0.22943 * 'Enlatados e conservas') + (0.08773 * 'Sal e condimentos') + (0.69795 * 'Massa de tomate') + (1.73466 * 'Maionese') + (0.12250 * 'Sal refinado') + (0.61328 * 'Outros') + (0.06133 * 'Alimentos preparados') + (0.34013 * 'Outros alimentos') + (0.54600 * 'Alimentação fora do domicílio') + (0.22772 * 'Almoço e jantar') + (0.08580 * 'Café, leite, café/leite e chocolate') + (0.17204 * 'Sanduíches e salgados') + (0.19004 * 'Refrigerantes e outras bebidas não alcoólicas') + (0.05192 * 'Lanches') + (0.23205 * 'Cervejas, chopes e outras bebidas alcoólicas') + (0.09955 * 'Alimentação light e diet') + (0.22819 * 'Outras') + (0.22463 * 'Tamanho médio da família')\n\nCoeficiente de determinação é: 1.00000, ou seja, 0.00000% do 'valor-mensal' não é explicada pelos atributos utilizados\n"
     ]
    }
   ],
   "source": [
    "regressao_linear_classes_sociais(df_estados_brasil, classes_sociais[4])"
   ]
  },
  {
   "source": [
    "### Mais de 14310 a 23850"
   ],
   "cell_type": "markdown",
   "metadata": {}
  },
  {
   "cell_type": "code",
   "execution_count": 14,
   "metadata": {},
   "outputs": [
    {
     "output_type": "stream",
     "name": "stdout",
     "text": [
      "Coeficiente estimado: [ 0.50431409  0.3637596   0.02295893 -0.15312258 -0.00550576  0.0932568\n  0.2578368   0.12157352  0.12301437  0.04712972  0.11998703  0.03314128\n  0.1947924   0.15606072  1.01166282  0.21555638  0.12464651  0.29290546\n  0.37829097  0.05796769  0.07169487  1.06780944  0.5616547   0.28677714\n -0.03854126  0.0932568   0.2578368   0.12157352  0.12301437  0.04712972\n  0.11998703  0.03314128  0.1947924   0.15606072  0.90631613  0.1094527\n  0.38921969  0.28570218 -0.19565368  0.139719    0.0932568   0.2578368\n  0.12157352  0.12301437  0.04712972  0.11998703  0.03314128  0.1947924\n  0.15606072  1.36157687  0.99445063  0.18004054  0.06475234  0.0932568\n  0.2578368   0.12157352  0.12301437  0.04712972  0.11998703  0.03314128\n  0.1947924   0.15606072  1.30018579  0.55704884 -0.03235079  0.26300311\n  0.51247354  1.59456339  0.66611238  0.52989996  0.21909969  0.30582586\n -0.17413391  0.0932568   0.2578368   0.12157352  0.12301437  0.04712972\n  0.11998703  0.03314128  0.1947924   0.15606072  1.46040938  0.34040865\n  1.15325045  0.02295893 -0.15312258 -0.00550576  0.0932568   0.2578368\n  0.12157352  0.12301437  0.04712972  0.11998703  0.03314128  0.1947924\n  0.15606072  1.56520318  0.6052943   0.61621045  0.51101157  0.28570218\n -0.19565368  0.139719    0.02295893 -0.15312258 -0.00550576  0.0932568\n  0.2578368   0.12157352  0.12301437  0.04712972  0.11998703  0.03314128\n  0.1947924   0.15606072  1.18177289 -0.31504693  0.61339053  0.28570218\n -0.19565368  0.139719    0.74330958  0.81458795  0.64721717 -0.02586001\n  0.0932568   0.2578368   0.12157352  0.12301437  0.04712972  0.11998703\n  0.03314128  0.1947924   0.15606072  1.5673498  -0.12565953  0.69033825\n  0.20350858  0.7241121   0.01583594  0.37829097  0.05796769  0.07169487\n  0.5675186   0.89300198  0.3068461   0.42329641  0.00730143  0.0932568\n  0.2578368   0.12157352  0.12301437  0.04712972  0.11998703  0.03314128\n  0.1947924   0.15606072  0.71695865  1.05337219  1.80031019  0.16789111\n  0.30810245  0.25562676 -0.07482554  0.64577533  0.27209826  0.15322774\n  0.37829097  0.05796769  0.07169487  0.01054226]\n\nR2 (score): 1.0\n\nIntercept: 77.29013\n\nEquação do 'valor-mensal' em termos de todos os atributos analisados:\n\n  f(x) = 77.29013 + (0.50431 * 'Arroz') + (0.36376 * 'Feijão') + (0.02296 * 'Orgânicos') + (-0.15312 * 'Outros') + (-0.00551 * 'Farinhas, féculas e massas') + (0.09326 * 'Macarrão') + (0.25784 * 'Farinha de trigo') + (0.12157 * 'Farinha de mandioca') + (0.12301 * 'Outras') + (0.04713 * 'Tubérculos e raízes') + (0.11999 * 'Batata inglesa') + (0.03314 * 'Cenoura') + (0.19479 * 'Mandioca') + (0.15606 * 'Outros') + (1.01166 * 'Açúcares e derivados') + (0.21556 * 'Açúcar refinado') + (0.12465 * 'Açúcar cristal') + (0.29291 * 'Light e diet') + (0.37829 * 'Outros') + (0.05797 * 'Legumes e verduras') + (0.07169 * 'Tomate') + (1.06781 * 'Cebola') + (0.56165 * 'Alface') + (0.28678 * 'Outros') + (-0.03854 * 'Frutas') + (0.09326 * 'Banana') + (0.25784 * 'Laranja') + (0.12157 * 'Maçã') + (0.12301 * 'Outras frutas') + (0.04713 * 'Carnes, vísceras e pescados') + (0.11999 * 'Carne de boi de primeira') + (0.03314 * 'Carne de boi de segunda') + (0.19479 * 'Carne de suíno') + (0.15606 * 'Carnes e peixes industrializados') + (0.90632 * 'Pescados frescos') + (0.10945 * 'Outros') + (0.38922 * 'Aves e ovos') + (0.28570 * 'Frango') + (-0.19565 * 'Ovo de galinha') + (0.13972 * 'Orgânicos') + (0.09326 * 'Outros') + (0.25784 * 'Leites e derivados') + (0.12157 * 'Leite de vaca') + (0.12301 * 'Leite em pó') + (0.04713 * 'Queijos') + (0.11999 * 'Light e diet') + (0.03314 * 'Orgânicos') + (0.19479 * 'Outros') + (0.15606 * 'Panificados') + (1.36158 * 'Pão francês') + (0.99445 * 'Biscoito') + (0.18004 * 'Light e diet') + (0.06475 * 'Outros panificados') + (0.09326 * 'Óleos e gorduras') + (0.25784 * 'Óleo de soja') + (0.12157 * 'Azeite de oliva') + (0.12301 * 'Outros') + (0.04713 * 'Bebidas e infusões') + (0.11999 * 'Café moído') + (0.03314 * 'Refrigerantes') + (0.19479 * 'Bebidas não alcoólicas light e diet') + (0.15606 * 'Cervejas e chopes') + (1.30019 * 'Outras bebidas alcoólicas') + (0.55705 * 'Outras') + (-0.03235 * 'Enlatados e conservas') + (0.26300 * 'Sal e condimentos') + (0.51247 * 'Massa de tomate') + (1.59456 * 'Maionese') + (0.66611 * 'Sal refinado') + (0.52990 * 'Outros') + (0.21910 * 'Alimentos preparados') + (0.30583 * 'Outros alimentos') + (-0.17413 * 'Alimentação fora do domicílio') + (0.09326 * 'Almoço e jantar') + (0.25784 * 'Café, leite, café/leite e chocolate') + (0.12157 * 'Sanduíches e salgados') + (0.12301 * 'Refrigerantes e outras bebidas não alcoólicas') + (0.04713 * 'Lanches') + (0.11999 * 'Cervejas, chopes e outras bebidas alcoólicas') + (0.03314 * 'Alimentação light e diet') + (0.19479 * 'Outras') + (0.15606 * 'Tamanho médio da família')\n\nCoeficiente de determinação é: 1.00000, ou seja, 0.00000% do 'valor-mensal' não é explicada pelos atributos utilizados\n"
     ]
    }
   ],
   "source": [
    "regressao_linear_classes_sociais(df_estados_brasil, classes_sociais[5])"
   ]
  }
 ]
}