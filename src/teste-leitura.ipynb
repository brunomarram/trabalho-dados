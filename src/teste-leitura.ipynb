{
 "cells": [
  {
   "cell_type": "code",
   "execution_count": 1,
   "metadata": {},
   "outputs": [],
   "source": [
    "import pandas as pd\n",
    "import numpy as np\n",
    "#import matplotlib.pyplot as plt\n",
    "\n",
    "pd.options.display.float_format = \"{:.2f}\".format"
   ]
  },
  {
   "cell_type": "code",
   "execution_count": 2,
   "metadata": {},
   "outputs": [
    {
     "output_type": "execute_result",
     "data": {
      "text/plain": [
       "                       Alimento  Total Até 1 908 (1) Mais de 1 908 a 2 862  \\\n",
       "0         Cereais e leguminosas  27.76        30.505                30.086   \n",
       "1                       Cereais  21.20        23.359                22.985   \n",
       "2        Arroz não especificado   1.54         1.634                 1.306   \n",
       "3                  Arroz polido  18.22        20.483                20.277   \n",
       "4                 Milho em grão   0.73         0.772                 0.727   \n",
       "\n",
       "   Mais de 2 862 a 5 724 Mais de 5 724 a 9 540 Mais de 9 540 a 14 310  \\\n",
       "0                  28.19                23.585                 24.992   \n",
       "1                  21.75                17.779                 18.881   \n",
       "2                   1.57                 1.394                  1.623   \n",
       "3                  18.80                14.865                 15.569   \n",
       "4                   0.64                 0.725                  0.735   \n",
       "\n",
       "  Mais de 14 310  \n",
       "0         22.252  \n",
       "1         16.473  \n",
       "2          1.959  \n",
       "3         12.398  \n",
       "4          1.100  "
      ],
      "text/html": "<div>\n<style scoped>\n    .dataframe tbody tr th:only-of-type {\n        vertical-align: middle;\n    }\n\n    .dataframe tbody tr th {\n        vertical-align: top;\n    }\n\n    .dataframe thead th {\n        text-align: right;\n    }\n</style>\n<table border=\"1\" class=\"dataframe\">\n  <thead>\n    <tr style=\"text-align: right;\">\n      <th></th>\n      <th>Alimento</th>\n      <th>Total</th>\n      <th>Até 1 908 (1)</th>\n      <th>Mais de 1 908 a 2 862</th>\n      <th>Mais de 2 862 a 5 724</th>\n      <th>Mais de 5 724 a 9 540</th>\n      <th>Mais de 9 540 a 14 310</th>\n      <th>Mais de 14 310</th>\n    </tr>\n  </thead>\n  <tbody>\n    <tr>\n      <th>0</th>\n      <td>Cereais e leguminosas</td>\n      <td>27.76</td>\n      <td>30.505</td>\n      <td>30.086</td>\n      <td>28.19</td>\n      <td>23.585</td>\n      <td>24.992</td>\n      <td>22.252</td>\n    </tr>\n    <tr>\n      <th>1</th>\n      <td>Cereais</td>\n      <td>21.20</td>\n      <td>23.359</td>\n      <td>22.985</td>\n      <td>21.75</td>\n      <td>17.779</td>\n      <td>18.881</td>\n      <td>16.473</td>\n    </tr>\n    <tr>\n      <th>2</th>\n      <td>Arroz não especificado</td>\n      <td>1.54</td>\n      <td>1.634</td>\n      <td>1.306</td>\n      <td>1.57</td>\n      <td>1.394</td>\n      <td>1.623</td>\n      <td>1.959</td>\n    </tr>\n    <tr>\n      <th>3</th>\n      <td>Arroz polido</td>\n      <td>18.22</td>\n      <td>20.483</td>\n      <td>20.277</td>\n      <td>18.80</td>\n      <td>14.865</td>\n      <td>15.569</td>\n      <td>12.398</td>\n    </tr>\n    <tr>\n      <th>4</th>\n      <td>Milho em grão</td>\n      <td>0.73</td>\n      <td>0.772</td>\n      <td>0.727</td>\n      <td>0.64</td>\n      <td>0.725</td>\n      <td>0.735</td>\n      <td>1.100</td>\n    </tr>\n  </tbody>\n</table>\n</div>"
     },
     "metadata": {},
     "execution_count": 2
    }
   ],
   "source": [
    "total = pd.read_csv(\n",
    "    'dados-limpos/aquisicao_alimentar_por_classe_de_rendimento/total.csv', index_col=False, squeeze=True)\n",
    "\n",
    "#Remove colunas unamed\n",
    "total = total.dropna(how='all', axis='columns')\n",
    "\n",
    "total.head()"
   ]
  },
  {
   "cell_type": "code",
   "execution_count": 3,
   "metadata": {},
   "outputs": [
    {
     "output_type": "execute_result",
     "data": {
      "text/plain": [
       "                       Alimento   Total Até 1 908 (1) Mais de 1 908 a 2 862  \\\n",
       "0         Cereais e leguminosas  26,644        26,773                28,141   \n",
       "1                       Cereais  21,324        21,531                22,810   \n",
       "2        Arroz não especificado   1,971         2,500                 1,705   \n",
       "3                  Arroz polido  17,942        17,845                19,637   \n",
       "4                 Milho em grão   0,840         0,751                 1,035   \n",
       "\n",
       "  Mais de 2 862 a 5 724 Mais de 5 724 a 9 540 Mais de 9 540 a 14 310  \\\n",
       "0                25,785                27,033                 24,221   \n",
       "1                20,342                21,411                 19,304   \n",
       "2                 1,644                 1,441                  1,751   \n",
       "3                16,937                18,648                 16,485   \n",
       "4                 0,894                 0,658                  0,665   \n",
       "\n",
       "  Mais de 14 310  \n",
       "0         23,900  \n",
       "1         19,389  \n",
       "2          2,271  \n",
       "3         15,873  \n",
       "4          0,868  "
      ],
      "text/html": "<div>\n<style scoped>\n    .dataframe tbody tr th:only-of-type {\n        vertical-align: middle;\n    }\n\n    .dataframe tbody tr th {\n        vertical-align: top;\n    }\n\n    .dataframe thead th {\n        text-align: right;\n    }\n</style>\n<table border=\"1\" class=\"dataframe\">\n  <thead>\n    <tr style=\"text-align: right;\">\n      <th></th>\n      <th>Alimento</th>\n      <th>Total</th>\n      <th>Até 1 908 (1)</th>\n      <th>Mais de 1 908 a 2 862</th>\n      <th>Mais de 2 862 a 5 724</th>\n      <th>Mais de 5 724 a 9 540</th>\n      <th>Mais de 9 540 a 14 310</th>\n      <th>Mais de 14 310</th>\n    </tr>\n  </thead>\n  <tbody>\n    <tr>\n      <th>0</th>\n      <td>Cereais e leguminosas</td>\n      <td>26,644</td>\n      <td>26,773</td>\n      <td>28,141</td>\n      <td>25,785</td>\n      <td>27,033</td>\n      <td>24,221</td>\n      <td>23,900</td>\n    </tr>\n    <tr>\n      <th>1</th>\n      <td>Cereais</td>\n      <td>21,324</td>\n      <td>21,531</td>\n      <td>22,810</td>\n      <td>20,342</td>\n      <td>21,411</td>\n      <td>19,304</td>\n      <td>19,389</td>\n    </tr>\n    <tr>\n      <th>2</th>\n      <td>Arroz não especificado</td>\n      <td>1,971</td>\n      <td>2,500</td>\n      <td>1,705</td>\n      <td>1,644</td>\n      <td>1,441</td>\n      <td>1,751</td>\n      <td>2,271</td>\n    </tr>\n    <tr>\n      <th>3</th>\n      <td>Arroz polido</td>\n      <td>17,942</td>\n      <td>17,845</td>\n      <td>19,637</td>\n      <td>16,937</td>\n      <td>18,648</td>\n      <td>16,485</td>\n      <td>15,873</td>\n    </tr>\n    <tr>\n      <th>4</th>\n      <td>Milho em grão</td>\n      <td>0,840</td>\n      <td>0,751</td>\n      <td>1,035</td>\n      <td>0,894</td>\n      <td>0,658</td>\n      <td>0,665</td>\n      <td>0,868</td>\n    </tr>\n  </tbody>\n</table>\n</div>"
     },
     "metadata": {},
     "execution_count": 3
    }
   ],
   "source": [
    "norte = pd.read_csv(\n",
    "    'dados-limpos/aquisicao_alimentar_por_classe_de_rendimento/norte.csv', index_col=False, squeeze=True)\n",
    "\n",
    "#Remove colunas unamed\n",
    "norte = norte.dropna(how='all', axis='columns')\n",
    "\n",
    "norte.head()"
   ]
  },
  {
   "cell_type": "code",
   "execution_count": 4,
   "metadata": {},
   "outputs": [
    {
     "output_type": "execute_result",
     "data": {
      "text/plain": [
       "                       Alimento Região Norte Unidades da Federação Rondonia  \\\n",
       "0         Cereais e leguminosas       26,644                30,856   29,392   \n",
       "1                       Cereais       21,324                25,521   24,761   \n",
       "2        Arroz não especificado        1,971                 1,096    3,138   \n",
       "3                  Arroz polido       17,942                23,069   18,952   \n",
       "4                 Milho em grão        0,840                 0,744    1,244   \n",
       "\n",
       "     Acre Amazonas Roraima    Pará   Amapá  \n",
       "0  17,211   37,779  27,170  27,908  37,050  \n",
       "1  12,850   29,206  21,577  19,950  32,910  \n",
       "2   0,962    1,222   2,954   1,092   0,187  \n",
       "3  10,849   26,882  16,930  18,162  32,064  \n",
       "4   0,698    0,265   1,108   0,256   0,112  "
      ],
      "text/html": "<div>\n<style scoped>\n    .dataframe tbody tr th:only-of-type {\n        vertical-align: middle;\n    }\n\n    .dataframe tbody tr th {\n        vertical-align: top;\n    }\n\n    .dataframe thead th {\n        text-align: right;\n    }\n</style>\n<table border=\"1\" class=\"dataframe\">\n  <thead>\n    <tr style=\"text-align: right;\">\n      <th></th>\n      <th>Alimento</th>\n      <th>Região Norte</th>\n      <th>Unidades da Federação</th>\n      <th>Rondonia</th>\n      <th>Acre</th>\n      <th>Amazonas</th>\n      <th>Roraima</th>\n      <th>Pará</th>\n      <th>Amapá</th>\n    </tr>\n  </thead>\n  <tbody>\n    <tr>\n      <th>0</th>\n      <td>Cereais e leguminosas</td>\n      <td>26,644</td>\n      <td>30,856</td>\n      <td>29,392</td>\n      <td>17,211</td>\n      <td>37,779</td>\n      <td>27,170</td>\n      <td>27,908</td>\n      <td>37,050</td>\n    </tr>\n    <tr>\n      <th>1</th>\n      <td>Cereais</td>\n      <td>21,324</td>\n      <td>25,521</td>\n      <td>24,761</td>\n      <td>12,850</td>\n      <td>29,206</td>\n      <td>21,577</td>\n      <td>19,950</td>\n      <td>32,910</td>\n    </tr>\n    <tr>\n      <th>2</th>\n      <td>Arroz não especificado</td>\n      <td>1,971</td>\n      <td>1,096</td>\n      <td>3,138</td>\n      <td>0,962</td>\n      <td>1,222</td>\n      <td>2,954</td>\n      <td>1,092</td>\n      <td>0,187</td>\n    </tr>\n    <tr>\n      <th>3</th>\n      <td>Arroz polido</td>\n      <td>17,942</td>\n      <td>23,069</td>\n      <td>18,952</td>\n      <td>10,849</td>\n      <td>26,882</td>\n      <td>16,930</td>\n      <td>18,162</td>\n      <td>32,064</td>\n    </tr>\n    <tr>\n      <th>4</th>\n      <td>Milho em grão</td>\n      <td>0,840</td>\n      <td>0,744</td>\n      <td>1,244</td>\n      <td>0,698</td>\n      <td>0,265</td>\n      <td>1,108</td>\n      <td>0,256</td>\n      <td>0,112</td>\n    </tr>\n  </tbody>\n</table>\n</div>"
     },
     "metadata": {},
     "execution_count": 4
    }
   ],
   "source": [
    "norteestados = pd.read_csv(\n",
    "    'dados-limpos/aquisicao_alimentar_por_regiao_e_estado/norte.csv', index_col=False, squeeze=True)\n",
    "\n",
    "#Remove colunas unamed\n",
    "norteestados = norteestados.dropna(how='all', axis='columns')\n",
    "\n",
    "norteestados.head()"
   ]
  }
 ],
 "metadata": {
  "kernelspec": {
   "display_name": "Python 3",
   "language": "python",
   "name": "python3"
  },
  "language_info": {
   "codemirror_mode": {
    "name": "ipython",
    "version": 3
   },
   "file_extension": ".py",
   "mimetype": "text/x-python",
   "name": "python",
   "nbconvert_exporter": "python",
   "pygments_lexer": "ipython3",
   "version": "3.8.6-final"
  }
 },
 "nbformat": 4,
 "nbformat_minor": 2
}