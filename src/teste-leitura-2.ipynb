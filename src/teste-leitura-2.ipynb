{
 "metadata": {
  "language_info": {
   "codemirror_mode": {
    "name": "ipython",
    "version": 3
   },
   "file_extension": ".py",
   "mimetype": "text/x-python",
   "name": "python",
   "nbconvert_exporter": "python",
   "pygments_lexer": "ipython3",
   "version": "3.8.6-final"
  },
  "orig_nbformat": 2,
  "kernelspec": {
   "name": "python38664bitambientetpc6e80b89b1cc487a9ff8a382d19b1793",
   "display_name": "Python 3.8.6 64-bit ('AmbienteTP')"
  }
 },
 "nbformat": 4,
 "nbformat_minor": 2,
 "cells": [
  {
   "cell_type": "code",
   "execution_count": 1,
   "metadata": {},
   "outputs": [],
   "source": [
    "import pandas as pd\n",
    "import numpy as np\n",
    "#import matplotlib.pyplot as plt\n",
    "\n",
    "pd.options.display.float_format = \"{:.2f}\".format"
   ]
  },
  {
   "cell_type": "code",
   "execution_count": 2,
   "metadata": {},
   "outputs": [],
   "source": [
    "estado = \"MG\""
   ]
  },
  {
   "cell_type": "code",
   "execution_count": 3,
   "metadata": {},
   "outputs": [],
   "source": [
    "nome_arquivo_alimentacao = \"dados-limpos/aquisicao_alimentar_por_classe_de_rendimento_e_estado/%s/dados-limpos/%s_alimentacao.csv\" % (estado, estado)"
   ]
  },
  {
   "cell_type": "code",
   "execution_count": 4,
   "metadata": {},
   "outputs": [],
   "source": [
    "dados_alimentacao_estado = pd.read_csv(nome_arquivo_alimentacao, index_col=False, squeeze=True)\n",
    "\n",
    "#Remove colunas unamed\n",
    "dados_alimentacao_estado = dados_alimentacao_estado.dropna(how='all', axis='columns')"
   ]
  },
  {
   "cell_type": "code",
   "execution_count": 5,
   "metadata": {},
   "outputs": [
    {
     "output_type": "execute_result",
     "data": {
      "text/plain": [
       "   Tipos de despesa, número e tamanho médio das famílias  \\\n",
       "0                            Despesas com alimentação      \n",
       "1                            Alimentação no domicílio      \n",
       "2                  Cereais, leguminosas e oleaginosas      \n",
       "3                                               Arroz      \n",
       "4                                              Feijão      \n",
       "..                                                ...      \n",
       "81      Cervejas, chopes e outras bebidas alcoólicas       \n",
       "82                           Alimentação light e diet      \n",
       "83                                             Outras      \n",
       "84                                 Número de famílias      \n",
       "85                           Tamanho médio da família      \n",
       "\n",
       "    \"Despesa monetária e não monetária média mensal familiar (R$)\"  \"Total\"  \\\n",
       "0                                              688,51                327,38   \n",
       "1                                              421,18                233,71   \n",
       "2                                               22,81                 21,01   \n",
       "3                                               14,25                 13,81   \n",
       "4                                                5,56                  5,67   \n",
       "..                                                ...                   ...   \n",
       "81                                               8,98                  3,63   \n",
       "82                                               0,09                  0,11   \n",
       "83                                              47,94                 29,26   \n",
       "84                                            7149295               1392069   \n",
       "85                                               2,93                  2,36   \n",
       "\n",
       "    \"Até 1908 (2)\" Mais de 1908 a 2862 Mais de 2862 a 5724  \\\n",
       "0           470,26              682,91              965,76   \n",
       "1           310,48              432,82              562,13   \n",
       "2            20,50               23,90               22,86   \n",
       "3            13,31               15,60               13,85   \n",
       "4             5,60                5,81                5,13   \n",
       "..             ...                 ...                 ...   \n",
       "81            6,21                9,63               15,13   \n",
       "82            0,05                0,09                0,15   \n",
       "83           48,33               51,90               67,03   \n",
       "84         1478894             2470800             1092145   \n",
       "85            2,69                3,13                3,48   \n",
       "\n",
       "   Mais de 5724 a 9540 Mais de 9540 a 14310 Mais de 14310 a 23850  \n",
       "0              1183,04              1511,11               2111,32  \n",
       "1               664,21               784,44               1013,62  \n",
       "2                22,67                33,65                 30,67  \n",
       "3                12,66                14,22                 12,00  \n",
       "4                 5,31                 3,99                  6,16  \n",
       "..                 ...                  ...                   ...  \n",
       "81               14,46                 9,64                 16,72  \n",
       "82                0,00                    -                  0,51  \n",
       "83               38,61                47,58                 35,43  \n",
       "84              384637               207088                123662  \n",
       "85                3,11                 2,93                  3,02  \n",
       "\n",
       "[86 rows x 9 columns]"
      ],
      "text/html": "<div>\n<style scoped>\n    .dataframe tbody tr th:only-of-type {\n        vertical-align: middle;\n    }\n\n    .dataframe tbody tr th {\n        vertical-align: top;\n    }\n\n    .dataframe thead th {\n        text-align: right;\n    }\n</style>\n<table border=\"1\" class=\"dataframe\">\n  <thead>\n    <tr style=\"text-align: right;\">\n      <th></th>\n      <th>Tipos de despesa, número e tamanho médio das famílias</th>\n      <th>\"Despesa monetária e não monetária média mensal familiar (R$)\"</th>\n      <th>\"Total\"</th>\n      <th>\"Até 1908 (2)\"</th>\n      <th>Mais de 1908 a 2862</th>\n      <th>Mais de 2862 a 5724</th>\n      <th>Mais de 5724 a 9540</th>\n      <th>Mais de 9540 a 14310</th>\n      <th>Mais de 14310 a 23850</th>\n    </tr>\n  </thead>\n  <tbody>\n    <tr>\n      <th>0</th>\n      <td>Despesas com alimentação</td>\n      <td>688,51</td>\n      <td>327,38</td>\n      <td>470,26</td>\n      <td>682,91</td>\n      <td>965,76</td>\n      <td>1183,04</td>\n      <td>1511,11</td>\n      <td>2111,32</td>\n    </tr>\n    <tr>\n      <th>1</th>\n      <td>Alimentação no domicílio</td>\n      <td>421,18</td>\n      <td>233,71</td>\n      <td>310,48</td>\n      <td>432,82</td>\n      <td>562,13</td>\n      <td>664,21</td>\n      <td>784,44</td>\n      <td>1013,62</td>\n    </tr>\n    <tr>\n      <th>2</th>\n      <td>Cereais, leguminosas e oleaginosas</td>\n      <td>22,81</td>\n      <td>21,01</td>\n      <td>20,50</td>\n      <td>23,90</td>\n      <td>22,86</td>\n      <td>22,67</td>\n      <td>33,65</td>\n      <td>30,67</td>\n    </tr>\n    <tr>\n      <th>3</th>\n      <td>Arroz</td>\n      <td>14,25</td>\n      <td>13,81</td>\n      <td>13,31</td>\n      <td>15,60</td>\n      <td>13,85</td>\n      <td>12,66</td>\n      <td>14,22</td>\n      <td>12,00</td>\n    </tr>\n    <tr>\n      <th>4</th>\n      <td>Feijão</td>\n      <td>5,56</td>\n      <td>5,67</td>\n      <td>5,60</td>\n      <td>5,81</td>\n      <td>5,13</td>\n      <td>5,31</td>\n      <td>3,99</td>\n      <td>6,16</td>\n    </tr>\n    <tr>\n      <th>...</th>\n      <td>...</td>\n      <td>...</td>\n      <td>...</td>\n      <td>...</td>\n      <td>...</td>\n      <td>...</td>\n      <td>...</td>\n      <td>...</td>\n      <td>...</td>\n    </tr>\n    <tr>\n      <th>81</th>\n      <td>Cervejas, chopes e outras bebidas alcoólicas</td>\n      <td>8,98</td>\n      <td>3,63</td>\n      <td>6,21</td>\n      <td>9,63</td>\n      <td>15,13</td>\n      <td>14,46</td>\n      <td>9,64</td>\n      <td>16,72</td>\n    </tr>\n    <tr>\n      <th>82</th>\n      <td>Alimentação light e diet</td>\n      <td>0,09</td>\n      <td>0,11</td>\n      <td>0,05</td>\n      <td>0,09</td>\n      <td>0,15</td>\n      <td>0,00</td>\n      <td>-</td>\n      <td>0,51</td>\n    </tr>\n    <tr>\n      <th>83</th>\n      <td>Outras</td>\n      <td>47,94</td>\n      <td>29,26</td>\n      <td>48,33</td>\n      <td>51,90</td>\n      <td>67,03</td>\n      <td>38,61</td>\n      <td>47,58</td>\n      <td>35,43</td>\n    </tr>\n    <tr>\n      <th>84</th>\n      <td>Número de famílias</td>\n      <td>7149295</td>\n      <td>1392069</td>\n      <td>1478894</td>\n      <td>2470800</td>\n      <td>1092145</td>\n      <td>384637</td>\n      <td>207088</td>\n      <td>123662</td>\n    </tr>\n    <tr>\n      <th>85</th>\n      <td>Tamanho médio da família</td>\n      <td>2,93</td>\n      <td>2,36</td>\n      <td>2,69</td>\n      <td>3,13</td>\n      <td>3,48</td>\n      <td>3,11</td>\n      <td>2,93</td>\n      <td>3,02</td>\n    </tr>\n  </tbody>\n</table>\n<p>86 rows × 9 columns</p>\n</div>"
     },
     "metadata": {},
     "execution_count": 5
    }
   ],
   "source": [
    "dados_alimentacao_estado"
   ]
  },
  {
   "cell_type": "code",
   "execution_count": 6,
   "metadata": {},
   "outputs": [],
   "source": [
    "nome_arquivo_despesas = \"dados-limpos/aquisicao_alimentar_por_classe_de_rendimento_e_estado/%s/dados-limpos/%s_tipos_despesas.csv\" % (estado, estado)"
   ]
  },
  {
   "cell_type": "code",
   "execution_count": 7,
   "metadata": {},
   "outputs": [],
   "source": [
    "dados_despesas_estado = pd.read_csv(nome_arquivo_despesas, index_col=False, squeeze=True)\n",
    "\n",
    "#Remove colunas unamed\n",
    "dados_despesas_estado = dados_despesas_estado.dropna(how='all', axis='columns')"
   ]
  },
  {
   "cell_type": "code",
   "execution_count": 8,
   "metadata": {},
   "outputs": [
    {
     "output_type": "execute_result",
     "data": {
      "text/plain": [
       "   Tipos de despesa, número e tamanho médio das famílias  \\\n",
       "0                                       Despesa total      \n",
       "1                                  Despesas correntes      \n",
       "2                                 Despesas de consumo      \n",
       "3                                         Alimentação      \n",
       "4                                           Habitação      \n",
       "..                                                ...      \n",
       "90                              Diminuição do passivo      \n",
       "91                                         Empréstimo      \n",
       "92                                Prestação de imóvel      \n",
       "93                                 Número de famílias      \n",
       "94                           Tamanho médio da família      \n",
       "\n",
       "    \"Despesa monetária e não monetária média mensal familiar (R$)\"    \"Total\"  \\\n",
       "0                                           4.390,72                1.501,78    \n",
       "1                                           4.082,30                1.457,93    \n",
       "2                                           3.635,92                1.392,69    \n",
       "3                                             688,51                  327,38    \n",
       "4                                           1.230,81                  601,35    \n",
       "..                                                ...                     ...   \n",
       "90                                            143,70                   30,34    \n",
       "91                                             97,40                   25,72    \n",
       "92                                             46,30                    4,62    \n",
       "93                                            7149295                 1392069   \n",
       "94                                               2,93                    2,36   \n",
       "\n",
       "    \"Até 1908 (2)\" Mais de 1908 a 2862 Mais de 2862 a 5724  \\\n",
       "0        2.271,56            3.697,32            6.575,93    \n",
       "1        2.159,63            3.510,91            6.027,63    \n",
       "2        2.039,02            3.247,30            5.409,91    \n",
       "3          470,26              682,91              965,76    \n",
       "4          817,04            1.148,45            1.658,10    \n",
       "..             ...                 ...                 ...   \n",
       "90          59,54              102,50              278,77    \n",
       "91          46,18               76,03              181,62    \n",
       "92          13,36               26,47               97,15    \n",
       "93         1478894             2470800             1092145   \n",
       "94            2,69                3,13                3,48   \n",
       "\n",
       "   Mais de 5724 a 9540 Mais de 9540 a 14310 Mais de 14310 a 23850  \n",
       "0            9.589,42            14.391,83             23.891,78   \n",
       "1            8.811,94            13.263,37             20.768,46   \n",
       "2            7.559,27            10.752,93             15.961,57   \n",
       "3            1.183,04             1.511,11              2.111,32   \n",
       "4            2.278,54             3.102,18              4.744,36   \n",
       "..                 ...                  ...                   ...  \n",
       "90             371,04               561,06                650,42   \n",
       "91             284,33               324,54                238,06   \n",
       "92              86,72               236,52                412,36   \n",
       "93              384637               207088               123662   \n",
       "94                3,11                 2,93                  3,02  \n",
       "\n",
       "[95 rows x 9 columns]"
      ],
      "text/html": "<div>\n<style scoped>\n    .dataframe tbody tr th:only-of-type {\n        vertical-align: middle;\n    }\n\n    .dataframe tbody tr th {\n        vertical-align: top;\n    }\n\n    .dataframe thead th {\n        text-align: right;\n    }\n</style>\n<table border=\"1\" class=\"dataframe\">\n  <thead>\n    <tr style=\"text-align: right;\">\n      <th></th>\n      <th>Tipos de despesa, número e tamanho médio das famílias</th>\n      <th>\"Despesa monetária e não monetária média mensal familiar (R$)\"</th>\n      <th>\"Total\"</th>\n      <th>\"Até 1908 (2)\"</th>\n      <th>Mais de 1908 a 2862</th>\n      <th>Mais de 2862 a 5724</th>\n      <th>Mais de 5724 a 9540</th>\n      <th>Mais de 9540 a 14310</th>\n      <th>Mais de 14310 a 23850</th>\n    </tr>\n  </thead>\n  <tbody>\n    <tr>\n      <th>0</th>\n      <td>Despesa total</td>\n      <td>4.390,72</td>\n      <td>1.501,78</td>\n      <td>2.271,56</td>\n      <td>3.697,32</td>\n      <td>6.575,93</td>\n      <td>9.589,42</td>\n      <td>14.391,83</td>\n      <td>23.891,78</td>\n    </tr>\n    <tr>\n      <th>1</th>\n      <td>Despesas correntes</td>\n      <td>4.082,30</td>\n      <td>1.457,93</td>\n      <td>2.159,63</td>\n      <td>3.510,91</td>\n      <td>6.027,63</td>\n      <td>8.811,94</td>\n      <td>13.263,37</td>\n      <td>20.768,46</td>\n    </tr>\n    <tr>\n      <th>2</th>\n      <td>Despesas de consumo</td>\n      <td>3.635,92</td>\n      <td>1.392,69</td>\n      <td>2.039,02</td>\n      <td>3.247,30</td>\n      <td>5.409,91</td>\n      <td>7.559,27</td>\n      <td>10.752,93</td>\n      <td>15.961,57</td>\n    </tr>\n    <tr>\n      <th>3</th>\n      <td>Alimentação</td>\n      <td>688,51</td>\n      <td>327,38</td>\n      <td>470,26</td>\n      <td>682,91</td>\n      <td>965,76</td>\n      <td>1.183,04</td>\n      <td>1.511,11</td>\n      <td>2.111,32</td>\n    </tr>\n    <tr>\n      <th>4</th>\n      <td>Habitação</td>\n      <td>1.230,81</td>\n      <td>601,35</td>\n      <td>817,04</td>\n      <td>1.148,45</td>\n      <td>1.658,10</td>\n      <td>2.278,54</td>\n      <td>3.102,18</td>\n      <td>4.744,36</td>\n    </tr>\n    <tr>\n      <th>...</th>\n      <td>...</td>\n      <td>...</td>\n      <td>...</td>\n      <td>...</td>\n      <td>...</td>\n      <td>...</td>\n      <td>...</td>\n      <td>...</td>\n      <td>...</td>\n    </tr>\n    <tr>\n      <th>90</th>\n      <td>Diminuição do passivo</td>\n      <td>143,70</td>\n      <td>30,34</td>\n      <td>59,54</td>\n      <td>102,50</td>\n      <td>278,77</td>\n      <td>371,04</td>\n      <td>561,06</td>\n      <td>650,42</td>\n    </tr>\n    <tr>\n      <th>91</th>\n      <td>Empréstimo</td>\n      <td>97,40</td>\n      <td>25,72</td>\n      <td>46,18</td>\n      <td>76,03</td>\n      <td>181,62</td>\n      <td>284,33</td>\n      <td>324,54</td>\n      <td>238,06</td>\n    </tr>\n    <tr>\n      <th>92</th>\n      <td>Prestação de imóvel</td>\n      <td>46,30</td>\n      <td>4,62</td>\n      <td>13,36</td>\n      <td>26,47</td>\n      <td>97,15</td>\n      <td>86,72</td>\n      <td>236,52</td>\n      <td>412,36</td>\n    </tr>\n    <tr>\n      <th>93</th>\n      <td>Número de famílias</td>\n      <td>7149295</td>\n      <td>1392069</td>\n      <td>1478894</td>\n      <td>2470800</td>\n      <td>1092145</td>\n      <td>384637</td>\n      <td>207088</td>\n      <td>123662</td>\n    </tr>\n    <tr>\n      <th>94</th>\n      <td>Tamanho médio da família</td>\n      <td>2,93</td>\n      <td>2,36</td>\n      <td>2,69</td>\n      <td>3,13</td>\n      <td>3,48</td>\n      <td>3,11</td>\n      <td>2,93</td>\n      <td>3,02</td>\n    </tr>\n  </tbody>\n</table>\n<p>95 rows × 9 columns</p>\n</div>"
     },
     "metadata": {},
     "execution_count": 8
    }
   ],
   "source": [
    "dados_despesas_estado"
   ]
  }
 ]
}