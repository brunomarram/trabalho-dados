{
 "cells": [
  {
   "cell_type": "markdown",
   "metadata": {},
   "source": [
    "Incremento sobre o que foi pedido no dia da última reunião. Os dados de cada estado foram coletados de tabelas .xlsx. Esses dados estavam em tabelas com múltiplas abas, onde apenas duas nos interessavam no momento. Sendo assim, a partir dessas duas abas, fizemos o download no formato CSV e a partir daí copiamos (na mão) apenas as linhas e colunas que nos interessavam para um novo arquivo CSV, nosso dataset \"final\", usado no trabalho."
   ]
  },
  {
   "cell_type": "code",
   "execution_count": 80,
   "metadata": {},
   "outputs": [],
   "source": [
    "from funcoes_auxiliares import *\n",
    "\n",
    "pd.options.display.float_format = \"{:.2f}\".format\n",
    "pd.options.display.max_rows = 6"
   ]
  },
  {
   "cell_type": "code",
   "execution_count": 81,
   "metadata": {},
   "outputs": [],
   "source": [
    "estado = \"MG\""
   ]
  },
  {
   "cell_type": "code",
   "execution_count": 82,
   "metadata": {},
   "outputs": [],
   "source": [
    "nome_arquivo_despesas = \"../dados-limpos/aquisicao_por_classe_de_rendimento_e_estado/%s/dados-limpos/%s_tipos_despesas.csv\" % (estado, estado)"
   ]
  },
  {
   "cell_type": "markdown",
   "metadata": {},
   "source": [
    "### Carregando os datasets de acordo com o estado"
   ]
  },
  {
   "cell_type": "code",
   "execution_count": 83,
   "metadata": {},
   "outputs": [],
   "source": [
    "df_despesas = carregar_dataset_e_converter_dados(nome_arquivo_despesas)"
   ]
  },
  {
   "cell_type": "code",
   "execution_count": 84,
   "metadata": {},
   "outputs": [
    {
     "data": {
      "text/html": [
       "<div>\n",
       "<style scoped>\n",
       "    .dataframe tbody tr th:only-of-type {\n",
       "        vertical-align: middle;\n",
       "    }\n",
       "\n",
       "    .dataframe tbody tr th {\n",
       "        vertical-align: top;\n",
       "    }\n",
       "\n",
       "    .dataframe thead th {\n",
       "        text-align: right;\n",
       "    }\n",
       "</style>\n",
       "<table border=\"1\" class=\"dataframe\">\n",
       "  <thead>\n",
       "    <tr style=\"text-align: right;\">\n",
       "      <th></th>\n",
       "      <th>Tipos de despesa, número e tamanho médio das famílias</th>\n",
       "      <th>Despesa monetária e não monetária média mensal familiar (R$)</th>\n",
       "      <th>Total</th>\n",
       "      <th>Até 1908 (2)</th>\n",
       "      <th>Mais de 1908 a 2862</th>\n",
       "      <th>Mais de 2862 a 5724</th>\n",
       "      <th>Mais de 5724 a 9540</th>\n",
       "      <th>Mais de 9540 a 14310</th>\n",
       "      <th>Mais de 14310 a 23850</th>\n",
       "    </tr>\n",
       "  </thead>\n",
       "  <tbody>\n",
       "    <tr>\n",
       "      <th>0</th>\n",
       "      <td>Despesa total</td>\n",
       "      <td>4390.72</td>\n",
       "      <td>1501.78</td>\n",
       "      <td>2271.56</td>\n",
       "      <td>3697.32</td>\n",
       "      <td>6575.93</td>\n",
       "      <td>9589.42</td>\n",
       "      <td>14391.83</td>\n",
       "      <td>23891.78</td>\n",
       "    </tr>\n",
       "    <tr>\n",
       "      <th>1</th>\n",
       "      <td>Despesas correntes</td>\n",
       "      <td>4082.30</td>\n",
       "      <td>1457.93</td>\n",
       "      <td>2159.63</td>\n",
       "      <td>3510.91</td>\n",
       "      <td>6027.63</td>\n",
       "      <td>8811.94</td>\n",
       "      <td>13263.37</td>\n",
       "      <td>20768.46</td>\n",
       "    </tr>\n",
       "    <tr>\n",
       "      <th>2</th>\n",
       "      <td>Despesas de consumo</td>\n",
       "      <td>3635.92</td>\n",
       "      <td>1392.69</td>\n",
       "      <td>2039.02</td>\n",
       "      <td>3247.30</td>\n",
       "      <td>5409.91</td>\n",
       "      <td>7559.27</td>\n",
       "      <td>10752.93</td>\n",
       "      <td>15961.57</td>\n",
       "    </tr>\n",
       "    <tr>\n",
       "      <th>...</th>\n",
       "      <td>...</td>\n",
       "      <td>...</td>\n",
       "      <td>...</td>\n",
       "      <td>...</td>\n",
       "      <td>...</td>\n",
       "      <td>...</td>\n",
       "      <td>...</td>\n",
       "      <td>...</td>\n",
       "      <td>...</td>\n",
       "    </tr>\n",
       "    <tr>\n",
       "      <th>92</th>\n",
       "      <td>Prestação de imóvel</td>\n",
       "      <td>46.30</td>\n",
       "      <td>4.62</td>\n",
       "      <td>13.36</td>\n",
       "      <td>26.47</td>\n",
       "      <td>97.15</td>\n",
       "      <td>86.72</td>\n",
       "      <td>236.52</td>\n",
       "      <td>412.36</td>\n",
       "    </tr>\n",
       "    <tr>\n",
       "      <th>93</th>\n",
       "      <td>Número de famílias</td>\n",
       "      <td>7149295.00</td>\n",
       "      <td>1392069.00</td>\n",
       "      <td>1478894.00</td>\n",
       "      <td>2470800.00</td>\n",
       "      <td>1092145.00</td>\n",
       "      <td>384637.00</td>\n",
       "      <td>207088.00</td>\n",
       "      <td>123662.00</td>\n",
       "    </tr>\n",
       "    <tr>\n",
       "      <th>94</th>\n",
       "      <td>Tamanho médio da família</td>\n",
       "      <td>2.93</td>\n",
       "      <td>2.36</td>\n",
       "      <td>2.69</td>\n",
       "      <td>3.13</td>\n",
       "      <td>3.48</td>\n",
       "      <td>3.11</td>\n",
       "      <td>2.93</td>\n",
       "      <td>3.02</td>\n",
       "    </tr>\n",
       "  </tbody>\n",
       "</table>\n",
       "<p>95 rows × 9 columns</p>\n",
       "</div>"
      ],
      "text/plain": [
       "   Tipos de despesa, número e tamanho médio das famílias  \\\n",
       "0                                       Despesa total      \n",
       "1                                  Despesas correntes      \n",
       "2                                 Despesas de consumo      \n",
       "..                                                ...      \n",
       "92                                Prestação de imóvel      \n",
       "93                                 Número de famílias      \n",
       "94                           Tamanho médio da família      \n",
       "\n",
       "   Despesa monetária e não monetária média mensal familiar (R$)      Total  \\\n",
       "0                                             4390.72              1501.78   \n",
       "1                                             4082.30              1457.93   \n",
       "2                                             3635.92              1392.69   \n",
       "..                                                ...                  ...   \n",
       "92                                              46.30                 4.62   \n",
       "93                                         7149295.00           1392069.00   \n",
       "94                                               2.93                 2.36   \n",
       "\n",
       "   Até 1908 (2) Mais de 1908 a 2862 Mais de 2862 a 5724 Mais de 5724 a 9540  \\\n",
       "0       2271.56             3697.32             6575.93             9589.42   \n",
       "1       2159.63             3510.91             6027.63             8811.94   \n",
       "2       2039.02             3247.30             5409.91             7559.27   \n",
       "..          ...                 ...                 ...                 ...   \n",
       "92        13.36               26.47               97.15               86.72   \n",
       "93   1478894.00          2470800.00          1092145.00           384637.00   \n",
       "94         2.69                3.13                3.48                3.11   \n",
       "\n",
       "   Mais de 9540 a 14310 Mais de 14310 a 23850  \n",
       "0              14391.83              23891.78  \n",
       "1              13263.37              20768.46  \n",
       "2              10752.93              15961.57  \n",
       "..                  ...                   ...  \n",
       "92               236.52                412.36  \n",
       "93            207088.00             123662.00  \n",
       "94                 2.93                  3.02  \n",
       "\n",
       "[95 rows x 9 columns]"
      ]
     },
     "execution_count": 84,
     "metadata": {},
     "output_type": "execute_result"
    }
   ],
   "source": [
    "df_despesas"
   ]
  },
  {
   "cell_type": "markdown",
   "metadata": {},
   "source": [
    "## Parte 3\n",
    "\n",
    "### Acima foi feito apenas uma limpeza dos dados e conversão de tipos (Etapa 2 do trabalho)."
   ]
  },
  {
   "cell_type": "markdown",
   "metadata": {},
   "source": [
    "A documentação dos dados originais não é muito bem detalhada, e nem possui informações sobre as colunas do dataset, focando apenas nas suas informações gerais. Com isso, decidimos remover a coluna 'Total' porque não conseguimos encontrar um detalhamento e um significado sobre o que ela representa, e também a coluna \"Despesa monetária e não monetária média mensal familiar (R$)\" que não encontramos aplicação até o momento."
   ]
  },
  {
   "cell_type": "code",
   "execution_count": 85,
   "metadata": {},
   "outputs": [],
   "source": [
    "df_despesas = df_despesas.drop(columns=['Total'])\n",
    "df_despesas = df_despesas.drop(columns=['Despesa monetária e não monetária média mensal familiar (R$)'])"
   ]
  },
  {
   "cell_type": "markdown",
   "metadata": {},
   "source": [
    "Remoção das três primeiras linhas (despesas), que também não conseguimos achar seus significados exatos."
   ]
  },
  {
   "cell_type": "code",
   "execution_count": 86,
   "metadata": {},
   "outputs": [],
   "source": [
    "df_despesas = df_despesas.drop([0, 1, 2]).reset_index(drop=True)"
   ]
  },
  {
   "cell_type": "code",
   "execution_count": 87,
   "metadata": {},
   "outputs": [
    {
     "data": {
      "text/html": [
       "<div>\n",
       "<style scoped>\n",
       "    .dataframe tbody tr th:only-of-type {\n",
       "        vertical-align: middle;\n",
       "    }\n",
       "\n",
       "    .dataframe tbody tr th {\n",
       "        vertical-align: top;\n",
       "    }\n",
       "\n",
       "    .dataframe thead th {\n",
       "        text-align: right;\n",
       "    }\n",
       "</style>\n",
       "<table border=\"1\" class=\"dataframe\">\n",
       "  <thead>\n",
       "    <tr style=\"text-align: right;\">\n",
       "      <th></th>\n",
       "      <th>Tipos de despesa, número e tamanho médio das famílias</th>\n",
       "      <th>Até 1908 (2)</th>\n",
       "      <th>Mais de 1908 a 2862</th>\n",
       "      <th>Mais de 2862 a 5724</th>\n",
       "      <th>Mais de 5724 a 9540</th>\n",
       "      <th>Mais de 9540 a 14310</th>\n",
       "      <th>Mais de 14310 a 23850</th>\n",
       "    </tr>\n",
       "  </thead>\n",
       "  <tbody>\n",
       "    <tr>\n",
       "      <th>0</th>\n",
       "      <td>Alimentação</td>\n",
       "      <td>470.26</td>\n",
       "      <td>682.91</td>\n",
       "      <td>965.76</td>\n",
       "      <td>1183.04</td>\n",
       "      <td>1511.11</td>\n",
       "      <td>2111.32</td>\n",
       "    </tr>\n",
       "    <tr>\n",
       "      <th>1</th>\n",
       "      <td>Habitação</td>\n",
       "      <td>817.04</td>\n",
       "      <td>1148.45</td>\n",
       "      <td>1658.10</td>\n",
       "      <td>2278.54</td>\n",
       "      <td>3102.18</td>\n",
       "      <td>4744.36</td>\n",
       "    </tr>\n",
       "    <tr>\n",
       "      <th>2</th>\n",
       "      <td>Aluguel</td>\n",
       "      <td>423.40</td>\n",
       "      <td>581.47</td>\n",
       "      <td>799.82</td>\n",
       "      <td>1098.35</td>\n",
       "      <td>1430.00</td>\n",
       "      <td>2098.02</td>\n",
       "    </tr>\n",
       "    <tr>\n",
       "      <th>...</th>\n",
       "      <td>...</td>\n",
       "      <td>...</td>\n",
       "      <td>...</td>\n",
       "      <td>...</td>\n",
       "      <td>...</td>\n",
       "      <td>...</td>\n",
       "      <td>...</td>\n",
       "    </tr>\n",
       "    <tr>\n",
       "      <th>89</th>\n",
       "      <td>Prestação de imóvel</td>\n",
       "      <td>13.36</td>\n",
       "      <td>26.47</td>\n",
       "      <td>97.15</td>\n",
       "      <td>86.72</td>\n",
       "      <td>236.52</td>\n",
       "      <td>412.36</td>\n",
       "    </tr>\n",
       "    <tr>\n",
       "      <th>90</th>\n",
       "      <td>Número de famílias</td>\n",
       "      <td>1478894.00</td>\n",
       "      <td>2470800.00</td>\n",
       "      <td>1092145.00</td>\n",
       "      <td>384637.00</td>\n",
       "      <td>207088.00</td>\n",
       "      <td>123662.00</td>\n",
       "    </tr>\n",
       "    <tr>\n",
       "      <th>91</th>\n",
       "      <td>Tamanho médio da família</td>\n",
       "      <td>2.69</td>\n",
       "      <td>3.13</td>\n",
       "      <td>3.48</td>\n",
       "      <td>3.11</td>\n",
       "      <td>2.93</td>\n",
       "      <td>3.02</td>\n",
       "    </tr>\n",
       "  </tbody>\n",
       "</table>\n",
       "<p>92 rows × 7 columns</p>\n",
       "</div>"
      ],
      "text/plain": [
       "   Tipos de despesa, número e tamanho médio das famílias Até 1908 (2)  \\\n",
       "0                                         Alimentação          470.26   \n",
       "1                                           Habitação          817.04   \n",
       "2                                             Aluguel          423.40   \n",
       "..                                                ...             ...   \n",
       "89                                Prestação de imóvel           13.36   \n",
       "90                                 Número de famílias      1478894.00   \n",
       "91                           Tamanho médio da família            2.69   \n",
       "\n",
       "   Mais de 1908 a 2862 Mais de 2862 a 5724 Mais de 5724 a 9540  \\\n",
       "0               682.91              965.76             1183.04   \n",
       "1              1148.45             1658.10             2278.54   \n",
       "2               581.47              799.82             1098.35   \n",
       "..                 ...                 ...                 ...   \n",
       "89               26.47               97.15               86.72   \n",
       "90          2470800.00          1092145.00           384637.00   \n",
       "91                3.13                3.48                3.11   \n",
       "\n",
       "   Mais de 9540 a 14310 Mais de 14310 a 23850  \n",
       "0               1511.11               2111.32  \n",
       "1               3102.18               4744.36  \n",
       "2               1430.00               2098.02  \n",
       "..                  ...                   ...  \n",
       "89               236.52                412.36  \n",
       "90            207088.00             123662.00  \n",
       "91                 2.93                  3.02  \n",
       "\n",
       "[92 rows x 7 columns]"
      ]
     },
     "execution_count": 87,
     "metadata": {},
     "output_type": "execute_result"
    }
   ],
   "source": [
    "df_despesas"
   ]
  },
  {
   "cell_type": "markdown",
   "metadata": {},
   "source": [
    "Cálculo da soma total de gastos com despesas gerais distribuídas por classe.\n",
    "\n",
    "A soma é feita para se ter um parâmetro de comparação, permitindo relacionar um determinado tipo de despesa com o consumo total gasto pela classe social.\n",
    "\n",
    "A ideia disso é poder ver o quanto essa despesa é relevante para a classe, além de nos dizer também em média quantos porcentos do salário é dedicado à ela."
   ]
  },
  {
   "cell_type": "code",
   "execution_count": 88,
   "metadata": {},
   "outputs": [],
   "source": [
    "df_despesas = retorna_dataset_com_soma_colunas_classes_sociais(df_despesas)"
   ]
  },
  {
   "cell_type": "code",
   "execution_count": 89,
   "metadata": {},
   "outputs": [
    {
     "data": {
      "text/html": [
       "<div>\n",
       "<style scoped>\n",
       "    .dataframe tbody tr th:only-of-type {\n",
       "        vertical-align: middle;\n",
       "    }\n",
       "\n",
       "    .dataframe tbody tr th {\n",
       "        vertical-align: top;\n",
       "    }\n",
       "\n",
       "    .dataframe thead th {\n",
       "        text-align: right;\n",
       "    }\n",
       "</style>\n",
       "<table border=\"1\" class=\"dataframe\">\n",
       "  <thead>\n",
       "    <tr style=\"text-align: right;\">\n",
       "      <th></th>\n",
       "      <th>Tipos de despesa, número e tamanho médio das famílias</th>\n",
       "      <th>Até 1908 (2)</th>\n",
       "      <th>Mais de 1908 a 2862</th>\n",
       "      <th>Mais de 2862 a 5724</th>\n",
       "      <th>Mais de 5724 a 9540</th>\n",
       "      <th>Mais de 9540 a 14310</th>\n",
       "      <th>Mais de 14310 a 23850</th>\n",
       "    </tr>\n",
       "  </thead>\n",
       "  <tbody>\n",
       "    <tr>\n",
       "      <th>0</th>\n",
       "      <td>Alimentação</td>\n",
       "      <td>470.26</td>\n",
       "      <td>682.91</td>\n",
       "      <td>965.76</td>\n",
       "      <td>1183.04</td>\n",
       "      <td>1511.11</td>\n",
       "      <td>2111.32</td>\n",
       "    </tr>\n",
       "    <tr>\n",
       "      <th>1</th>\n",
       "      <td>Habitação</td>\n",
       "      <td>817.04</td>\n",
       "      <td>1148.45</td>\n",
       "      <td>1658.10</td>\n",
       "      <td>2278.54</td>\n",
       "      <td>3102.18</td>\n",
       "      <td>4744.36</td>\n",
       "    </tr>\n",
       "    <tr>\n",
       "      <th>2</th>\n",
       "      <td>Aluguel</td>\n",
       "      <td>423.40</td>\n",
       "      <td>581.47</td>\n",
       "      <td>799.82</td>\n",
       "      <td>1098.35</td>\n",
       "      <td>1430.00</td>\n",
       "      <td>2098.02</td>\n",
       "    </tr>\n",
       "    <tr>\n",
       "      <th>...</th>\n",
       "      <td>...</td>\n",
       "      <td>...</td>\n",
       "      <td>...</td>\n",
       "      <td>...</td>\n",
       "      <td>...</td>\n",
       "      <td>...</td>\n",
       "      <td>...</td>\n",
       "    </tr>\n",
       "    <tr>\n",
       "      <th>90</th>\n",
       "      <td>Número de famílias</td>\n",
       "      <td>1478894.00</td>\n",
       "      <td>2470800.00</td>\n",
       "      <td>1092145.00</td>\n",
       "      <td>384637.00</td>\n",
       "      <td>207088.00</td>\n",
       "      <td>123662.00</td>\n",
       "    </tr>\n",
       "    <tr>\n",
       "      <th>91</th>\n",
       "      <td>Tamanho médio da família</td>\n",
       "      <td>2.69</td>\n",
       "      <td>3.13</td>\n",
       "      <td>3.48</td>\n",
       "      <td>3.11</td>\n",
       "      <td>2.93</td>\n",
       "      <td>3.02</td>\n",
       "    </tr>\n",
       "    <tr>\n",
       "      <th>92</th>\n",
       "      <td>Total gasto por classes</td>\n",
       "      <td>4723.72</td>\n",
       "      <td>7618.75</td>\n",
       "      <td>13440.48</td>\n",
       "      <td>19663.04</td>\n",
       "      <td>29365.22</td>\n",
       "      <td>48634.53</td>\n",
       "    </tr>\n",
       "  </tbody>\n",
       "</table>\n",
       "<p>93 rows × 7 columns</p>\n",
       "</div>"
      ],
      "text/plain": [
       "   Tipos de despesa, número e tamanho médio das famílias Até 1908 (2)  \\\n",
       "0                                         Alimentação          470.26   \n",
       "1                                           Habitação          817.04   \n",
       "2                                             Aluguel          423.40   \n",
       "..                                                ...             ...   \n",
       "90                                 Número de famílias      1478894.00   \n",
       "91                           Tamanho médio da família            2.69   \n",
       "92                            Total gasto por classes         4723.72   \n",
       "\n",
       "   Mais de 1908 a 2862 Mais de 2862 a 5724 Mais de 5724 a 9540  \\\n",
       "0               682.91              965.76             1183.04   \n",
       "1              1148.45             1658.10             2278.54   \n",
       "2               581.47              799.82             1098.35   \n",
       "..                 ...                 ...                 ...   \n",
       "90          2470800.00          1092145.00           384637.00   \n",
       "91                3.13                3.48                3.11   \n",
       "92             7618.75            13440.48            19663.04   \n",
       "\n",
       "   Mais de 9540 a 14310 Mais de 14310 a 23850  \n",
       "0               1511.11               2111.32  \n",
       "1               3102.18               4744.36  \n",
       "2               1430.00               2098.02  \n",
       "..                  ...                   ...  \n",
       "90            207088.00             123662.00  \n",
       "91                 2.93                  3.02  \n",
       "92             29365.22              48634.53  \n",
       "\n",
       "[93 rows x 7 columns]"
      ]
     },
     "execution_count": 89,
     "metadata": {},
     "output_type": "execute_result"
    }
   ],
   "source": [
    "df_despesas"
   ]
  },
  {
   "cell_type": "markdown",
   "metadata": {},
   "source": [
    "## Análise para despesas gerais"
   ]
  },
  {
   "cell_type": "markdown",
   "metadata": {},
   "source": [
    "Quantidade de itens para o top N itens que mais são consumidos dentre as despesas"
   ]
  },
  {
   "cell_type": "code",
   "execution_count": 90,
   "metadata": {},
   "outputs": [],
   "source": [
    "qtd_top_itens = 5"
   ]
  },
  {
   "cell_type": "markdown",
   "metadata": {},
   "source": [
    "Quantidade exata de linhas para exibir no dataset"
   ]
  },
  {
   "cell_type": "code",
   "execution_count": 91,
   "metadata": {},
   "outputs": [],
   "source": [
    "pd.options.display.max_rows = qtd_top_itens + 1"
   ]
  },
  {
   "cell_type": "markdown",
   "metadata": {},
   "source": [
    "### Análise para a primeira classe social \"Até 1908 (2)\""
   ]
  },
  {
   "cell_type": "markdown",
   "metadata": {},
   "source": [
    "Lista dos N itens que mais foram consumidos dentre as despesas gerais"
   ]
  },
  {
   "cell_type": "code",
   "execution_count": 92,
   "metadata": {},
   "outputs": [
    {
     "data": {
      "text/html": [
       "<div>\n",
       "<style scoped>\n",
       "    .dataframe tbody tr th:only-of-type {\n",
       "        vertical-align: middle;\n",
       "    }\n",
       "\n",
       "    .dataframe tbody tr th {\n",
       "        vertical-align: top;\n",
       "    }\n",
       "\n",
       "    .dataframe thead th {\n",
       "        text-align: right;\n",
       "    }\n",
       "</style>\n",
       "<table border=\"1\" class=\"dataframe\">\n",
       "  <thead>\n",
       "    <tr style=\"text-align: right;\">\n",
       "      <th></th>\n",
       "      <th>Tipos de despesa, número e tamanho médio das famílias</th>\n",
       "      <th>Até 1908 (2)</th>\n",
       "    </tr>\n",
       "  </thead>\n",
       "  <tbody>\n",
       "    <tr>\n",
       "      <th>1</th>\n",
       "      <td>Habitação</td>\n",
       "      <td>817.04</td>\n",
       "    </tr>\n",
       "    <tr>\n",
       "      <th>0</th>\n",
       "      <td>Alimentação</td>\n",
       "      <td>470.26</td>\n",
       "    </tr>\n",
       "    <tr>\n",
       "      <th>2</th>\n",
       "      <td>Aluguel</td>\n",
       "      <td>423.40</td>\n",
       "    </tr>\n",
       "    <tr>\n",
       "      <th>4</th>\n",
       "      <td>Aluguel não monetário</td>\n",
       "      <td>343.97</td>\n",
       "    </tr>\n",
       "    <tr>\n",
       "      <th>6</th>\n",
       "      <td>Serviços e taxas</td>\n",
       "      <td>237.69</td>\n",
       "    </tr>\n",
       "    <tr>\n",
       "      <th>92</th>\n",
       "      <td>Total gasto por classes</td>\n",
       "      <td>4723.72</td>\n",
       "    </tr>\n",
       "  </tbody>\n",
       "</table>\n",
       "</div>"
      ],
      "text/plain": [
       "   Tipos de despesa, número e tamanho médio das famílias Até 1908 (2)\n",
       "1                                           Habitação          817.04\n",
       "0                                         Alimentação          470.26\n",
       "2                                             Aluguel          423.40\n",
       "4                               Aluguel não monetário          343.97\n",
       "6                                    Serviços e taxas          237.69\n",
       "92                            Total gasto por classes         4723.72"
      ]
     },
     "execution_count": 92,
     "metadata": {},
     "output_type": "execute_result"
    }
   ],
   "source": [
    "retorna_lista_top_N_itens_mais_vendidos_classe_social(df_despesas, 'Até 1908 (2)', qtd_top_itens)"
   ]
  },
  {
   "cell_type": "markdown",
   "metadata": {},
   "source": [
    "Plot da mesma lista acima, ignorando o total de gastos por classe"
   ]
  },
  {
   "cell_type": "code",
   "execution_count": 93,
   "metadata": {},
   "outputs": [
    {
     "data": {
      "image/png": "[encoded data removed]",
      "text/plain": [
       "<Figure size 432x288 with 1 Axes>"
      ]
     },
     "metadata": {
      "needs_background": "light"
     },
     "output_type": "display_data"
    }
   ],
   "source": [
    "plot_grafico_barras_lista_top_N_itens(df_despesas, 'Até 1908 (2)', qtd_top_itens, 'green')"
   ]
  },
  {
   "cell_type": "markdown",
   "metadata": {},
   "source": [
    "### Análise para a segunda classe social \"Mais de 1908 a 2862\""
   ]
  },
  {
   "cell_type": "markdown",
   "metadata": {},
   "source": [
    "Lista dos N itens que mais foram consumidos dentre as despesas gerais"
   ]
  },
  {
   "cell_type": "code",
   "execution_count": 94,
   "metadata": {},
   "outputs": [
    {
     "data": {
      "text/html": [
       "<div>\n",
       "<style scoped>\n",
       "    .dataframe tbody tr th:only-of-type {\n",
       "        vertical-align: middle;\n",
       "    }\n",
       "\n",
       "    .dataframe tbody tr th {\n",
       "        vertical-align: top;\n",
       "    }\n",
       "\n",
       "    .dataframe thead th {\n",
       "        text-align: right;\n",
       "    }\n",
       "</style>\n",
       "<table border=\"1\" class=\"dataframe\">\n",
       "  <thead>\n",
       "    <tr style=\"text-align: right;\">\n",
       "      <th></th>\n",
       "      <th>Tipos de despesa, número e tamanho médio das famílias</th>\n",
       "      <th>Mais de 1908 a 2862</th>\n",
       "    </tr>\n",
       "  </thead>\n",
       "  <tbody>\n",
       "    <tr>\n",
       "      <th>1</th>\n",
       "      <td>Habitação</td>\n",
       "      <td>1148.45</td>\n",
       "    </tr>\n",
       "    <tr>\n",
       "      <th>0</th>\n",
       "      <td>Alimentação</td>\n",
       "      <td>682.91</td>\n",
       "    </tr>\n",
       "    <tr>\n",
       "      <th>2</th>\n",
       "      <td>Aluguel</td>\n",
       "      <td>581.47</td>\n",
       "    </tr>\n",
       "    <tr>\n",
       "      <th>26</th>\n",
       "      <td>Transporte</td>\n",
       "      <td>530.95</td>\n",
       "    </tr>\n",
       "    <tr>\n",
       "      <th>4</th>\n",
       "      <td>Aluguel não monetário</td>\n",
       "      <td>503.24</td>\n",
       "    </tr>\n",
       "    <tr>\n",
       "      <th>92</th>\n",
       "      <td>Total gasto por classes</td>\n",
       "      <td>7618.75</td>\n",
       "    </tr>\n",
       "  </tbody>\n",
       "</table>\n",
       "</div>"
      ],
      "text/plain": [
       "   Tipos de despesa, número e tamanho médio das famílias Mais de 1908 a 2862\n",
       "1                                           Habitação                1148.45\n",
       "0                                         Alimentação                 682.91\n",
       "2                                             Aluguel                 581.47\n",
       "26                                         Transporte                 530.95\n",
       "4                               Aluguel não monetário                 503.24\n",
       "92                            Total gasto por classes                7618.75"
      ]
     },
     "execution_count": 94,
     "metadata": {},
     "output_type": "execute_result"
    }
   ],
   "source": [
    "retorna_lista_top_N_itens_mais_vendidos_classe_social(df_despesas, 'Mais de 1908 a 2862', qtd_top_itens)"
   ]
  },
  {
   "cell_type": "markdown",
   "metadata": {},
   "source": [
    "Plot da mesma lista acima, ignorando o total de gastos por classe"
   ]
  },
  {
   "cell_type": "code",
   "execution_count": 95,
   "metadata": {},
   "outputs": [
    {
     "data": {
      "image/png": "[encoded data removed]",
      "text/plain": [
       "<Figure size 432x288 with 1 Axes>"
      ]
     },
     "metadata": {
      "needs_background": "light"
     },
     "output_type": "display_data"
    }
   ],
   "source": [
    "plot_grafico_barras_lista_top_N_itens(df_despesas, 'Mais de 1908 a 2862', qtd_top_itens, 'yellow')"
   ]
  },
  {
   "cell_type": "markdown",
   "metadata": {},
   "source": [
    "### Análise para a terceira classe social \"Mais de 2862 a 5724\""
   ]
  },
  {
   "cell_type": "markdown",
   "metadata": {},
   "source": [
    "Lista dos N itens que mais foram consumidos dentre as despesas gerais"
   ]
  },
  {
   "cell_type": "code",
   "execution_count": 96,
   "metadata": {},
   "outputs": [
    {
     "data": {
      "text/html": [
       "<div>\n",
       "<style scoped>\n",
       "    .dataframe tbody tr th:only-of-type {\n",
       "        vertical-align: middle;\n",
       "    }\n",
       "\n",
       "    .dataframe tbody tr th {\n",
       "        vertical-align: top;\n",
       "    }\n",
       "\n",
       "    .dataframe thead th {\n",
       "        text-align: right;\n",
       "    }\n",
       "</style>\n",
       "<table border=\"1\" class=\"dataframe\">\n",
       "  <thead>\n",
       "    <tr style=\"text-align: right;\">\n",
       "      <th></th>\n",
       "      <th>Tipos de despesa, número e tamanho médio das famílias</th>\n",
       "      <th>Mais de 2862 a 5724</th>\n",
       "    </tr>\n",
       "  </thead>\n",
       "  <tbody>\n",
       "    <tr>\n",
       "      <th>1</th>\n",
       "      <td>Habitação</td>\n",
       "      <td>1658.10</td>\n",
       "    </tr>\n",
       "    <tr>\n",
       "      <th>26</th>\n",
       "      <td>Transporte</td>\n",
       "      <td>1089.90</td>\n",
       "    </tr>\n",
       "    <tr>\n",
       "      <th>0</th>\n",
       "      <td>Alimentação</td>\n",
       "      <td>965.76</td>\n",
       "    </tr>\n",
       "    <tr>\n",
       "      <th>2</th>\n",
       "      <td>Aluguel</td>\n",
       "      <td>799.82</td>\n",
       "    </tr>\n",
       "    <tr>\n",
       "      <th>4</th>\n",
       "      <td>Aluguel não monetário</td>\n",
       "      <td>700.82</td>\n",
       "    </tr>\n",
       "    <tr>\n",
       "      <th>92</th>\n",
       "      <td>Total gasto por classes</td>\n",
       "      <td>13440.48</td>\n",
       "    </tr>\n",
       "  </tbody>\n",
       "</table>\n",
       "</div>"
      ],
      "text/plain": [
       "   Tipos de despesa, número e tamanho médio das famílias Mais de 2862 a 5724\n",
       "1                                           Habitação                1658.10\n",
       "26                                         Transporte                1089.90\n",
       "0                                         Alimentação                 965.76\n",
       "2                                             Aluguel                 799.82\n",
       "4                               Aluguel não monetário                 700.82\n",
       "92                            Total gasto por classes               13440.48"
      ]
     },
     "execution_count": 96,
     "metadata": {},
     "output_type": "execute_result"
    }
   ],
   "source": [
    "retorna_lista_top_N_itens_mais_vendidos_classe_social(df_despesas, 'Mais de 2862 a 5724', qtd_top_itens)"
   ]
  },
  {
   "cell_type": "code",
   "execution_count": 97,
   "metadata": {},
   "outputs": [
    {
     "data": {
      "image/png": "[encoded data removed]",
      "text/plain": [
       "<Figure size 432x288 with 1 Axes>"
      ]
     },
     "metadata": {
      "needs_background": "light"
     },
     "output_type": "display_data"
    }
   ],
   "source": [
    "plot_grafico_barras_lista_top_N_itens(df_despesas, 'Mais de 2862 a 5724', qtd_top_itens, 'orange')"
   ]
  },
  {
   "cell_type": "markdown",
   "metadata": {},
   "source": [
    "### Análise para a quarta classe social \"Mais de 5724 a 9540\""
   ]
  },
  {
   "cell_type": "markdown",
   "metadata": {},
   "source": [
    "Lista dos N itens que mais foram consumidos dentre as despesas gerais"
   ]
  },
  {
   "cell_type": "code",
   "execution_count": 98,
   "metadata": {},
   "outputs": [
    {
     "data": {
      "text/html": [
       "<div>\n",
       "<style scoped>\n",
       "    .dataframe tbody tr th:only-of-type {\n",
       "        vertical-align: middle;\n",
       "    }\n",
       "\n",
       "    .dataframe tbody tr th {\n",
       "        vertical-align: top;\n",
       "    }\n",
       "\n",
       "    .dataframe thead th {\n",
       "        text-align: right;\n",
       "    }\n",
       "</style>\n",
       "<table border=\"1\" class=\"dataframe\">\n",
       "  <thead>\n",
       "    <tr style=\"text-align: right;\">\n",
       "      <th></th>\n",
       "      <th>Tipos de despesa, número e tamanho médio das famílias</th>\n",
       "      <th>Mais de 5724 a 9540</th>\n",
       "    </tr>\n",
       "  </thead>\n",
       "  <tbody>\n",
       "    <tr>\n",
       "      <th>1</th>\n",
       "      <td>Habitação</td>\n",
       "      <td>2278.54</td>\n",
       "    </tr>\n",
       "    <tr>\n",
       "      <th>26</th>\n",
       "      <td>Transporte</td>\n",
       "      <td>1811.58</td>\n",
       "    </tr>\n",
       "    <tr>\n",
       "      <th>76</th>\n",
       "      <td>Outras despesas correntes</td>\n",
       "      <td>1252.66</td>\n",
       "    </tr>\n",
       "    <tr>\n",
       "      <th>0</th>\n",
       "      <td>Alimentação</td>\n",
       "      <td>1183.04</td>\n",
       "    </tr>\n",
       "    <tr>\n",
       "      <th>2</th>\n",
       "      <td>Aluguel</td>\n",
       "      <td>1098.35</td>\n",
       "    </tr>\n",
       "    <tr>\n",
       "      <th>92</th>\n",
       "      <td>Total gasto por classes</td>\n",
       "      <td>19663.04</td>\n",
       "    </tr>\n",
       "  </tbody>\n",
       "</table>\n",
       "</div>"
      ],
      "text/plain": [
       "   Tipos de despesa, número e tamanho médio das famílias Mais de 5724 a 9540\n",
       "1                                           Habitação                2278.54\n",
       "26                                         Transporte                1811.58\n",
       "76                          Outras despesas correntes                1252.66\n",
       "0                                         Alimentação                1183.04\n",
       "2                                             Aluguel                1098.35\n",
       "92                            Total gasto por classes               19663.04"
      ]
     },
     "execution_count": 98,
     "metadata": {},
     "output_type": "execute_result"
    }
   ],
   "source": [
    "retorna_lista_top_N_itens_mais_vendidos_classe_social(df_despesas, 'Mais de 5724 a 9540', qtd_top_itens)"
   ]
  },
  {
   "cell_type": "code",
   "execution_count": 99,
   "metadata": {},
   "outputs": [
    {
     "data": {
      "image/png": "[encoded data removed]",
      "text/plain": [
       "<Figure size 432x288 with 1 Axes>"
      ]
     },
     "metadata": {
      "needs_background": "light"
     },
     "output_type": "display_data"
    }
   ],
   "source": [
    "plot_grafico_barras_lista_top_N_itens(df_despesas, 'Mais de 5724 a 9540', qtd_top_itens, 'red')"
   ]
  },
  {
   "cell_type": "markdown",
   "metadata": {},
   "source": [
    "### Análise para a quinta classe social \"Mais de 9540 a 14310\""
   ]
  },
  {
   "cell_type": "markdown",
   "metadata": {},
   "source": [
    "Lista dos N itens que mais foram consumidos dentre as despesas gerais"
   ]
  },
  {
   "cell_type": "code",
   "execution_count": 100,
   "metadata": {},
   "outputs": [
    {
     "data": {
      "text/html": [
       "<div>\n",
       "<style scoped>\n",
       "    .dataframe tbody tr th:only-of-type {\n",
       "        vertical-align: middle;\n",
       "    }\n",
       "\n",
       "    .dataframe tbody tr th {\n",
       "        vertical-align: top;\n",
       "    }\n",
       "\n",
       "    .dataframe thead th {\n",
       "        text-align: right;\n",
       "    }\n",
       "</style>\n",
       "<table border=\"1\" class=\"dataframe\">\n",
       "  <thead>\n",
       "    <tr style=\"text-align: right;\">\n",
       "      <th></th>\n",
       "      <th>Tipos de despesa, número e tamanho médio das famílias</th>\n",
       "      <th>Mais de 9540 a 14310</th>\n",
       "    </tr>\n",
       "  </thead>\n",
       "  <tbody>\n",
       "    <tr>\n",
       "      <th>1</th>\n",
       "      <td>Habitação</td>\n",
       "      <td>3102.18</td>\n",
       "    </tr>\n",
       "    <tr>\n",
       "      <th>26</th>\n",
       "      <td>Transporte</td>\n",
       "      <td>2537.54</td>\n",
       "    </tr>\n",
       "    <tr>\n",
       "      <th>76</th>\n",
       "      <td>Outras despesas correntes</td>\n",
       "      <td>2510.44</td>\n",
       "    </tr>\n",
       "    <tr>\n",
       "      <th>0</th>\n",
       "      <td>Alimentação</td>\n",
       "      <td>1511.11</td>\n",
       "    </tr>\n",
       "    <tr>\n",
       "      <th>2</th>\n",
       "      <td>Aluguel</td>\n",
       "      <td>1430.00</td>\n",
       "    </tr>\n",
       "    <tr>\n",
       "      <th>92</th>\n",
       "      <td>Total gasto por classes</td>\n",
       "      <td>29365.22</td>\n",
       "    </tr>\n",
       "  </tbody>\n",
       "</table>\n",
       "</div>"
      ],
      "text/plain": [
       "   Tipos de despesa, número e tamanho médio das famílias Mais de 9540 a 14310\n",
       "1                                           Habitação                 3102.18\n",
       "26                                         Transporte                 2537.54\n",
       "76                          Outras despesas correntes                 2510.44\n",
       "0                                         Alimentação                 1511.11\n",
       "2                                             Aluguel                 1430.00\n",
       "92                            Total gasto por classes                29365.22"
      ]
     },
     "execution_count": 100,
     "metadata": {},
     "output_type": "execute_result"
    }
   ],
   "source": [
    "retorna_lista_top_N_itens_mais_vendidos_classe_social(df_despesas, 'Mais de 9540 a 14310', qtd_top_itens)"
   ]
  },
  {
   "cell_type": "code",
   "execution_count": 101,
   "metadata": {},
   "outputs": [
    {
     "data": {
      "image/png": "[encoded data removed]",
      "text/plain": [
       "<Figure size 432x288 with 1 Axes>"
      ]
     },
     "metadata": {
      "needs_background": "light"
     },
     "output_type": "display_data"
    }
   ],
   "source": [
    "plot_grafico_barras_lista_top_N_itens(df_despesas, 'Mais de 9540 a 14310', qtd_top_itens, 'blue')"
   ]
  },
  {
   "cell_type": "markdown",
   "metadata": {},
   "source": [
    "### Análise para a sexta classe social \"Mais de 14310 a 23850\""
   ]
  },
  {
   "cell_type": "markdown",
   "metadata": {},
   "source": [
    "Lista dos N itens que mais foram consumidos dentre as despesas gerais"
   ]
  },
  {
   "cell_type": "code",
   "execution_count": 102,
   "metadata": {},
   "outputs": [
    {
     "data": {
      "text/html": [
       "<div>\n",
       "<style scoped>\n",
       "    .dataframe tbody tr th:only-of-type {\n",
       "        vertical-align: middle;\n",
       "    }\n",
       "\n",
       "    .dataframe tbody tr th {\n",
       "        vertical-align: top;\n",
       "    }\n",
       "\n",
       "    .dataframe thead th {\n",
       "        text-align: right;\n",
       "    }\n",
       "</style>\n",
       "<table border=\"1\" class=\"dataframe\">\n",
       "  <thead>\n",
       "    <tr style=\"text-align: right;\">\n",
       "      <th></th>\n",
       "      <th>Tipos de despesa, número e tamanho médio das famílias</th>\n",
       "      <th>Mais de 14310 a 23850</th>\n",
       "    </tr>\n",
       "  </thead>\n",
       "  <tbody>\n",
       "    <tr>\n",
       "      <th>76</th>\n",
       "      <td>Outras despesas correntes</td>\n",
       "      <td>4806.89</td>\n",
       "    </tr>\n",
       "    <tr>\n",
       "      <th>1</th>\n",
       "      <td>Habitação</td>\n",
       "      <td>4744.36</td>\n",
       "    </tr>\n",
       "    <tr>\n",
       "      <th>26</th>\n",
       "      <td>Transporte</td>\n",
       "      <td>3792.67</td>\n",
       "    </tr>\n",
       "    <tr>\n",
       "      <th>83</th>\n",
       "      <td>Aumento do ativo</td>\n",
       "      <td>2472.91</td>\n",
       "    </tr>\n",
       "    <tr>\n",
       "      <th>0</th>\n",
       "      <td>Alimentação</td>\n",
       "      <td>2111.32</td>\n",
       "    </tr>\n",
       "    <tr>\n",
       "      <th>92</th>\n",
       "      <td>Total gasto por classes</td>\n",
       "      <td>48634.53</td>\n",
       "    </tr>\n",
       "  </tbody>\n",
       "</table>\n",
       "</div>"
      ],
      "text/plain": [
       "   Tipos de despesa, número e tamanho médio das famílias Mais de 14310 a 23850\n",
       "76                          Outras despesas correntes                  4806.89\n",
       "1                                           Habitação                  4744.36\n",
       "26                                         Transporte                  3792.67\n",
       "83                                   Aumento do ativo                  2472.91\n",
       "0                                         Alimentação                  2111.32\n",
       "92                            Total gasto por classes                 48634.53"
      ]
     },
     "execution_count": 102,
     "metadata": {},
     "output_type": "execute_result"
    }
   ],
   "source": [
    "retorna_lista_top_N_itens_mais_vendidos_classe_social(df_despesas, 'Mais de 14310 a 23850', qtd_top_itens)"
   ]
  },
  {
   "cell_type": "code",
   "execution_count": 103,
   "metadata": {},
   "outputs": [
    {
     "data": {
      "image/png": "[encoded data removed]",
      "text/plain": [
       "<Figure size 432x288 with 1 Axes>"
      ]
     },
     "metadata": {
      "needs_background": "light"
     },
     "output_type": "display_data"
    }
   ],
   "source": [
    "plot_grafico_barras_lista_top_N_itens(df_despesas, 'Mais de 14310 a 23850', qtd_top_itens, 'purple')"
   ]
  },
  {
   "cell_type": "code",
   "execution_count": 104,
   "metadata": {},
   "outputs": [],
   "source": [
    "cores = ['green', 'yellow', 'orange', 'red', 'blue', 'purple']"
   ]
  },
  {
   "cell_type": "code",
   "execution_count": 108,
   "metadata": {
    "scrolled": true
   },
   "outputs": [
    {
     "data": {
      "image/png": "[encoded data removed]",
      "text/plain": [
       "<Figure size 432x1440 with 6 Axes>"
      ]
     },
     "metadata": {
      "needs_background": "light"
     },
     "output_type": "display_data"
    }
   ],
   "source": [
    "plot_todos_graficos_barras_lista_top_N_itens(df_despesas, qtd_top_itens, cores)"
   ]
  },
  {
   "cell_type": "code",
   "execution_count": null,
   "metadata": {},
   "outputs": [],
   "source": []
  }
 ],
 "metadata": {
  "kernelspec": {
   "display_name": "Python 3",
   "language": "python",
   "name": "python3"
  },
  "language_info": {
   "codemirror_mode": {
    "name": "ipython",
    "version": 3
   },
   "file_extension": ".py",
   "mimetype": "text/x-python",
   "name": "python",
   "nbconvert_exporter": "python",
   "pygments_lexer": "ipython3",
   "version": "3.7.2"
  }
 },
 "nbformat": 4,
 "nbformat_minor": 2
}
