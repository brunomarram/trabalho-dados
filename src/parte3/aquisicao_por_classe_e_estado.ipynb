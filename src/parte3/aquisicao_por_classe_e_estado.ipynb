{
 "cells": [
  {
   "cell_type": "code",
   "execution_count": 1,
   "metadata": {},
   "outputs": [],
   "source": [
    "# Até a célula 24 são apenas as preparações de dados que fizemos até a entrega 2, depois disso que serão aplicadas as novas métricas.\n",
    "\n",
    "# Além disso, tem apenas um incremento sobre o que foi pedido no dia da reunião. Os dados de cada estado foram coletados de tabelas .xlsx. Esses dados estavam em tabelas com múltiplas abas, onde apenas duas nos interessavam no momento. Sendo assim, a partir dessas duas abas, fizemos o download no formato CSV e a partir daí copiamos (na mão) apenas as linhas e colunas que nos interessavam para um novo arquivo CSV, nosso dataset \"final\", usado no trabalho."
   ]
  },
  {
   "cell_type": "code",
   "execution_count": 2,
   "metadata": {},
   "outputs": [],
   "source": [
    "import pandas as pd\n",
    "import numpy as np\n",
    "#import matplotlib.pyplot as plt\n",
    "\n",
    "pd.options.display.float_format = \"{:.2f}\".format\n",
    "pd.options.display.max_rows = 10"
   ]
  },
  {
   "cell_type": "code",
   "execution_count": 3,
   "metadata": {},
   "outputs": [],
   "source": [
    "def converter_dados_numericos_notacao_brasileira_para_float(value):\n",
    "    if(value == '-'):\n",
    "        return -1\n",
    "    resultado = value.replace(\" \", \"\")\n",
    "    resultado = resultado.replace(\".\", \"\")\n",
    "    resultado = resultado.replace(\",\", \".\")\n",
    "    return resultado"
   ]
  },
  {
   "cell_type": "code",
   "execution_count": 4,
   "metadata": {},
   "outputs": [],
   "source": [
    "estado = \"MG\""
   ]
  },
  {
   "cell_type": "code",
   "execution_count": 5,
   "metadata": {},
   "outputs": [],
   "source": [
    "nome_arquivo_alimentacao = \"../dados-limpos/aquisicao_por_classe_de_rendimento_e_estado/%s/dados-limpos/%s_alimentacao.csv\" % (estado, estado)"
   ]
  },
  {
   "cell_type": "code",
   "execution_count": 6,
   "metadata": {},
   "outputs": [],
   "source": [
    "dados_alimentacao_estado = pd.read_csv(nome_arquivo_alimentacao, index_col=False, squeeze=True)\n",
    "\n",
    "#Remove colunas unamed\n",
    "dados_alimentacao_estado = dados_alimentacao_estado.dropna(how='all', axis='columns')"
   ]
  },
  {
   "cell_type": "code",
   "execution_count": 7,
   "metadata": {},
   "outputs": [
    {
     "output_type": "execute_result",
     "data": {
      "text/plain": [
       "Index(['Tipos de despesa, número e tamanho médio das famílias',\n",
       "       ' \"Despesa monetária e não monetária média mensal familiar (R$)\"',\n",
       "       ' \"Total\"', ' \"Até 1908 (2)\"', 'Mais de 1908 a 2862',\n",
       "       'Mais de 2862 a 5724', 'Mais de 5724 a 9540', 'Mais de 9540 a 14310',\n",
       "       'Mais de 14310 a 23850'],\n",
       "      dtype='object')"
      ]
     },
     "metadata": {},
     "execution_count": 7
    }
   ],
   "source": [
    "dados_alimentacao_estado.columns"
   ]
  },
  {
   "cell_type": "code",
   "execution_count": 8,
   "metadata": {},
   "outputs": [],
   "source": [
    "# Removendo aspas duplas e espaços em branco nos nomes das colunas\n",
    "\n",
    "dados_alimentacao_estado.columns = dados_alimentacao_estado.columns.str.replace('\"', '')\n",
    "dados_alimentacao_estado.columns = dados_alimentacao_estado.columns.str.strip()"
   ]
  },
  {
   "cell_type": "code",
   "execution_count": 9,
   "metadata": {},
   "outputs": [
    {
     "output_type": "execute_result",
     "data": {
      "text/plain": [
       "Index(['Tipos de despesa, número e tamanho médio das famílias',\n",
       "       'Despesa monetária e não monetária média mensal familiar (R$)', 'Total',\n",
       "       'Até 1908 (2)', 'Mais de 1908 a 2862', 'Mais de 2862 a 5724',\n",
       "       'Mais de 5724 a 9540', 'Mais de 9540 a 14310', 'Mais de 14310 a 23850'],\n",
       "      dtype='object')"
      ]
     },
     "metadata": {},
     "execution_count": 9
    }
   ],
   "source": [
    "dados_alimentacao_estado.columns"
   ]
  },
  {
   "cell_type": "code",
   "execution_count": 10,
   "metadata": {},
   "outputs": [
    {
     "output_type": "execute_result",
     "data": {
      "text/plain": [
       "   Tipos de despesa, número e tamanho médio das famílias  \\\n",
       "0                            Despesas com alimentação      \n",
       "1                            Alimentação no domicílio      \n",
       "2                  Cereais, leguminosas e oleaginosas      \n",
       "3                                               Arroz      \n",
       "4                                              Feijão      \n",
       "..                                                ...      \n",
       "81      Cervejas, chopes e outras bebidas alcoólicas       \n",
       "82                           Alimentação light e diet      \n",
       "83                                             Outras      \n",
       "84                                 Número de famílias      \n",
       "85                           Tamanho médio da família      \n",
       "\n",
       "   Despesa monetária e não monetária média mensal familiar (R$)    Total  \\\n",
       "0                                              688,51             327,38   \n",
       "1                                              421,18             233,71   \n",
       "2                                               22,81              21,01   \n",
       "3                                               14,25              13,81   \n",
       "4                                                5,56               5,67   \n",
       "..                                                ...                ...   \n",
       "81                                               8,98               3,63   \n",
       "82                                               0,09               0,11   \n",
       "83                                              47,94              29,26   \n",
       "84                                            7149295            1392069   \n",
       "85                                               2,93               2,36   \n",
       "\n",
       "   Até 1908 (2) Mais de 1908 a 2862 Mais de 2862 a 5724 Mais de 5724 a 9540  \\\n",
       "0        470,26              682,91              965,76             1183,04   \n",
       "1        310,48              432,82              562,13              664,21   \n",
       "2         20,50               23,90               22,86               22,67   \n",
       "3         13,31               15,60               13,85               12,66   \n",
       "4          5,60                5,81                5,13                5,31   \n",
       "..          ...                 ...                 ...                 ...   \n",
       "81         6,21                9,63               15,13               14,46   \n",
       "82         0,05                0,09                0,15                0,00   \n",
       "83        48,33               51,90               67,03               38,61   \n",
       "84      1478894             2470800             1092145              384637   \n",
       "85         2,69                3,13                3,48                3,11   \n",
       "\n",
       "   Mais de 9540 a 14310 Mais de 14310 a 23850  \n",
       "0               1511,11               2111,32  \n",
       "1                784,44               1013,62  \n",
       "2                 33,65                 30,67  \n",
       "3                 14,22                 12,00  \n",
       "4                  3,99                  6,16  \n",
       "..                  ...                   ...  \n",
       "81                 9,64                 16,72  \n",
       "82                    -                  0,51  \n",
       "83                47,58                 35,43  \n",
       "84               207088                123662  \n",
       "85                 2,93                  3,02  \n",
       "\n",
       "[86 rows x 9 columns]"
      ],
      "text/html": "<div>\n<style scoped>\n    .dataframe tbody tr th:only-of-type {\n        vertical-align: middle;\n    }\n\n    .dataframe tbody tr th {\n        vertical-align: top;\n    }\n\n    .dataframe thead th {\n        text-align: right;\n    }\n</style>\n<table border=\"1\" class=\"dataframe\">\n  <thead>\n    <tr style=\"text-align: right;\">\n      <th></th>\n      <th>Tipos de despesa, número e tamanho médio das famílias</th>\n      <th>Despesa monetária e não monetária média mensal familiar (R$)</th>\n      <th>Total</th>\n      <th>Até 1908 (2)</th>\n      <th>Mais de 1908 a 2862</th>\n      <th>Mais de 2862 a 5724</th>\n      <th>Mais de 5724 a 9540</th>\n      <th>Mais de 9540 a 14310</th>\n      <th>Mais de 14310 a 23850</th>\n    </tr>\n  </thead>\n  <tbody>\n    <tr>\n      <th>0</th>\n      <td>Despesas com alimentação</td>\n      <td>688,51</td>\n      <td>327,38</td>\n      <td>470,26</td>\n      <td>682,91</td>\n      <td>965,76</td>\n      <td>1183,04</td>\n      <td>1511,11</td>\n      <td>2111,32</td>\n    </tr>\n    <tr>\n      <th>1</th>\n      <td>Alimentação no domicílio</td>\n      <td>421,18</td>\n      <td>233,71</td>\n      <td>310,48</td>\n      <td>432,82</td>\n      <td>562,13</td>\n      <td>664,21</td>\n      <td>784,44</td>\n      <td>1013,62</td>\n    </tr>\n    <tr>\n      <th>2</th>\n      <td>Cereais, leguminosas e oleaginosas</td>\n      <td>22,81</td>\n      <td>21,01</td>\n      <td>20,50</td>\n      <td>23,90</td>\n      <td>22,86</td>\n      <td>22,67</td>\n      <td>33,65</td>\n      <td>30,67</td>\n    </tr>\n    <tr>\n      <th>3</th>\n      <td>Arroz</td>\n      <td>14,25</td>\n      <td>13,81</td>\n      <td>13,31</td>\n      <td>15,60</td>\n      <td>13,85</td>\n      <td>12,66</td>\n      <td>14,22</td>\n      <td>12,00</td>\n    </tr>\n    <tr>\n      <th>4</th>\n      <td>Feijão</td>\n      <td>5,56</td>\n      <td>5,67</td>\n      <td>5,60</td>\n      <td>5,81</td>\n      <td>5,13</td>\n      <td>5,31</td>\n      <td>3,99</td>\n      <td>6,16</td>\n    </tr>\n    <tr>\n      <th>...</th>\n      <td>...</td>\n      <td>...</td>\n      <td>...</td>\n      <td>...</td>\n      <td>...</td>\n      <td>...</td>\n      <td>...</td>\n      <td>...</td>\n      <td>...</td>\n    </tr>\n    <tr>\n      <th>81</th>\n      <td>Cervejas, chopes e outras bebidas alcoólicas</td>\n      <td>8,98</td>\n      <td>3,63</td>\n      <td>6,21</td>\n      <td>9,63</td>\n      <td>15,13</td>\n      <td>14,46</td>\n      <td>9,64</td>\n      <td>16,72</td>\n    </tr>\n    <tr>\n      <th>82</th>\n      <td>Alimentação light e diet</td>\n      <td>0,09</td>\n      <td>0,11</td>\n      <td>0,05</td>\n      <td>0,09</td>\n      <td>0,15</td>\n      <td>0,00</td>\n      <td>-</td>\n      <td>0,51</td>\n    </tr>\n    <tr>\n      <th>83</th>\n      <td>Outras</td>\n      <td>47,94</td>\n      <td>29,26</td>\n      <td>48,33</td>\n      <td>51,90</td>\n      <td>67,03</td>\n      <td>38,61</td>\n      <td>47,58</td>\n      <td>35,43</td>\n    </tr>\n    <tr>\n      <th>84</th>\n      <td>Número de famílias</td>\n      <td>7149295</td>\n      <td>1392069</td>\n      <td>1478894</td>\n      <td>2470800</td>\n      <td>1092145</td>\n      <td>384637</td>\n      <td>207088</td>\n      <td>123662</td>\n    </tr>\n    <tr>\n      <th>85</th>\n      <td>Tamanho médio da família</td>\n      <td>2,93</td>\n      <td>2,36</td>\n      <td>2,69</td>\n      <td>3,13</td>\n      <td>3,48</td>\n      <td>3,11</td>\n      <td>2,93</td>\n      <td>3,02</td>\n    </tr>\n  </tbody>\n</table>\n<p>86 rows × 9 columns</p>\n</div>"
     },
     "metadata": {},
     "execution_count": 10
    }
   ],
   "source": [
    "dados_alimentacao_estado"
   ]
  },
  {
   "cell_type": "code",
   "execution_count": 11,
   "metadata": {},
   "outputs": [],
   "source": [
    "# Removendo aspas duplas e espaços em branco nos tipos de despesas\n",
    "\n",
    "dados_alimentacao_estado.iloc[:, 0] = dados_alimentacao_estado.iloc[:, 0].str.replace('\"', '')\n",
    "dados_alimentacao_estado.iloc[:, 0] = dados_alimentacao_estado.iloc[:, 0].str.strip()"
   ]
  },
  {
   "cell_type": "code",
   "execution_count": 12,
   "metadata": {},
   "outputs": [],
   "source": [
    "# Percorre as colunas selecionadas do DF e converte os valores numéricos na notação BR para o padrão float\n",
    "\n",
    "dados_alimentacao_estado.iloc[:, 1:9] = dados_alimentacao_estado.iloc[:, 1:9].applymap(converter_dados_numericos_notacao_brasileira_para_float) # Também funciona com .loc, a diferença é que requer os nomes da colunas."
   ]
  },
  {
   "cell_type": "code",
   "execution_count": 13,
   "metadata": {},
   "outputs": [],
   "source": [
    "# Faz o casting nas colunas selecionadas do DF para float\n",
    "\n",
    "dados_alimentacao_estado.iloc[:, 1:9] = dados_alimentacao_estado.iloc[:, 1:9].astype('float') # Também funciona com .loc, a diferença é que requer os nomes da colunas."
   ]
  },
  {
   "cell_type": "code",
   "execution_count": 14,
   "metadata": {},
   "outputs": [
    {
     "output_type": "execute_result",
     "data": {
      "text/plain": [
       "   Tipos de despesa, número e tamanho médio das famílias  \\\n",
       "0                            Despesas com alimentação      \n",
       "1                            Alimentação no domicílio      \n",
       "2                  Cereais, leguminosas e oleaginosas      \n",
       "3                                               Arroz      \n",
       "4                                              Feijão      \n",
       "..                                                ...      \n",
       "81       Cervejas, chopes e outras bebidas alcoólicas      \n",
       "82                           Alimentação light e diet      \n",
       "83                                             Outras      \n",
       "84                                 Número de famílias      \n",
       "85                           Tamanho médio da família      \n",
       "\n",
       "   Despesa monetária e não monetária média mensal familiar (R$)      Total  \\\n",
       "0                                              688.51               327.38   \n",
       "1                                              421.18               233.71   \n",
       "2                                               22.81                21.01   \n",
       "3                                               14.25                13.81   \n",
       "4                                                5.56                 5.67   \n",
       "..                                                ...                  ...   \n",
       "81                                               8.98                 3.63   \n",
       "82                                               0.09                 0.11   \n",
       "83                                              47.94                29.26   \n",
       "84                                         7149295.00           1392069.00   \n",
       "85                                               2.93                 2.36   \n",
       "\n",
       "   Até 1908 (2) Mais de 1908 a 2862 Mais de 2862 a 5724 Mais de 5724 a 9540  \\\n",
       "0        470.26              682.91              965.76             1183.04   \n",
       "1        310.48              432.82              562.13              664.21   \n",
       "2         20.50               23.90               22.86               22.67   \n",
       "3         13.31               15.60               13.85               12.66   \n",
       "4          5.60                5.81                5.13                5.31   \n",
       "..          ...                 ...                 ...                 ...   \n",
       "81         6.21                9.63               15.13               14.46   \n",
       "82         0.05                0.09                0.15                0.00   \n",
       "83        48.33               51.90               67.03               38.61   \n",
       "84   1478894.00          2470800.00          1092145.00           384637.00   \n",
       "85         2.69                3.13                3.48                3.11   \n",
       "\n",
       "   Mais de 9540 a 14310 Mais de 14310 a 23850  \n",
       "0               1511.11               2111.32  \n",
       "1                784.44               1013.62  \n",
       "2                 33.65                 30.67  \n",
       "3                 14.22                 12.00  \n",
       "4                  3.99                  6.16  \n",
       "..                  ...                   ...  \n",
       "81                 9.64                 16.72  \n",
       "82                -1.00                  0.51  \n",
       "83                47.58                 35.43  \n",
       "84            207088.00             123662.00  \n",
       "85                 2.93                  3.02  \n",
       "\n",
       "[86 rows x 9 columns]"
      ],
      "text/html": "<div>\n<style scoped>\n    .dataframe tbody tr th:only-of-type {\n        vertical-align: middle;\n    }\n\n    .dataframe tbody tr th {\n        vertical-align: top;\n    }\n\n    .dataframe thead th {\n        text-align: right;\n    }\n</style>\n<table border=\"1\" class=\"dataframe\">\n  <thead>\n    <tr style=\"text-align: right;\">\n      <th></th>\n      <th>Tipos de despesa, número e tamanho médio das famílias</th>\n      <th>Despesa monetária e não monetária média mensal familiar (R$)</th>\n      <th>Total</th>\n      <th>Até 1908 (2)</th>\n      <th>Mais de 1908 a 2862</th>\n      <th>Mais de 2862 a 5724</th>\n      <th>Mais de 5724 a 9540</th>\n      <th>Mais de 9540 a 14310</th>\n      <th>Mais de 14310 a 23850</th>\n    </tr>\n  </thead>\n  <tbody>\n    <tr>\n      <th>0</th>\n      <td>Despesas com alimentação</td>\n      <td>688.51</td>\n      <td>327.38</td>\n      <td>470.26</td>\n      <td>682.91</td>\n      <td>965.76</td>\n      <td>1183.04</td>\n      <td>1511.11</td>\n      <td>2111.32</td>\n    </tr>\n    <tr>\n      <th>1</th>\n      <td>Alimentação no domicílio</td>\n      <td>421.18</td>\n      <td>233.71</td>\n      <td>310.48</td>\n      <td>432.82</td>\n      <td>562.13</td>\n      <td>664.21</td>\n      <td>784.44</td>\n      <td>1013.62</td>\n    </tr>\n    <tr>\n      <th>2</th>\n      <td>Cereais, leguminosas e oleaginosas</td>\n      <td>22.81</td>\n      <td>21.01</td>\n      <td>20.50</td>\n      <td>23.90</td>\n      <td>22.86</td>\n      <td>22.67</td>\n      <td>33.65</td>\n      <td>30.67</td>\n    </tr>\n    <tr>\n      <th>3</th>\n      <td>Arroz</td>\n      <td>14.25</td>\n      <td>13.81</td>\n      <td>13.31</td>\n      <td>15.60</td>\n      <td>13.85</td>\n      <td>12.66</td>\n      <td>14.22</td>\n      <td>12.00</td>\n    </tr>\n    <tr>\n      <th>4</th>\n      <td>Feijão</td>\n      <td>5.56</td>\n      <td>5.67</td>\n      <td>5.60</td>\n      <td>5.81</td>\n      <td>5.13</td>\n      <td>5.31</td>\n      <td>3.99</td>\n      <td>6.16</td>\n    </tr>\n    <tr>\n      <th>...</th>\n      <td>...</td>\n      <td>...</td>\n      <td>...</td>\n      <td>...</td>\n      <td>...</td>\n      <td>...</td>\n      <td>...</td>\n      <td>...</td>\n      <td>...</td>\n    </tr>\n    <tr>\n      <th>81</th>\n      <td>Cervejas, chopes e outras bebidas alcoólicas</td>\n      <td>8.98</td>\n      <td>3.63</td>\n      <td>6.21</td>\n      <td>9.63</td>\n      <td>15.13</td>\n      <td>14.46</td>\n      <td>9.64</td>\n      <td>16.72</td>\n    </tr>\n    <tr>\n      <th>82</th>\n      <td>Alimentação light e diet</td>\n      <td>0.09</td>\n      <td>0.11</td>\n      <td>0.05</td>\n      <td>0.09</td>\n      <td>0.15</td>\n      <td>0.00</td>\n      <td>-1.00</td>\n      <td>0.51</td>\n    </tr>\n    <tr>\n      <th>83</th>\n      <td>Outras</td>\n      <td>47.94</td>\n      <td>29.26</td>\n      <td>48.33</td>\n      <td>51.90</td>\n      <td>67.03</td>\n      <td>38.61</td>\n      <td>47.58</td>\n      <td>35.43</td>\n    </tr>\n    <tr>\n      <th>84</th>\n      <td>Número de famílias</td>\n      <td>7149295.00</td>\n      <td>1392069.00</td>\n      <td>1478894.00</td>\n      <td>2470800.00</td>\n      <td>1092145.00</td>\n      <td>384637.00</td>\n      <td>207088.00</td>\n      <td>123662.00</td>\n    </tr>\n    <tr>\n      <th>85</th>\n      <td>Tamanho médio da família</td>\n      <td>2.93</td>\n      <td>2.36</td>\n      <td>2.69</td>\n      <td>3.13</td>\n      <td>3.48</td>\n      <td>3.11</td>\n      <td>2.93</td>\n      <td>3.02</td>\n    </tr>\n  </tbody>\n</table>\n<p>86 rows × 9 columns</p>\n</div>"
     },
     "metadata": {},
     "execution_count": 14
    }
   ],
   "source": [
    "dados_alimentacao_estado"
   ]
  },
  {
   "cell_type": "code",
   "execution_count": 15,
   "metadata": {},
   "outputs": [],
   "source": [
    "nome_arquivo_despesas = \"../dados-limpos/aquisicao_por_classe_de_rendimento_e_estado/%s/dados-limpos/%s_tipos_despesas.csv\" % (estado, estado)"
   ]
  },
  {
   "cell_type": "code",
   "execution_count": 16,
   "metadata": {},
   "outputs": [],
   "source": [
    "dados_despesas_estado = pd.read_csv(nome_arquivo_despesas, index_col=False, squeeze=True)\n",
    "\n",
    "#Remove colunas unamed\n",
    "dados_despesas_estado = dados_despesas_estado.dropna(how='all', axis='columns')"
   ]
  },
  {
   "cell_type": "code",
   "execution_count": 17,
   "metadata": {},
   "outputs": [
    {
     "output_type": "execute_result",
     "data": {
      "text/plain": [
       "Index(['Tipos de despesa, número e tamanho médio das famílias',\n",
       "       ' \"Despesa monetária e não monetária média mensal familiar (R$)\"',\n",
       "       ' \"Total\"', ' \"Até 1908 (2)\"', 'Mais de 1908 a 2862',\n",
       "       'Mais de 2862 a 5724', 'Mais de 5724 a 9540', 'Mais de 9540 a 14310',\n",
       "       'Mais de 14310 a 23850'],\n",
       "      dtype='object')"
      ]
     },
     "metadata": {},
     "execution_count": 17
    }
   ],
   "source": [
    "dados_despesas_estado.columns"
   ]
  },
  {
   "cell_type": "code",
   "execution_count": 18,
   "metadata": {},
   "outputs": [],
   "source": [
    "# Removendo aspas duplas e espaços em branco nos nomes das colunas\n",
    "\n",
    "dados_despesas_estado.columns = dados_despesas_estado.columns.str.replace('\"', '')\n",
    "dados_despesas_estado.columns = dados_despesas_estado.columns.str.strip()"
   ]
  },
  {
   "cell_type": "code",
   "execution_count": 19,
   "metadata": {},
   "outputs": [
    {
     "output_type": "execute_result",
     "data": {
      "text/plain": [
       "Index(['Tipos de despesa, número e tamanho médio das famílias',\n",
       "       'Despesa monetária e não monetária média mensal familiar (R$)', 'Total',\n",
       "       'Até 1908 (2)', 'Mais de 1908 a 2862', 'Mais de 2862 a 5724',\n",
       "       'Mais de 5724 a 9540', 'Mais de 9540 a 14310', 'Mais de 14310 a 23850'],\n",
       "      dtype='object')"
      ]
     },
     "metadata": {},
     "execution_count": 19
    }
   ],
   "source": [
    "dados_despesas_estado.columns"
   ]
  },
  {
   "cell_type": "code",
   "execution_count": 20,
   "metadata": {},
   "outputs": [
    {
     "output_type": "execute_result",
     "data": {
      "text/plain": [
       "   Tipos de despesa, número e tamanho médio das famílias  \\\n",
       "0                                       Despesa total      \n",
       "1                                  Despesas correntes      \n",
       "2                                 Despesas de consumo      \n",
       "3                                         Alimentação      \n",
       "4                                           Habitação      \n",
       "..                                                ...      \n",
       "90                              Diminuição do passivo      \n",
       "91                                         Empréstimo      \n",
       "92                                Prestação de imóvel      \n",
       "93                                 Número de famílias      \n",
       "94                           Tamanho médio da família      \n",
       "\n",
       "   Despesa monetária e não monetária média mensal familiar (R$)      Total  \\\n",
       "0                                           4.390,72             1.501,78    \n",
       "1                                           4.082,30             1.457,93    \n",
       "2                                           3.635,92             1.392,69    \n",
       "3                                             688,51               327,38    \n",
       "4                                           1.230,81               601,35    \n",
       "..                                                ...                  ...   \n",
       "90                                            143,70                30,34    \n",
       "91                                             97,40                25,72    \n",
       "92                                             46,30                 4,62    \n",
       "93                                            7149295              1392069   \n",
       "94                                               2,93                 2,36   \n",
       "\n",
       "   Até 1908 (2) Mais de 1908 a 2862 Mais de 2862 a 5724 Mais de 5724 a 9540  \\\n",
       "0     2.271,56            3.697,32            6.575,93            9.589,42    \n",
       "1     2.159,63            3.510,91            6.027,63            8.811,94    \n",
       "2     2.039,02            3.247,30            5.409,91            7.559,27    \n",
       "3       470,26              682,91              965,76            1.183,04    \n",
       "4       817,04            1.148,45            1.658,10            2.278,54    \n",
       "..          ...                 ...                 ...                 ...   \n",
       "90       59,54              102,50              278,77              371,04    \n",
       "91       46,18               76,03              181,62              284,33    \n",
       "92       13,36               26,47               97,15               86,72    \n",
       "93      1478894             2470800             1092145              384637   \n",
       "94         2,69                3,13                3,48                3,11   \n",
       "\n",
       "   Mais de 9540 a 14310 Mais de 14310 a 23850  \n",
       "0            14.391,83             23.891,78   \n",
       "1            13.263,37             20.768,46   \n",
       "2            10.752,93             15.961,57   \n",
       "3             1.511,11              2.111,32   \n",
       "4             3.102,18              4.744,36   \n",
       "..                  ...                   ...  \n",
       "90              561,06                650,42   \n",
       "91              324,54                238,06   \n",
       "92              236,52                412,36   \n",
       "93               207088               123662   \n",
       "94                 2,93                  3,02  \n",
       "\n",
       "[95 rows x 9 columns]"
      ],
      "text/html": "<div>\n<style scoped>\n    .dataframe tbody tr th:only-of-type {\n        vertical-align: middle;\n    }\n\n    .dataframe tbody tr th {\n        vertical-align: top;\n    }\n\n    .dataframe thead th {\n        text-align: right;\n    }\n</style>\n<table border=\"1\" class=\"dataframe\">\n  <thead>\n    <tr style=\"text-align: right;\">\n      <th></th>\n      <th>Tipos de despesa, número e tamanho médio das famílias</th>\n      <th>Despesa monetária e não monetária média mensal familiar (R$)</th>\n      <th>Total</th>\n      <th>Até 1908 (2)</th>\n      <th>Mais de 1908 a 2862</th>\n      <th>Mais de 2862 a 5724</th>\n      <th>Mais de 5724 a 9540</th>\n      <th>Mais de 9540 a 14310</th>\n      <th>Mais de 14310 a 23850</th>\n    </tr>\n  </thead>\n  <tbody>\n    <tr>\n      <th>0</th>\n      <td>Despesa total</td>\n      <td>4.390,72</td>\n      <td>1.501,78</td>\n      <td>2.271,56</td>\n      <td>3.697,32</td>\n      <td>6.575,93</td>\n      <td>9.589,42</td>\n      <td>14.391,83</td>\n      <td>23.891,78</td>\n    </tr>\n    <tr>\n      <th>1</th>\n      <td>Despesas correntes</td>\n      <td>4.082,30</td>\n      <td>1.457,93</td>\n      <td>2.159,63</td>\n      <td>3.510,91</td>\n      <td>6.027,63</td>\n      <td>8.811,94</td>\n      <td>13.263,37</td>\n      <td>20.768,46</td>\n    </tr>\n    <tr>\n      <th>2</th>\n      <td>Despesas de consumo</td>\n      <td>3.635,92</td>\n      <td>1.392,69</td>\n      <td>2.039,02</td>\n      <td>3.247,30</td>\n      <td>5.409,91</td>\n      <td>7.559,27</td>\n      <td>10.752,93</td>\n      <td>15.961,57</td>\n    </tr>\n    <tr>\n      <th>3</th>\n      <td>Alimentação</td>\n      <td>688,51</td>\n      <td>327,38</td>\n      <td>470,26</td>\n      <td>682,91</td>\n      <td>965,76</td>\n      <td>1.183,04</td>\n      <td>1.511,11</td>\n      <td>2.111,32</td>\n    </tr>\n    <tr>\n      <th>4</th>\n      <td>Habitação</td>\n      <td>1.230,81</td>\n      <td>601,35</td>\n      <td>817,04</td>\n      <td>1.148,45</td>\n      <td>1.658,10</td>\n      <td>2.278,54</td>\n      <td>3.102,18</td>\n      <td>4.744,36</td>\n    </tr>\n    <tr>\n      <th>...</th>\n      <td>...</td>\n      <td>...</td>\n      <td>...</td>\n      <td>...</td>\n      <td>...</td>\n      <td>...</td>\n      <td>...</td>\n      <td>...</td>\n      <td>...</td>\n    </tr>\n    <tr>\n      <th>90</th>\n      <td>Diminuição do passivo</td>\n      <td>143,70</td>\n      <td>30,34</td>\n      <td>59,54</td>\n      <td>102,50</td>\n      <td>278,77</td>\n      <td>371,04</td>\n      <td>561,06</td>\n      <td>650,42</td>\n    </tr>\n    <tr>\n      <th>91</th>\n      <td>Empréstimo</td>\n      <td>97,40</td>\n      <td>25,72</td>\n      <td>46,18</td>\n      <td>76,03</td>\n      <td>181,62</td>\n      <td>284,33</td>\n      <td>324,54</td>\n      <td>238,06</td>\n    </tr>\n    <tr>\n      <th>92</th>\n      <td>Prestação de imóvel</td>\n      <td>46,30</td>\n      <td>4,62</td>\n      <td>13,36</td>\n      <td>26,47</td>\n      <td>97,15</td>\n      <td>86,72</td>\n      <td>236,52</td>\n      <td>412,36</td>\n    </tr>\n    <tr>\n      <th>93</th>\n      <td>Número de famílias</td>\n      <td>7149295</td>\n      <td>1392069</td>\n      <td>1478894</td>\n      <td>2470800</td>\n      <td>1092145</td>\n      <td>384637</td>\n      <td>207088</td>\n      <td>123662</td>\n    </tr>\n    <tr>\n      <th>94</th>\n      <td>Tamanho médio da família</td>\n      <td>2,93</td>\n      <td>2,36</td>\n      <td>2,69</td>\n      <td>3,13</td>\n      <td>3,48</td>\n      <td>3,11</td>\n      <td>2,93</td>\n      <td>3,02</td>\n    </tr>\n  </tbody>\n</table>\n<p>95 rows × 9 columns</p>\n</div>"
     },
     "metadata": {},
     "execution_count": 20
    }
   ],
   "source": [
    "dados_despesas_estado"
   ]
  },
  {
   "cell_type": "code",
   "execution_count": 21,
   "metadata": {},
   "outputs": [],
   "source": [
    "# Removendo aspas duplas e espaços em branco nos tipos de despesas\n",
    "\n",
    "dados_despesas_estado.iloc[:, 0] = dados_despesas_estado.iloc[:, 0].str.replace('\"', '')\n",
    "dados_despesas_estado.iloc[:, 0] = dados_despesas_estado.iloc[:, 0].str.strip()"
   ]
  },
  {
   "cell_type": "code",
   "execution_count": 22,
   "metadata": {},
   "outputs": [],
   "source": [
    "# Percorre as colunas selecionadas do DF e converte os valores numéricos na notação BR para o padrão float\n",
    "\n",
    "dados_despesas_estado.iloc[:, 1:9] = dados_despesas_estado.iloc[:, 1:9].applymap(converter_dados_numericos_notacao_brasileira_para_float) # Também funciona com .loc, a diferença é que requer os nomes da colunas."
   ]
  },
  {
   "cell_type": "code",
   "execution_count": 23,
   "metadata": {},
   "outputs": [],
   "source": [
    "# Faz o casting nas colunas do DF para float\n",
    "\n",
    "dados_despesas_estado.iloc[:, 1:9] = dados_despesas_estado.iloc[:, 1:9].astype('float') # Também funciona com .loc, a diferença é que requer os nomes da colunas."
   ]
  },
  {
   "cell_type": "code",
   "execution_count": 24,
   "metadata": {},
   "outputs": [
    {
     "output_type": "execute_result",
     "data": {
      "text/plain": [
       "   Tipos de despesa, número e tamanho médio das famílias  \\\n",
       "0                                       Despesa total      \n",
       "1                                  Despesas correntes      \n",
       "2                                 Despesas de consumo      \n",
       "3                                         Alimentação      \n",
       "4                                           Habitação      \n",
       "..                                                ...      \n",
       "90                              Diminuição do passivo      \n",
       "91                                         Empréstimo      \n",
       "92                                Prestação de imóvel      \n",
       "93                                 Número de famílias      \n",
       "94                           Tamanho médio da família      \n",
       "\n",
       "   Despesa monetária e não monetária média mensal familiar (R$)      Total  \\\n",
       "0                                             4390.72              1501.78   \n",
       "1                                             4082.30              1457.93   \n",
       "2                                             3635.92              1392.69   \n",
       "3                                              688.51               327.38   \n",
       "4                                             1230.81               601.35   \n",
       "..                                                ...                  ...   \n",
       "90                                             143.70                30.34   \n",
       "91                                              97.40                25.72   \n",
       "92                                              46.30                 4.62   \n",
       "93                                         7149295.00           1392069.00   \n",
       "94                                               2.93                 2.36   \n",
       "\n",
       "   Até 1908 (2) Mais de 1908 a 2862 Mais de 2862 a 5724 Mais de 5724 a 9540  \\\n",
       "0       2271.56             3697.32             6575.93             9589.42   \n",
       "1       2159.63             3510.91             6027.63             8811.94   \n",
       "2       2039.02             3247.30             5409.91             7559.27   \n",
       "3        470.26              682.91              965.76             1183.04   \n",
       "4        817.04             1148.45             1658.10             2278.54   \n",
       "..          ...                 ...                 ...                 ...   \n",
       "90        59.54              102.50              278.77              371.04   \n",
       "91        46.18               76.03              181.62              284.33   \n",
       "92        13.36               26.47               97.15               86.72   \n",
       "93   1478894.00          2470800.00          1092145.00           384637.00   \n",
       "94         2.69                3.13                3.48                3.11   \n",
       "\n",
       "   Mais de 9540 a 14310 Mais de 14310 a 23850  \n",
       "0              14391.83              23891.78  \n",
       "1              13263.37              20768.46  \n",
       "2              10752.93              15961.57  \n",
       "3               1511.11               2111.32  \n",
       "4               3102.18               4744.36  \n",
       "..                  ...                   ...  \n",
       "90               561.06                650.42  \n",
       "91               324.54                238.06  \n",
       "92               236.52                412.36  \n",
       "93            207088.00             123662.00  \n",
       "94                 2.93                  3.02  \n",
       "\n",
       "[95 rows x 9 columns]"
      ],
      "text/html": "<div>\n<style scoped>\n    .dataframe tbody tr th:only-of-type {\n        vertical-align: middle;\n    }\n\n    .dataframe tbody tr th {\n        vertical-align: top;\n    }\n\n    .dataframe thead th {\n        text-align: right;\n    }\n</style>\n<table border=\"1\" class=\"dataframe\">\n  <thead>\n    <tr style=\"text-align: right;\">\n      <th></th>\n      <th>Tipos de despesa, número e tamanho médio das famílias</th>\n      <th>Despesa monetária e não monetária média mensal familiar (R$)</th>\n      <th>Total</th>\n      <th>Até 1908 (2)</th>\n      <th>Mais de 1908 a 2862</th>\n      <th>Mais de 2862 a 5724</th>\n      <th>Mais de 5724 a 9540</th>\n      <th>Mais de 9540 a 14310</th>\n      <th>Mais de 14310 a 23850</th>\n    </tr>\n  </thead>\n  <tbody>\n    <tr>\n      <th>0</th>\n      <td>Despesa total</td>\n      <td>4390.72</td>\n      <td>1501.78</td>\n      <td>2271.56</td>\n      <td>3697.32</td>\n      <td>6575.93</td>\n      <td>9589.42</td>\n      <td>14391.83</td>\n      <td>23891.78</td>\n    </tr>\n    <tr>\n      <th>1</th>\n      <td>Despesas correntes</td>\n      <td>4082.30</td>\n      <td>1457.93</td>\n      <td>2159.63</td>\n      <td>3510.91</td>\n      <td>6027.63</td>\n      <td>8811.94</td>\n      <td>13263.37</td>\n      <td>20768.46</td>\n    </tr>\n    <tr>\n      <th>2</th>\n      <td>Despesas de consumo</td>\n      <td>3635.92</td>\n      <td>1392.69</td>\n      <td>2039.02</td>\n      <td>3247.30</td>\n      <td>5409.91</td>\n      <td>7559.27</td>\n      <td>10752.93</td>\n      <td>15961.57</td>\n    </tr>\n    <tr>\n      <th>3</th>\n      <td>Alimentação</td>\n      <td>688.51</td>\n      <td>327.38</td>\n      <td>470.26</td>\n      <td>682.91</td>\n      <td>965.76</td>\n      <td>1183.04</td>\n      <td>1511.11</td>\n      <td>2111.32</td>\n    </tr>\n    <tr>\n      <th>4</th>\n      <td>Habitação</td>\n      <td>1230.81</td>\n      <td>601.35</td>\n      <td>817.04</td>\n      <td>1148.45</td>\n      <td>1658.10</td>\n      <td>2278.54</td>\n      <td>3102.18</td>\n      <td>4744.36</td>\n    </tr>\n    <tr>\n      <th>...</th>\n      <td>...</td>\n      <td>...</td>\n      <td>...</td>\n      <td>...</td>\n      <td>...</td>\n      <td>...</td>\n      <td>...</td>\n      <td>...</td>\n      <td>...</td>\n    </tr>\n    <tr>\n      <th>90</th>\n      <td>Diminuição do passivo</td>\n      <td>143.70</td>\n      <td>30.34</td>\n      <td>59.54</td>\n      <td>102.50</td>\n      <td>278.77</td>\n      <td>371.04</td>\n      <td>561.06</td>\n      <td>650.42</td>\n    </tr>\n    <tr>\n      <th>91</th>\n      <td>Empréstimo</td>\n      <td>97.40</td>\n      <td>25.72</td>\n      <td>46.18</td>\n      <td>76.03</td>\n      <td>181.62</td>\n      <td>284.33</td>\n      <td>324.54</td>\n      <td>238.06</td>\n    </tr>\n    <tr>\n      <th>92</th>\n      <td>Prestação de imóvel</td>\n      <td>46.30</td>\n      <td>4.62</td>\n      <td>13.36</td>\n      <td>26.47</td>\n      <td>97.15</td>\n      <td>86.72</td>\n      <td>236.52</td>\n      <td>412.36</td>\n    </tr>\n    <tr>\n      <th>93</th>\n      <td>Número de famílias</td>\n      <td>7149295.00</td>\n      <td>1392069.00</td>\n      <td>1478894.00</td>\n      <td>2470800.00</td>\n      <td>1092145.00</td>\n      <td>384637.00</td>\n      <td>207088.00</td>\n      <td>123662.00</td>\n    </tr>\n    <tr>\n      <th>94</th>\n      <td>Tamanho médio da família</td>\n      <td>2.93</td>\n      <td>2.36</td>\n      <td>2.69</td>\n      <td>3.13</td>\n      <td>3.48</td>\n      <td>3.11</td>\n      <td>2.93</td>\n      <td>3.02</td>\n    </tr>\n  </tbody>\n</table>\n<p>95 rows × 9 columns</p>\n</div>"
     },
     "metadata": {},
     "execution_count": 24
    }
   ],
   "source": [
    "dados_despesas_estado"
   ]
  },
  {
   "cell_type": "code",
   "execution_count": 25,
   "metadata": {},
   "outputs": [],
   "source": [
    "# Parte 3 (Acima foi feito apenas uma limpeza dos dados e conversão de tipos)."
   ]
  },
  {
   "cell_type": "code",
   "execution_count": 26,
   "metadata": {},
   "outputs": [],
   "source": [
    "# A documentação dos dados originais não é muito bem detalhada, e nem possui informações sobre as colunas do dataset, focando apenas nas suas informações gerais. Com isso, decidimos remover a coluna 'Total' porque não conseguimos encontrar um detalhamento e um significado sobre o que ela representa.\n",
    "\n",
    "dados_alimentacao_estado = dados_alimentacao_estado.drop(columns=['Total'])\n",
    "dados_despesas_estado = dados_despesas_estado.drop(columns=['Total'])"
   ]
  },
  {
   "cell_type": "code",
   "execution_count": 27,
   "metadata": {},
   "outputs": [
    {
     "output_type": "execute_result",
     "data": {
      "text/plain": [
       "   Tipos de despesa, número e tamanho médio das famílias  \\\n",
       "0                            Despesas com alimentação      \n",
       "1                            Alimentação no domicílio      \n",
       "2                  Cereais, leguminosas e oleaginosas      \n",
       "3                                               Arroz      \n",
       "4                                              Feijão      \n",
       "..                                                ...      \n",
       "81       Cervejas, chopes e outras bebidas alcoólicas      \n",
       "82                           Alimentação light e diet      \n",
       "83                                             Outras      \n",
       "84                                 Número de famílias      \n",
       "85                           Tamanho médio da família      \n",
       "\n",
       "   Despesa monetária e não monetária média mensal familiar (R$) Até 1908 (2)  \\\n",
       "0                                              688.51                 470.26   \n",
       "1                                              421.18                 310.48   \n",
       "2                                               22.81                  20.50   \n",
       "3                                               14.25                  13.31   \n",
       "4                                                5.56                   5.60   \n",
       "..                                                ...                    ...   \n",
       "81                                               8.98                   6.21   \n",
       "82                                               0.09                   0.05   \n",
       "83                                              47.94                  48.33   \n",
       "84                                         7149295.00             1478894.00   \n",
       "85                                               2.93                   2.69   \n",
       "\n",
       "   Mais de 1908 a 2862 Mais de 2862 a 5724 Mais de 5724 a 9540  \\\n",
       "0               682.91              965.76             1183.04   \n",
       "1               432.82              562.13              664.21   \n",
       "2                23.90               22.86               22.67   \n",
       "3                15.60               13.85               12.66   \n",
       "4                 5.81                5.13                5.31   \n",
       "..                 ...                 ...                 ...   \n",
       "81                9.63               15.13               14.46   \n",
       "82                0.09                0.15                0.00   \n",
       "83               51.90               67.03               38.61   \n",
       "84          2470800.00          1092145.00           384637.00   \n",
       "85                3.13                3.48                3.11   \n",
       "\n",
       "   Mais de 9540 a 14310 Mais de 14310 a 23850  \n",
       "0               1511.11               2111.32  \n",
       "1                784.44               1013.62  \n",
       "2                 33.65                 30.67  \n",
       "3                 14.22                 12.00  \n",
       "4                  3.99                  6.16  \n",
       "..                  ...                   ...  \n",
       "81                 9.64                 16.72  \n",
       "82                -1.00                  0.51  \n",
       "83                47.58                 35.43  \n",
       "84            207088.00             123662.00  \n",
       "85                 2.93                  3.02  \n",
       "\n",
       "[86 rows x 8 columns]"
      ],
      "text/html": "<div>\n<style scoped>\n    .dataframe tbody tr th:only-of-type {\n        vertical-align: middle;\n    }\n\n    .dataframe tbody tr th {\n        vertical-align: top;\n    }\n\n    .dataframe thead th {\n        text-align: right;\n    }\n</style>\n<table border=\"1\" class=\"dataframe\">\n  <thead>\n    <tr style=\"text-align: right;\">\n      <th></th>\n      <th>Tipos de despesa, número e tamanho médio das famílias</th>\n      <th>Despesa monetária e não monetária média mensal familiar (R$)</th>\n      <th>Até 1908 (2)</th>\n      <th>Mais de 1908 a 2862</th>\n      <th>Mais de 2862 a 5724</th>\n      <th>Mais de 5724 a 9540</th>\n      <th>Mais de 9540 a 14310</th>\n      <th>Mais de 14310 a 23850</th>\n    </tr>\n  </thead>\n  <tbody>\n    <tr>\n      <th>0</th>\n      <td>Despesas com alimentação</td>\n      <td>688.51</td>\n      <td>470.26</td>\n      <td>682.91</td>\n      <td>965.76</td>\n      <td>1183.04</td>\n      <td>1511.11</td>\n      <td>2111.32</td>\n    </tr>\n    <tr>\n      <th>1</th>\n      <td>Alimentação no domicílio</td>\n      <td>421.18</td>\n      <td>310.48</td>\n      <td>432.82</td>\n      <td>562.13</td>\n      <td>664.21</td>\n      <td>784.44</td>\n      <td>1013.62</td>\n    </tr>\n    <tr>\n      <th>2</th>\n      <td>Cereais, leguminosas e oleaginosas</td>\n      <td>22.81</td>\n      <td>20.50</td>\n      <td>23.90</td>\n      <td>22.86</td>\n      <td>22.67</td>\n      <td>33.65</td>\n      <td>30.67</td>\n    </tr>\n    <tr>\n      <th>3</th>\n      <td>Arroz</td>\n      <td>14.25</td>\n      <td>13.31</td>\n      <td>15.60</td>\n      <td>13.85</td>\n      <td>12.66</td>\n      <td>14.22</td>\n      <td>12.00</td>\n    </tr>\n    <tr>\n      <th>4</th>\n      <td>Feijão</td>\n      <td>5.56</td>\n      <td>5.60</td>\n      <td>5.81</td>\n      <td>5.13</td>\n      <td>5.31</td>\n      <td>3.99</td>\n      <td>6.16</td>\n    </tr>\n    <tr>\n      <th>...</th>\n      <td>...</td>\n      <td>...</td>\n      <td>...</td>\n      <td>...</td>\n      <td>...</td>\n      <td>...</td>\n      <td>...</td>\n      <td>...</td>\n    </tr>\n    <tr>\n      <th>81</th>\n      <td>Cervejas, chopes e outras bebidas alcoólicas</td>\n      <td>8.98</td>\n      <td>6.21</td>\n      <td>9.63</td>\n      <td>15.13</td>\n      <td>14.46</td>\n      <td>9.64</td>\n      <td>16.72</td>\n    </tr>\n    <tr>\n      <th>82</th>\n      <td>Alimentação light e diet</td>\n      <td>0.09</td>\n      <td>0.05</td>\n      <td>0.09</td>\n      <td>0.15</td>\n      <td>0.00</td>\n      <td>-1.00</td>\n      <td>0.51</td>\n    </tr>\n    <tr>\n      <th>83</th>\n      <td>Outras</td>\n      <td>47.94</td>\n      <td>48.33</td>\n      <td>51.90</td>\n      <td>67.03</td>\n      <td>38.61</td>\n      <td>47.58</td>\n      <td>35.43</td>\n    </tr>\n    <tr>\n      <th>84</th>\n      <td>Número de famílias</td>\n      <td>7149295.00</td>\n      <td>1478894.00</td>\n      <td>2470800.00</td>\n      <td>1092145.00</td>\n      <td>384637.00</td>\n      <td>207088.00</td>\n      <td>123662.00</td>\n    </tr>\n    <tr>\n      <th>85</th>\n      <td>Tamanho médio da família</td>\n      <td>2.93</td>\n      <td>2.69</td>\n      <td>3.13</td>\n      <td>3.48</td>\n      <td>3.11</td>\n      <td>2.93</td>\n      <td>3.02</td>\n    </tr>\n  </tbody>\n</table>\n<p>86 rows × 8 columns</p>\n</div>"
     },
     "metadata": {},
     "execution_count": 27
    }
   ],
   "source": [
    "dados_alimentacao_estado"
   ]
  },
  {
   "cell_type": "code",
   "execution_count": 28,
   "metadata": {},
   "outputs": [
    {
     "output_type": "execute_result",
     "data": {
      "text/plain": [
       "   Tipos de despesa, número e tamanho médio das famílias  \\\n",
       "0                                       Despesa total      \n",
       "1                                  Despesas correntes      \n",
       "2                                 Despesas de consumo      \n",
       "3                                         Alimentação      \n",
       "4                                           Habitação      \n",
       "..                                                ...      \n",
       "90                              Diminuição do passivo      \n",
       "91                                         Empréstimo      \n",
       "92                                Prestação de imóvel      \n",
       "93                                 Número de famílias      \n",
       "94                           Tamanho médio da família      \n",
       "\n",
       "   Despesa monetária e não monetária média mensal familiar (R$) Até 1908 (2)  \\\n",
       "0                                             4390.72                2271.56   \n",
       "1                                             4082.30                2159.63   \n",
       "2                                             3635.92                2039.02   \n",
       "3                                              688.51                 470.26   \n",
       "4                                             1230.81                 817.04   \n",
       "..                                                ...                    ...   \n",
       "90                                             143.70                  59.54   \n",
       "91                                              97.40                  46.18   \n",
       "92                                              46.30                  13.36   \n",
       "93                                         7149295.00             1478894.00   \n",
       "94                                               2.93                   2.69   \n",
       "\n",
       "   Mais de 1908 a 2862 Mais de 2862 a 5724 Mais de 5724 a 9540  \\\n",
       "0              3697.32             6575.93             9589.42   \n",
       "1              3510.91             6027.63             8811.94   \n",
       "2              3247.30             5409.91             7559.27   \n",
       "3               682.91              965.76             1183.04   \n",
       "4              1148.45             1658.10             2278.54   \n",
       "..                 ...                 ...                 ...   \n",
       "90              102.50              278.77              371.04   \n",
       "91               76.03              181.62              284.33   \n",
       "92               26.47               97.15               86.72   \n",
       "93          2470800.00          1092145.00           384637.00   \n",
       "94                3.13                3.48                3.11   \n",
       "\n",
       "   Mais de 9540 a 14310 Mais de 14310 a 23850  \n",
       "0              14391.83              23891.78  \n",
       "1              13263.37              20768.46  \n",
       "2              10752.93              15961.57  \n",
       "3               1511.11               2111.32  \n",
       "4               3102.18               4744.36  \n",
       "..                  ...                   ...  \n",
       "90               561.06                650.42  \n",
       "91               324.54                238.06  \n",
       "92               236.52                412.36  \n",
       "93            207088.00             123662.00  \n",
       "94                 2.93                  3.02  \n",
       "\n",
       "[95 rows x 8 columns]"
      ],
      "text/html": "<div>\n<style scoped>\n    .dataframe tbody tr th:only-of-type {\n        vertical-align: middle;\n    }\n\n    .dataframe tbody tr th {\n        vertical-align: top;\n    }\n\n    .dataframe thead th {\n        text-align: right;\n    }\n</style>\n<table border=\"1\" class=\"dataframe\">\n  <thead>\n    <tr style=\"text-align: right;\">\n      <th></th>\n      <th>Tipos de despesa, número e tamanho médio das famílias</th>\n      <th>Despesa monetária e não monetária média mensal familiar (R$)</th>\n      <th>Até 1908 (2)</th>\n      <th>Mais de 1908 a 2862</th>\n      <th>Mais de 2862 a 5724</th>\n      <th>Mais de 5724 a 9540</th>\n      <th>Mais de 9540 a 14310</th>\n      <th>Mais de 14310 a 23850</th>\n    </tr>\n  </thead>\n  <tbody>\n    <tr>\n      <th>0</th>\n      <td>Despesa total</td>\n      <td>4390.72</td>\n      <td>2271.56</td>\n      <td>3697.32</td>\n      <td>6575.93</td>\n      <td>9589.42</td>\n      <td>14391.83</td>\n      <td>23891.78</td>\n    </tr>\n    <tr>\n      <th>1</th>\n      <td>Despesas correntes</td>\n      <td>4082.30</td>\n      <td>2159.63</td>\n      <td>3510.91</td>\n      <td>6027.63</td>\n      <td>8811.94</td>\n      <td>13263.37</td>\n      <td>20768.46</td>\n    </tr>\n    <tr>\n      <th>2</th>\n      <td>Despesas de consumo</td>\n      <td>3635.92</td>\n      <td>2039.02</td>\n      <td>3247.30</td>\n      <td>5409.91</td>\n      <td>7559.27</td>\n      <td>10752.93</td>\n      <td>15961.57</td>\n    </tr>\n    <tr>\n      <th>3</th>\n      <td>Alimentação</td>\n      <td>688.51</td>\n      <td>470.26</td>\n      <td>682.91</td>\n      <td>965.76</td>\n      <td>1183.04</td>\n      <td>1511.11</td>\n      <td>2111.32</td>\n    </tr>\n    <tr>\n      <th>4</th>\n      <td>Habitação</td>\n      <td>1230.81</td>\n      <td>817.04</td>\n      <td>1148.45</td>\n      <td>1658.10</td>\n      <td>2278.54</td>\n      <td>3102.18</td>\n      <td>4744.36</td>\n    </tr>\n    <tr>\n      <th>...</th>\n      <td>...</td>\n      <td>...</td>\n      <td>...</td>\n      <td>...</td>\n      <td>...</td>\n      <td>...</td>\n      <td>...</td>\n      <td>...</td>\n    </tr>\n    <tr>\n      <th>90</th>\n      <td>Diminuição do passivo</td>\n      <td>143.70</td>\n      <td>59.54</td>\n      <td>102.50</td>\n      <td>278.77</td>\n      <td>371.04</td>\n      <td>561.06</td>\n      <td>650.42</td>\n    </tr>\n    <tr>\n      <th>91</th>\n      <td>Empréstimo</td>\n      <td>97.40</td>\n      <td>46.18</td>\n      <td>76.03</td>\n      <td>181.62</td>\n      <td>284.33</td>\n      <td>324.54</td>\n      <td>238.06</td>\n    </tr>\n    <tr>\n      <th>92</th>\n      <td>Prestação de imóvel</td>\n      <td>46.30</td>\n      <td>13.36</td>\n      <td>26.47</td>\n      <td>97.15</td>\n      <td>86.72</td>\n      <td>236.52</td>\n      <td>412.36</td>\n    </tr>\n    <tr>\n      <th>93</th>\n      <td>Número de famílias</td>\n      <td>7149295.00</td>\n      <td>1478894.00</td>\n      <td>2470800.00</td>\n      <td>1092145.00</td>\n      <td>384637.00</td>\n      <td>207088.00</td>\n      <td>123662.00</td>\n    </tr>\n    <tr>\n      <th>94</th>\n      <td>Tamanho médio da família</td>\n      <td>2.93</td>\n      <td>2.69</td>\n      <td>3.13</td>\n      <td>3.48</td>\n      <td>3.11</td>\n      <td>2.93</td>\n      <td>3.02</td>\n    </tr>\n  </tbody>\n</table>\n<p>95 rows × 8 columns</p>\n</div>"
     },
     "metadata": {},
     "execution_count": 28
    }
   ],
   "source": [
    "dados_despesas_estado"
   ]
  },
  {
   "cell_type": "code",
   "execution_count": 29,
   "metadata": {},
   "outputs": [],
   "source": [
    "colunas_df = ['Tipos de despesa, número e tamanho médio das famílias', 'Despesa monetária e não monetária média mensal familiar (R$)', 'Até 1908 (2)', 'Mais de 1908 a 2862', 'Mais de 2862 a 5724', 'Mais de 5724 a 9540', 'Mais de 9540 a 14310', 'Mais de 14310 a 23850']"
   ]
  },
  {
   "cell_type": "code",
   "execution_count": 30,
   "metadata": {},
   "outputs": [],
   "source": [
    "# Ver relações entre classes sociais e padrões de consumo (Parte 1 - Todas as despesas)."
   ]
  },
  {
   "cell_type": "code",
   "execution_count": 31,
   "metadata": {},
   "outputs": [],
   "source": [
    "dados_despesas_estado = dados_despesas_estado.drop([0, 1, 2]).reset_index(drop=True)"
   ]
  },
  {
   "cell_type": "code",
   "execution_count": 32,
   "metadata": {},
   "outputs": [
    {
     "output_type": "execute_result",
     "data": {
      "text/plain": [
       "   Tipos de despesa, número e tamanho médio das famílias  \\\n",
       "0                                         Alimentação      \n",
       "1                                           Habitação      \n",
       "2                                             Aluguel      \n",
       "3                                   Aluguel monetário      \n",
       "4                               Aluguel não monetário      \n",
       "..                                                ...      \n",
       "87                              Diminuição do passivo      \n",
       "88                                         Empréstimo      \n",
       "89                                Prestação de imóvel      \n",
       "90                                 Número de famílias      \n",
       "91                           Tamanho médio da família      \n",
       "\n",
       "   Despesa monetária e não monetária média mensal familiar (R$) Até 1908 (2)  \\\n",
       "0                                              688.51                 470.26   \n",
       "1                                             1230.81                 817.04   \n",
       "2                                              609.12                 423.40   \n",
       "3                                               92.49                  79.43   \n",
       "4                                              516.63                 343.97   \n",
       "..                                                ...                    ...   \n",
       "87                                             143.70                  59.54   \n",
       "88                                              97.40                  46.18   \n",
       "89                                              46.30                  13.36   \n",
       "90                                         7149295.00             1478894.00   \n",
       "91                                               2.93                   2.69   \n",
       "\n",
       "   Mais de 1908 a 2862 Mais de 2862 a 5724 Mais de 5724 a 9540  \\\n",
       "0               682.91              965.76             1183.04   \n",
       "1              1148.45             1658.10             2278.54   \n",
       "2               581.47              799.82             1098.35   \n",
       "3                78.22               99.00              143.10   \n",
       "4               503.24              700.82              955.25   \n",
       "..                 ...                 ...                 ...   \n",
       "87              102.50              278.77              371.04   \n",
       "88               76.03              181.62              284.33   \n",
       "89               26.47               97.15               86.72   \n",
       "90          2470800.00          1092145.00           384637.00   \n",
       "91                3.13                3.48                3.11   \n",
       "\n",
       "   Mais de 9540 a 14310 Mais de 14310 a 23850  \n",
       "0               1511.11               2111.32  \n",
       "1               3102.18               4744.36  \n",
       "2               1430.00               2098.02  \n",
       "3                236.04                191.60  \n",
       "4               1193.96               1906.41  \n",
       "..                  ...                   ...  \n",
       "87               561.06                650.42  \n",
       "88               324.54                238.06  \n",
       "89               236.52                412.36  \n",
       "90            207088.00             123662.00  \n",
       "91                 2.93                  3.02  \n",
       "\n",
       "[92 rows x 8 columns]"
      ],
      "text/html": "<div>\n<style scoped>\n    .dataframe tbody tr th:only-of-type {\n        vertical-align: middle;\n    }\n\n    .dataframe tbody tr th {\n        vertical-align: top;\n    }\n\n    .dataframe thead th {\n        text-align: right;\n    }\n</style>\n<table border=\"1\" class=\"dataframe\">\n  <thead>\n    <tr style=\"text-align: right;\">\n      <th></th>\n      <th>Tipos de despesa, número e tamanho médio das famílias</th>\n      <th>Despesa monetária e não monetária média mensal familiar (R$)</th>\n      <th>Até 1908 (2)</th>\n      <th>Mais de 1908 a 2862</th>\n      <th>Mais de 2862 a 5724</th>\n      <th>Mais de 5724 a 9540</th>\n      <th>Mais de 9540 a 14310</th>\n      <th>Mais de 14310 a 23850</th>\n    </tr>\n  </thead>\n  <tbody>\n    <tr>\n      <th>0</th>\n      <td>Alimentação</td>\n      <td>688.51</td>\n      <td>470.26</td>\n      <td>682.91</td>\n      <td>965.76</td>\n      <td>1183.04</td>\n      <td>1511.11</td>\n      <td>2111.32</td>\n    </tr>\n    <tr>\n      <th>1</th>\n      <td>Habitação</td>\n      <td>1230.81</td>\n      <td>817.04</td>\n      <td>1148.45</td>\n      <td>1658.10</td>\n      <td>2278.54</td>\n      <td>3102.18</td>\n      <td>4744.36</td>\n    </tr>\n    <tr>\n      <th>2</th>\n      <td>Aluguel</td>\n      <td>609.12</td>\n      <td>423.40</td>\n      <td>581.47</td>\n      <td>799.82</td>\n      <td>1098.35</td>\n      <td>1430.00</td>\n      <td>2098.02</td>\n    </tr>\n    <tr>\n      <th>3</th>\n      <td>Aluguel monetário</td>\n      <td>92.49</td>\n      <td>79.43</td>\n      <td>78.22</td>\n      <td>99.00</td>\n      <td>143.10</td>\n      <td>236.04</td>\n      <td>191.60</td>\n    </tr>\n    <tr>\n      <th>4</th>\n      <td>Aluguel não monetário</td>\n      <td>516.63</td>\n      <td>343.97</td>\n      <td>503.24</td>\n      <td>700.82</td>\n      <td>955.25</td>\n      <td>1193.96</td>\n      <td>1906.41</td>\n    </tr>\n    <tr>\n      <th>...</th>\n      <td>...</td>\n      <td>...</td>\n      <td>...</td>\n      <td>...</td>\n      <td>...</td>\n      <td>...</td>\n      <td>...</td>\n      <td>...</td>\n    </tr>\n    <tr>\n      <th>87</th>\n      <td>Diminuição do passivo</td>\n      <td>143.70</td>\n      <td>59.54</td>\n      <td>102.50</td>\n      <td>278.77</td>\n      <td>371.04</td>\n      <td>561.06</td>\n      <td>650.42</td>\n    </tr>\n    <tr>\n      <th>88</th>\n      <td>Empréstimo</td>\n      <td>97.40</td>\n      <td>46.18</td>\n      <td>76.03</td>\n      <td>181.62</td>\n      <td>284.33</td>\n      <td>324.54</td>\n      <td>238.06</td>\n    </tr>\n    <tr>\n      <th>89</th>\n      <td>Prestação de imóvel</td>\n      <td>46.30</td>\n      <td>13.36</td>\n      <td>26.47</td>\n      <td>97.15</td>\n      <td>86.72</td>\n      <td>236.52</td>\n      <td>412.36</td>\n    </tr>\n    <tr>\n      <th>90</th>\n      <td>Número de famílias</td>\n      <td>7149295.00</td>\n      <td>1478894.00</td>\n      <td>2470800.00</td>\n      <td>1092145.00</td>\n      <td>384637.00</td>\n      <td>207088.00</td>\n      <td>123662.00</td>\n    </tr>\n    <tr>\n      <th>91</th>\n      <td>Tamanho médio da família</td>\n      <td>2.93</td>\n      <td>2.69</td>\n      <td>3.13</td>\n      <td>3.48</td>\n      <td>3.11</td>\n      <td>2.93</td>\n      <td>3.02</td>\n    </tr>\n  </tbody>\n</table>\n<p>92 rows × 8 columns</p>\n</div>"
     },
     "metadata": {},
     "execution_count": 32
    }
   ],
   "source": [
    "dados_despesas_estado"
   ]
  },
  {
   "cell_type": "code",
   "execution_count": 33,
   "metadata": {},
   "outputs": [],
   "source": [
    "linhas_familia = list(dados_despesas_estado.index[-2:])"
   ]
  },
  {
   "cell_type": "code",
   "execution_count": 34,
   "metadata": {},
   "outputs": [],
   "source": [
    "soma_gastos = [\"Total gasto por classes\", 0]\n",
    "soma_gastos.append(round(dados_despesas_estado.drop(linhas_familia)[colunas_df[2]].sum(), 2))\n",
    "soma_gastos.append(round(dados_despesas_estado.drop(linhas_familia)[colunas_df[3]].sum(), 2))\n",
    "soma_gastos.append(round(dados_despesas_estado.drop(linhas_familia)[colunas_df[4]].sum(), 2))\n",
    "soma_gastos.append(round(dados_despesas_estado.drop(linhas_familia)[colunas_df[5]].sum(), 2))\n",
    "soma_gastos.append(round(dados_despesas_estado.drop(linhas_familia)[colunas_df[6]].sum(), 2))\n",
    "soma_gastos.append(round(dados_despesas_estado.drop(linhas_familia)[colunas_df[7]].sum(), 2))"
   ]
  },
  {
   "cell_type": "code",
   "execution_count": 35,
   "metadata": {},
   "outputs": [],
   "source": [
    "soma_gastos[1] = np.mean(soma_gastos[2:])"
   ]
  },
  {
   "cell_type": "code",
   "execution_count": 36,
   "metadata": {},
   "outputs": [],
   "source": [
    "nova_linha = pd.DataFrame([soma_gastos], columns=colunas_df, index=[linhas_familia[-1]+1])\n",
    "\n",
    "dados_despesas_estado = pd.concat([dados_despesas_estado, nova_linha])"
   ]
  },
  {
   "cell_type": "code",
   "execution_count": 37,
   "metadata": {},
   "outputs": [
    {
     "output_type": "execute_result",
     "data": {
      "text/plain": [
       "   Tipos de despesa, número e tamanho médio das famílias  \\\n",
       "0                                         Alimentação      \n",
       "1                                           Habitação      \n",
       "2                                             Aluguel      \n",
       "3                                   Aluguel monetário      \n",
       "4                               Aluguel não monetário      \n",
       "..                                                ...      \n",
       "88                                         Empréstimo      \n",
       "89                                Prestação de imóvel      \n",
       "90                                 Número de famílias      \n",
       "91                           Tamanho médio da família      \n",
       "92                            Total gasto por classes      \n",
       "\n",
       "   Despesa monetária e não monetária média mensal familiar (R$) Até 1908 (2)  \\\n",
       "0                                              688.51                 470.26   \n",
       "1                                             1230.81                 817.04   \n",
       "2                                              609.12                 423.40   \n",
       "3                                               92.49                  79.43   \n",
       "4                                              516.63                 343.97   \n",
       "..                                                ...                    ...   \n",
       "88                                              97.40                  46.18   \n",
       "89                                              46.30                  13.36   \n",
       "90                                         7149295.00             1478894.00   \n",
       "91                                               2.93                   2.69   \n",
       "92                                           20573.79                4722.72   \n",
       "\n",
       "   Mais de 1908 a 2862 Mais de 2862 a 5724 Mais de 5724 a 9540  \\\n",
       "0               682.91              965.76             1183.04   \n",
       "1              1148.45             1658.10             2278.54   \n",
       "2               581.47              799.82             1098.35   \n",
       "3                78.22               99.00              143.10   \n",
       "4               503.24              700.82              955.25   \n",
       "..                 ...                 ...                 ...   \n",
       "88               76.03              181.62              284.33   \n",
       "89               26.47               97.15               86.72   \n",
       "90          2470800.00          1092145.00           384637.00   \n",
       "91                3.13                3.48                3.11   \n",
       "92             7618.75            13440.48            19663.04   \n",
       "\n",
       "   Mais de 9540 a 14310 Mais de 14310 a 23850  \n",
       "0               1511.11               2111.32  \n",
       "1               3102.18               4744.36  \n",
       "2               1430.00               2098.02  \n",
       "3                236.04                191.60  \n",
       "4               1193.96               1906.41  \n",
       "..                  ...                   ...  \n",
       "88               324.54                238.06  \n",
       "89               236.52                412.36  \n",
       "90            207088.00             123662.00  \n",
       "91                 2.93                  3.02  \n",
       "92             29364.22              48633.53  \n",
       "\n",
       "[93 rows x 8 columns]"
      ],
      "text/html": "<div>\n<style scoped>\n    .dataframe tbody tr th:only-of-type {\n        vertical-align: middle;\n    }\n\n    .dataframe tbody tr th {\n        vertical-align: top;\n    }\n\n    .dataframe thead th {\n        text-align: right;\n    }\n</style>\n<table border=\"1\" class=\"dataframe\">\n  <thead>\n    <tr style=\"text-align: right;\">\n      <th></th>\n      <th>Tipos de despesa, número e tamanho médio das famílias</th>\n      <th>Despesa monetária e não monetária média mensal familiar (R$)</th>\n      <th>Até 1908 (2)</th>\n      <th>Mais de 1908 a 2862</th>\n      <th>Mais de 2862 a 5724</th>\n      <th>Mais de 5724 a 9540</th>\n      <th>Mais de 9540 a 14310</th>\n      <th>Mais de 14310 a 23850</th>\n    </tr>\n  </thead>\n  <tbody>\n    <tr>\n      <th>0</th>\n      <td>Alimentação</td>\n      <td>688.51</td>\n      <td>470.26</td>\n      <td>682.91</td>\n      <td>965.76</td>\n      <td>1183.04</td>\n      <td>1511.11</td>\n      <td>2111.32</td>\n    </tr>\n    <tr>\n      <th>1</th>\n      <td>Habitação</td>\n      <td>1230.81</td>\n      <td>817.04</td>\n      <td>1148.45</td>\n      <td>1658.10</td>\n      <td>2278.54</td>\n      <td>3102.18</td>\n      <td>4744.36</td>\n    </tr>\n    <tr>\n      <th>2</th>\n      <td>Aluguel</td>\n      <td>609.12</td>\n      <td>423.40</td>\n      <td>581.47</td>\n      <td>799.82</td>\n      <td>1098.35</td>\n      <td>1430.00</td>\n      <td>2098.02</td>\n    </tr>\n    <tr>\n      <th>3</th>\n      <td>Aluguel monetário</td>\n      <td>92.49</td>\n      <td>79.43</td>\n      <td>78.22</td>\n      <td>99.00</td>\n      <td>143.10</td>\n      <td>236.04</td>\n      <td>191.60</td>\n    </tr>\n    <tr>\n      <th>4</th>\n      <td>Aluguel não monetário</td>\n      <td>516.63</td>\n      <td>343.97</td>\n      <td>503.24</td>\n      <td>700.82</td>\n      <td>955.25</td>\n      <td>1193.96</td>\n      <td>1906.41</td>\n    </tr>\n    <tr>\n      <th>...</th>\n      <td>...</td>\n      <td>...</td>\n      <td>...</td>\n      <td>...</td>\n      <td>...</td>\n      <td>...</td>\n      <td>...</td>\n      <td>...</td>\n    </tr>\n    <tr>\n      <th>88</th>\n      <td>Empréstimo</td>\n      <td>97.40</td>\n      <td>46.18</td>\n      <td>76.03</td>\n      <td>181.62</td>\n      <td>284.33</td>\n      <td>324.54</td>\n      <td>238.06</td>\n    </tr>\n    <tr>\n      <th>89</th>\n      <td>Prestação de imóvel</td>\n      <td>46.30</td>\n      <td>13.36</td>\n      <td>26.47</td>\n      <td>97.15</td>\n      <td>86.72</td>\n      <td>236.52</td>\n      <td>412.36</td>\n    </tr>\n    <tr>\n      <th>90</th>\n      <td>Número de famílias</td>\n      <td>7149295.00</td>\n      <td>1478894.00</td>\n      <td>2470800.00</td>\n      <td>1092145.00</td>\n      <td>384637.00</td>\n      <td>207088.00</td>\n      <td>123662.00</td>\n    </tr>\n    <tr>\n      <th>91</th>\n      <td>Tamanho médio da família</td>\n      <td>2.93</td>\n      <td>2.69</td>\n      <td>3.13</td>\n      <td>3.48</td>\n      <td>3.11</td>\n      <td>2.93</td>\n      <td>3.02</td>\n    </tr>\n    <tr>\n      <th>92</th>\n      <td>Total gasto por classes</td>\n      <td>20573.79</td>\n      <td>4722.72</td>\n      <td>7618.75</td>\n      <td>13440.48</td>\n      <td>19663.04</td>\n      <td>29364.22</td>\n      <td>48633.53</td>\n    </tr>\n  </tbody>\n</table>\n<p>93 rows × 8 columns</p>\n</div>"
     },
     "metadata": {},
     "execution_count": 37
    }
   ],
   "source": [
    "dados_despesas_estado"
   ]
  },
  {
   "cell_type": "code",
   "execution_count": 38,
   "metadata": {},
   "outputs": [],
   "source": [
    "qtd_top_itens = 5"
   ]
  },
  {
   "cell_type": "code",
   "execution_count": 39,
   "metadata": {},
   "outputs": [],
   "source": [
    "linhas_familia_e_total_por_classes = list(dados_despesas_estado.index[-3:])"
   ]
  },
  {
   "cell_type": "code",
   "execution_count": 40,
   "metadata": {},
   "outputs": [],
   "source": [
    "produtos_classe_1908 = dados_despesas_estado.drop(linhas_familia_e_total_por_classes).iloc[:, [2]].apply(lambda item: item/soma_gastos[2])\n",
    "produtos_classe_1908.sort_values(by=colunas_df[2], ascending=False, inplace=True)"
   ]
  },
  {
   "cell_type": "code",
   "execution_count": 41,
   "metadata": {},
   "outputs": [
    {
     "output_type": "execute_result",
     "data": {
      "text/plain": [
       "   Tipos de despesa, número e tamanho médio das famílias Até 1908 (2)\n",
       "1                                           Habitação          817.04\n",
       "0                                         Alimentação          470.26\n",
       "2                                             Aluguel          423.40\n",
       "4                               Aluguel não monetário          343.97\n",
       "6                                    Serviços e taxas          237.69\n",
       "92                            Total gasto por classes         4722.72"
      ],
      "text/html": "<div>\n<style scoped>\n    .dataframe tbody tr th:only-of-type {\n        vertical-align: middle;\n    }\n\n    .dataframe tbody tr th {\n        vertical-align: top;\n    }\n\n    .dataframe thead th {\n        text-align: right;\n    }\n</style>\n<table border=\"1\" class=\"dataframe\">\n  <thead>\n    <tr style=\"text-align: right;\">\n      <th></th>\n      <th>Tipos de despesa, número e tamanho médio das famílias</th>\n      <th>Até 1908 (2)</th>\n    </tr>\n  </thead>\n  <tbody>\n    <tr>\n      <th>1</th>\n      <td>Habitação</td>\n      <td>817.04</td>\n    </tr>\n    <tr>\n      <th>0</th>\n      <td>Alimentação</td>\n      <td>470.26</td>\n    </tr>\n    <tr>\n      <th>2</th>\n      <td>Aluguel</td>\n      <td>423.40</td>\n    </tr>\n    <tr>\n      <th>4</th>\n      <td>Aluguel não monetário</td>\n      <td>343.97</td>\n    </tr>\n    <tr>\n      <th>6</th>\n      <td>Serviços e taxas</td>\n      <td>237.69</td>\n    </tr>\n    <tr>\n      <th>92</th>\n      <td>Total gasto por classes</td>\n      <td>4722.72</td>\n    </tr>\n  </tbody>\n</table>\n</div>"
     },
     "metadata": {},
     "execution_count": 41
    }
   ],
   "source": [
    "lista_top_N_1908 = list(produtos_classe_1908.index[0:qtd_top_itens]) + list(dados_despesas_estado.index[-1:])\n",
    "dados_despesas_estado.iloc[lista_top_N_1908, [0, 2]]"
   ]
  },
  {
   "cell_type": "code",
   "execution_count": 42,
   "metadata": {},
   "outputs": [],
   "source": [
    "produtos_classe_2862 = dados_despesas_estado.drop(linhas_familia_e_total_por_classes).iloc[:, [3]].apply(lambda item: item/soma_gastos[3])\n",
    "produtos_classe_2862.sort_values(by=colunas_df[3], ascending=False, inplace=True)"
   ]
  },
  {
   "cell_type": "code",
   "execution_count": 43,
   "metadata": {},
   "outputs": [
    {
     "output_type": "execute_result",
     "data": {
      "text/plain": [
       "   Tipos de despesa, número e tamanho médio das famílias Mais de 1908 a 2862\n",
       "1                                           Habitação                1148.45\n",
       "0                                         Alimentação                 682.91\n",
       "2                                             Aluguel                 581.47\n",
       "26                                         Transporte                 530.95\n",
       "4                               Aluguel não monetário                 503.24\n",
       "92                            Total gasto por classes                7618.75"
      ],
      "text/html": "<div>\n<style scoped>\n    .dataframe tbody tr th:only-of-type {\n        vertical-align: middle;\n    }\n\n    .dataframe tbody tr th {\n        vertical-align: top;\n    }\n\n    .dataframe thead th {\n        text-align: right;\n    }\n</style>\n<table border=\"1\" class=\"dataframe\">\n  <thead>\n    <tr style=\"text-align: right;\">\n      <th></th>\n      <th>Tipos de despesa, número e tamanho médio das famílias</th>\n      <th>Mais de 1908 a 2862</th>\n    </tr>\n  </thead>\n  <tbody>\n    <tr>\n      <th>1</th>\n      <td>Habitação</td>\n      <td>1148.45</td>\n    </tr>\n    <tr>\n      <th>0</th>\n      <td>Alimentação</td>\n      <td>682.91</td>\n    </tr>\n    <tr>\n      <th>2</th>\n      <td>Aluguel</td>\n      <td>581.47</td>\n    </tr>\n    <tr>\n      <th>26</th>\n      <td>Transporte</td>\n      <td>530.95</td>\n    </tr>\n    <tr>\n      <th>4</th>\n      <td>Aluguel não monetário</td>\n      <td>503.24</td>\n    </tr>\n    <tr>\n      <th>92</th>\n      <td>Total gasto por classes</td>\n      <td>7618.75</td>\n    </tr>\n  </tbody>\n</table>\n</div>"
     },
     "metadata": {},
     "execution_count": 43
    }
   ],
   "source": [
    "lista_top_N_2862 = list(produtos_classe_2862.index[0:qtd_top_itens]) + list(dados_despesas_estado.index[-1:])\n",
    "dados_despesas_estado.iloc[lista_top_N_2862, [0, 3]]"
   ]
  },
  {
   "cell_type": "code",
   "execution_count": 44,
   "metadata": {},
   "outputs": [],
   "source": [
    "produtos_classe_5724 = dados_despesas_estado.drop(linhas_familia_e_total_por_classes).iloc[:, [4]].apply(lambda item: item/soma_gastos[4])\n",
    "produtos_classe_5724.sort_values(by=colunas_df[4], ascending=False, inplace=True)"
   ]
  },
  {
   "cell_type": "code",
   "execution_count": 45,
   "metadata": {},
   "outputs": [
    {
     "output_type": "execute_result",
     "data": {
      "text/plain": [
       "   Tipos de despesa, número e tamanho médio das famílias Mais de 2862 a 5724\n",
       "1                                           Habitação                1658.10\n",
       "26                                         Transporte                1089.90\n",
       "0                                         Alimentação                 965.76\n",
       "2                                             Aluguel                 799.82\n",
       "4                               Aluguel não monetário                 700.82\n",
       "92                            Total gasto por classes               13440.48"
      ],
      "text/html": "<div>\n<style scoped>\n    .dataframe tbody tr th:only-of-type {\n        vertical-align: middle;\n    }\n\n    .dataframe tbody tr th {\n        vertical-align: top;\n    }\n\n    .dataframe thead th {\n        text-align: right;\n    }\n</style>\n<table border=\"1\" class=\"dataframe\">\n  <thead>\n    <tr style=\"text-align: right;\">\n      <th></th>\n      <th>Tipos de despesa, número e tamanho médio das famílias</th>\n      <th>Mais de 2862 a 5724</th>\n    </tr>\n  </thead>\n  <tbody>\n    <tr>\n      <th>1</th>\n      <td>Habitação</td>\n      <td>1658.10</td>\n    </tr>\n    <tr>\n      <th>26</th>\n      <td>Transporte</td>\n      <td>1089.90</td>\n    </tr>\n    <tr>\n      <th>0</th>\n      <td>Alimentação</td>\n      <td>965.76</td>\n    </tr>\n    <tr>\n      <th>2</th>\n      <td>Aluguel</td>\n      <td>799.82</td>\n    </tr>\n    <tr>\n      <th>4</th>\n      <td>Aluguel não monetário</td>\n      <td>700.82</td>\n    </tr>\n    <tr>\n      <th>92</th>\n      <td>Total gasto por classes</td>\n      <td>13440.48</td>\n    </tr>\n  </tbody>\n</table>\n</div>"
     },
     "metadata": {},
     "execution_count": 45
    }
   ],
   "source": [
    "lista_top_N_5724 = list(produtos_classe_5724.index[0:qtd_top_itens]) + list(dados_despesas_estado.index[-1:])\n",
    "dados_despesas_estado.iloc[lista_top_N_5724, [0, 4]]"
   ]
  },
  {
   "cell_type": "code",
   "execution_count": 46,
   "metadata": {},
   "outputs": [],
   "source": [
    "produtos_classe_9540 = dados_despesas_estado.drop(linhas_familia_e_total_por_classes).iloc[:, [5]].apply(lambda item: item/soma_gastos[5])\n",
    "produtos_classe_9540.sort_values(by=colunas_df[5], ascending=False, inplace=True)"
   ]
  },
  {
   "cell_type": "code",
   "execution_count": 47,
   "metadata": {},
   "outputs": [
    {
     "output_type": "execute_result",
     "data": {
      "text/plain": [
       "   Tipos de despesa, número e tamanho médio das famílias Mais de 5724 a 9540\n",
       "1                                           Habitação                2278.54\n",
       "26                                         Transporte                1811.58\n",
       "76                          Outras despesas correntes                1252.66\n",
       "0                                         Alimentação                1183.04\n",
       "2                                             Aluguel                1098.35\n",
       "92                            Total gasto por classes               19663.04"
      ],
      "text/html": "<div>\n<style scoped>\n    .dataframe tbody tr th:only-of-type {\n        vertical-align: middle;\n    }\n\n    .dataframe tbody tr th {\n        vertical-align: top;\n    }\n\n    .dataframe thead th {\n        text-align: right;\n    }\n</style>\n<table border=\"1\" class=\"dataframe\">\n  <thead>\n    <tr style=\"text-align: right;\">\n      <th></th>\n      <th>Tipos de despesa, número e tamanho médio das famílias</th>\n      <th>Mais de 5724 a 9540</th>\n    </tr>\n  </thead>\n  <tbody>\n    <tr>\n      <th>1</th>\n      <td>Habitação</td>\n      <td>2278.54</td>\n    </tr>\n    <tr>\n      <th>26</th>\n      <td>Transporte</td>\n      <td>1811.58</td>\n    </tr>\n    <tr>\n      <th>76</th>\n      <td>Outras despesas correntes</td>\n      <td>1252.66</td>\n    </tr>\n    <tr>\n      <th>0</th>\n      <td>Alimentação</td>\n      <td>1183.04</td>\n    </tr>\n    <tr>\n      <th>2</th>\n      <td>Aluguel</td>\n      <td>1098.35</td>\n    </tr>\n    <tr>\n      <th>92</th>\n      <td>Total gasto por classes</td>\n      <td>19663.04</td>\n    </tr>\n  </tbody>\n</table>\n</div>"
     },
     "metadata": {},
     "execution_count": 47
    }
   ],
   "source": [
    "lista_top_N_9540 = list(produtos_classe_9540.index[0:qtd_top_itens]) + list(dados_despesas_estado.index[-1:])\n",
    "dados_despesas_estado.iloc[lista_top_N_9540, [0, 5]]"
   ]
  },
  {
   "cell_type": "code",
   "execution_count": 48,
   "metadata": {},
   "outputs": [],
   "source": [
    "produtos_classe_14310 = dados_despesas_estado.drop(linhas_familia_e_total_por_classes).iloc[:, [6]].apply(lambda item: item/soma_gastos[6])\n",
    "produtos_classe_14310.sort_values(by=colunas_df[6], ascending=False, inplace=True)"
   ]
  },
  {
   "cell_type": "code",
   "execution_count": 49,
   "metadata": {},
   "outputs": [
    {
     "output_type": "execute_result",
     "data": {
      "text/plain": [
       "   Tipos de despesa, número e tamanho médio das famílias Mais de 9540 a 14310\n",
       "1                                           Habitação                 3102.18\n",
       "26                                         Transporte                 2537.54\n",
       "76                          Outras despesas correntes                 2510.44\n",
       "0                                         Alimentação                 1511.11\n",
       "2                                             Aluguel                 1430.00\n",
       "92                            Total gasto por classes                29364.22"
      ],
      "text/html": "<div>\n<style scoped>\n    .dataframe tbody tr th:only-of-type {\n        vertical-align: middle;\n    }\n\n    .dataframe tbody tr th {\n        vertical-align: top;\n    }\n\n    .dataframe thead th {\n        text-align: right;\n    }\n</style>\n<table border=\"1\" class=\"dataframe\">\n  <thead>\n    <tr style=\"text-align: right;\">\n      <th></th>\n      <th>Tipos de despesa, número e tamanho médio das famílias</th>\n      <th>Mais de 9540 a 14310</th>\n    </tr>\n  </thead>\n  <tbody>\n    <tr>\n      <th>1</th>\n      <td>Habitação</td>\n      <td>3102.18</td>\n    </tr>\n    <tr>\n      <th>26</th>\n      <td>Transporte</td>\n      <td>2537.54</td>\n    </tr>\n    <tr>\n      <th>76</th>\n      <td>Outras despesas correntes</td>\n      <td>2510.44</td>\n    </tr>\n    <tr>\n      <th>0</th>\n      <td>Alimentação</td>\n      <td>1511.11</td>\n    </tr>\n    <tr>\n      <th>2</th>\n      <td>Aluguel</td>\n      <td>1430.00</td>\n    </tr>\n    <tr>\n      <th>92</th>\n      <td>Total gasto por classes</td>\n      <td>29364.22</td>\n    </tr>\n  </tbody>\n</table>\n</div>"
     },
     "metadata": {},
     "execution_count": 49
    }
   ],
   "source": [
    "lista_top_N_14310 = list(produtos_classe_14310.index[0:qtd_top_itens]) + list(dados_despesas_estado.index[-1:])\n",
    "dados_despesas_estado.iloc[lista_top_N_14310, [0, 6]]"
   ]
  },
  {
   "cell_type": "code",
   "execution_count": 50,
   "metadata": {},
   "outputs": [],
   "source": [
    "produtos_classe_23850 = dados_despesas_estado.drop(linhas_familia_e_total_por_classes).iloc[:, [7]].apply(lambda item: item/soma_gastos[7])\n",
    "produtos_classe_23850.sort_values(by=colunas_df[7], ascending=False, inplace=True)"
   ]
  },
  {
   "cell_type": "code",
   "execution_count": 51,
   "metadata": {},
   "outputs": [
    {
     "output_type": "execute_result",
     "data": {
      "text/plain": [
       "   Tipos de despesa, número e tamanho médio das famílias Mais de 14310 a 23850\n",
       "76                          Outras despesas correntes                  4806.89\n",
       "1                                           Habitação                  4744.36\n",
       "26                                         Transporte                  3792.67\n",
       "83                                   Aumento do ativo                  2472.91\n",
       "0                                         Alimentação                  2111.32\n",
       "92                            Total gasto por classes                 48633.53"
      ],
      "text/html": "<div>\n<style scoped>\n    .dataframe tbody tr th:only-of-type {\n        vertical-align: middle;\n    }\n\n    .dataframe tbody tr th {\n        vertical-align: top;\n    }\n\n    .dataframe thead th {\n        text-align: right;\n    }\n</style>\n<table border=\"1\" class=\"dataframe\">\n  <thead>\n    <tr style=\"text-align: right;\">\n      <th></th>\n      <th>Tipos de despesa, número e tamanho médio das famílias</th>\n      <th>Mais de 14310 a 23850</th>\n    </tr>\n  </thead>\n  <tbody>\n    <tr>\n      <th>76</th>\n      <td>Outras despesas correntes</td>\n      <td>4806.89</td>\n    </tr>\n    <tr>\n      <th>1</th>\n      <td>Habitação</td>\n      <td>4744.36</td>\n    </tr>\n    <tr>\n      <th>26</th>\n      <td>Transporte</td>\n      <td>3792.67</td>\n    </tr>\n    <tr>\n      <th>83</th>\n      <td>Aumento do ativo</td>\n      <td>2472.91</td>\n    </tr>\n    <tr>\n      <th>0</th>\n      <td>Alimentação</td>\n      <td>2111.32</td>\n    </tr>\n    <tr>\n      <th>92</th>\n      <td>Total gasto por classes</td>\n      <td>48633.53</td>\n    </tr>\n  </tbody>\n</table>\n</div>"
     },
     "metadata": {},
     "execution_count": 51
    }
   ],
   "source": [
    "lista_top_N_23850 = list(produtos_classe_23850.index[0:qtd_top_itens]) + list(dados_despesas_estado.index[-1:])\n",
    "dados_despesas_estado.iloc[lista_top_N_23850, [0, 7]]"
   ]
  },
  {
   "cell_type": "code",
   "execution_count": 52,
   "metadata": {},
   "outputs": [],
   "source": [
    "# Ver relações entre classes sociais e padrões de consumo (Parte 2 - Despesas com alimentação)."
   ]
  },
  {
   "cell_type": "code",
   "execution_count": 53,
   "metadata": {},
   "outputs": [],
   "source": [
    "dados_alimentacao_estado = dados_alimentacao_estado.drop([0]).reset_index(drop=True)"
   ]
  },
  {
   "cell_type": "code",
   "execution_count": 54,
   "metadata": {},
   "outputs": [
    {
     "output_type": "execute_result",
     "data": {
      "text/plain": [
       "   Tipos de despesa, número e tamanho médio das famílias  \\\n",
       "0                            Alimentação no domicílio      \n",
       "1                  Cereais, leguminosas e oleaginosas      \n",
       "2                                               Arroz      \n",
       "3                                              Feijão      \n",
       "4                                           Orgânicos      \n",
       "..                                                ...      \n",
       "80       Cervejas, chopes e outras bebidas alcoólicas      \n",
       "81                           Alimentação light e diet      \n",
       "82                                             Outras      \n",
       "83                                 Número de famílias      \n",
       "84                           Tamanho médio da família      \n",
       "\n",
       "   Despesa monetária e não monetária média mensal familiar (R$) Até 1908 (2)  \\\n",
       "0                                              421.18                 310.48   \n",
       "1                                               22.81                  20.50   \n",
       "2                                               14.25                  13.31   \n",
       "3                                                5.56                   5.60   \n",
       "4                                                0.01                   0.01   \n",
       "..                                                ...                    ...   \n",
       "80                                               8.98                   6.21   \n",
       "81                                               0.09                   0.05   \n",
       "82                                              47.94                  48.33   \n",
       "83                                         7149295.00             1478894.00   \n",
       "84                                               2.93                   2.69   \n",
       "\n",
       "   Mais de 1908 a 2862 Mais de 2862 a 5724 Mais de 5724 a 9540  \\\n",
       "0               432.82              562.13              664.21   \n",
       "1                23.90               22.86               22.67   \n",
       "2                15.60               13.85               12.66   \n",
       "3                 5.81                5.13                5.31   \n",
       "4                -1.00               -1.00                0.07   \n",
       "..                 ...                 ...                 ...   \n",
       "80                9.63               15.13               14.46   \n",
       "81                0.09                0.15                0.00   \n",
       "82               51.90               67.03               38.61   \n",
       "83          2470800.00          1092145.00           384637.00   \n",
       "84                3.13                3.48                3.11   \n",
       "\n",
       "   Mais de 9540 a 14310 Mais de 14310 a 23850  \n",
       "0                784.44               1013.62  \n",
       "1                 33.65                 30.67  \n",
       "2                 14.22                 12.00  \n",
       "3                  3.99                  6.16  \n",
       "4                 -1.00                 -1.00  \n",
       "..                  ...                   ...  \n",
       "80                 9.64                 16.72  \n",
       "81                -1.00                  0.51  \n",
       "82                47.58                 35.43  \n",
       "83            207088.00             123662.00  \n",
       "84                 2.93                  3.02  \n",
       "\n",
       "[85 rows x 8 columns]"
      ],
      "text/html": "<div>\n<style scoped>\n    .dataframe tbody tr th:only-of-type {\n        vertical-align: middle;\n    }\n\n    .dataframe tbody tr th {\n        vertical-align: top;\n    }\n\n    .dataframe thead th {\n        text-align: right;\n    }\n</style>\n<table border=\"1\" class=\"dataframe\">\n  <thead>\n    <tr style=\"text-align: right;\">\n      <th></th>\n      <th>Tipos de despesa, número e tamanho médio das famílias</th>\n      <th>Despesa monetária e não monetária média mensal familiar (R$)</th>\n      <th>Até 1908 (2)</th>\n      <th>Mais de 1908 a 2862</th>\n      <th>Mais de 2862 a 5724</th>\n      <th>Mais de 5724 a 9540</th>\n      <th>Mais de 9540 a 14310</th>\n      <th>Mais de 14310 a 23850</th>\n    </tr>\n  </thead>\n  <tbody>\n    <tr>\n      <th>0</th>\n      <td>Alimentação no domicílio</td>\n      <td>421.18</td>\n      <td>310.48</td>\n      <td>432.82</td>\n      <td>562.13</td>\n      <td>664.21</td>\n      <td>784.44</td>\n      <td>1013.62</td>\n    </tr>\n    <tr>\n      <th>1</th>\n      <td>Cereais, leguminosas e oleaginosas</td>\n      <td>22.81</td>\n      <td>20.50</td>\n      <td>23.90</td>\n      <td>22.86</td>\n      <td>22.67</td>\n      <td>33.65</td>\n      <td>30.67</td>\n    </tr>\n    <tr>\n      <th>2</th>\n      <td>Arroz</td>\n      <td>14.25</td>\n      <td>13.31</td>\n      <td>15.60</td>\n      <td>13.85</td>\n      <td>12.66</td>\n      <td>14.22</td>\n      <td>12.00</td>\n    </tr>\n    <tr>\n      <th>3</th>\n      <td>Feijão</td>\n      <td>5.56</td>\n      <td>5.60</td>\n      <td>5.81</td>\n      <td>5.13</td>\n      <td>5.31</td>\n      <td>3.99</td>\n      <td>6.16</td>\n    </tr>\n    <tr>\n      <th>4</th>\n      <td>Orgânicos</td>\n      <td>0.01</td>\n      <td>0.01</td>\n      <td>-1.00</td>\n      <td>-1.00</td>\n      <td>0.07</td>\n      <td>-1.00</td>\n      <td>-1.00</td>\n    </tr>\n    <tr>\n      <th>...</th>\n      <td>...</td>\n      <td>...</td>\n      <td>...</td>\n      <td>...</td>\n      <td>...</td>\n      <td>...</td>\n      <td>...</td>\n      <td>...</td>\n    </tr>\n    <tr>\n      <th>80</th>\n      <td>Cervejas, chopes e outras bebidas alcoólicas</td>\n      <td>8.98</td>\n      <td>6.21</td>\n      <td>9.63</td>\n      <td>15.13</td>\n      <td>14.46</td>\n      <td>9.64</td>\n      <td>16.72</td>\n    </tr>\n    <tr>\n      <th>81</th>\n      <td>Alimentação light e diet</td>\n      <td>0.09</td>\n      <td>0.05</td>\n      <td>0.09</td>\n      <td>0.15</td>\n      <td>0.00</td>\n      <td>-1.00</td>\n      <td>0.51</td>\n    </tr>\n    <tr>\n      <th>82</th>\n      <td>Outras</td>\n      <td>47.94</td>\n      <td>48.33</td>\n      <td>51.90</td>\n      <td>67.03</td>\n      <td>38.61</td>\n      <td>47.58</td>\n      <td>35.43</td>\n    </tr>\n    <tr>\n      <th>83</th>\n      <td>Número de famílias</td>\n      <td>7149295.00</td>\n      <td>1478894.00</td>\n      <td>2470800.00</td>\n      <td>1092145.00</td>\n      <td>384637.00</td>\n      <td>207088.00</td>\n      <td>123662.00</td>\n    </tr>\n    <tr>\n      <th>84</th>\n      <td>Tamanho médio da família</td>\n      <td>2.93</td>\n      <td>2.69</td>\n      <td>3.13</td>\n      <td>3.48</td>\n      <td>3.11</td>\n      <td>2.93</td>\n      <td>3.02</td>\n    </tr>\n  </tbody>\n</table>\n<p>85 rows × 8 columns</p>\n</div>"
     },
     "metadata": {},
     "execution_count": 54
    }
   ],
   "source": [
    "dados_alimentacao_estado"
   ]
  },
  {
   "cell_type": "code",
   "execution_count": 55,
   "metadata": {},
   "outputs": [],
   "source": [
    "linhas_familia_alimentacao = list(dados_alimentacao_estado.index[-2:])"
   ]
  },
  {
   "cell_type": "code",
   "execution_count": 56,
   "metadata": {},
   "outputs": [],
   "source": [
    "soma_gastos_alimentacao = [\"Total gasto por classes\", 0]\n",
    "soma_gastos_alimentacao.append(round(dados_alimentacao_estado.drop(linhas_familia_alimentacao)[colunas_df[2]].sum(), 2))\n",
    "soma_gastos_alimentacao.append(round(dados_alimentacao_estado.drop(linhas_familia_alimentacao)[colunas_df[3]].sum(), 2))\n",
    "soma_gastos_alimentacao.append(round(dados_alimentacao_estado.drop(linhas_familia_alimentacao)[colunas_df[4]].sum(), 2))\n",
    "soma_gastos_alimentacao.append(round(dados_alimentacao_estado.drop(linhas_familia_alimentacao)[colunas_df[5]].sum(), 2))\n",
    "soma_gastos_alimentacao.append(round(dados_alimentacao_estado.drop(linhas_familia_alimentacao)[colunas_df[6]].sum(), 2))\n",
    "soma_gastos_alimentacao.append(round(dados_alimentacao_estado.drop(linhas_familia_alimentacao)[colunas_df[7]].sum(), 2))"
   ]
  },
  {
   "cell_type": "code",
   "execution_count": 57,
   "metadata": {},
   "outputs": [],
   "source": [
    "soma_gastos_alimentacao[1] = np.mean(soma_gastos_alimentacao[2:])"
   ]
  },
  {
   "cell_type": "code",
   "execution_count": 58,
   "metadata": {},
   "outputs": [],
   "source": [
    "nova_linha_alimentacao = pd.DataFrame([soma_gastos_alimentacao], columns=colunas_df, index=[linhas_familia_alimentacao[-1]+1])\n",
    "\n",
    "dados_alimentacao_estado = pd.concat([dados_alimentacao_estado, nova_linha_alimentacao])"
   ]
  },
  {
   "cell_type": "code",
   "execution_count": 59,
   "metadata": {},
   "outputs": [
    {
     "output_type": "execute_result",
     "data": {
      "text/plain": [
       "   Tipos de despesa, número e tamanho médio das famílias  \\\n",
       "0                            Alimentação no domicílio      \n",
       "1                  Cereais, leguminosas e oleaginosas      \n",
       "2                                               Arroz      \n",
       "3                                              Feijão      \n",
       "4                                           Orgânicos      \n",
       "..                                                ...      \n",
       "81                           Alimentação light e diet      \n",
       "82                                             Outras      \n",
       "83                                 Número de famílias      \n",
       "84                           Tamanho médio da família      \n",
       "85                            Total gasto por classes      \n",
       "\n",
       "   Despesa monetária e não monetária média mensal familiar (R$) Até 1908 (2)  \\\n",
       "0                                              421.18                 310.48   \n",
       "1                                               22.81                  20.50   \n",
       "2                                               14.25                  13.31   \n",
       "3                                                5.56                   5.60   \n",
       "4                                                0.01                   0.01   \n",
       "..                                                ...                    ...   \n",
       "81                                               0.09                   0.05   \n",
       "82                                              47.94                  48.33   \n",
       "83                                         7149295.00             1478894.00   \n",
       "84                                               2.93                   2.69   \n",
       "85                                            2849.41                1212.81   \n",
       "\n",
       "   Mais de 1908 a 2862 Mais de 2862 a 5724 Mais de 5724 a 9540  \\\n",
       "0               432.82              562.13              664.21   \n",
       "1                23.90               22.86               22.67   \n",
       "2                15.60               13.85               12.66   \n",
       "3                 5.81                5.13                5.31   \n",
       "4                -1.00               -1.00                0.07   \n",
       "..                 ...                 ...                 ...   \n",
       "81                0.09                0.15                0.00   \n",
       "82               51.90               67.03               38.61   \n",
       "83          2470800.00          1092145.00           384637.00   \n",
       "84                3.13                3.48                3.11   \n",
       "85             1755.74             2420.97             2942.34   \n",
       "\n",
       "   Mais de 9540 a 14310 Mais de 14310 a 23850  \n",
       "0                784.44               1013.62  \n",
       "1                 33.65                 30.67  \n",
       "2                 14.22                 12.00  \n",
       "3                  3.99                  6.16  \n",
       "4                 -1.00                 -1.00  \n",
       "..                  ...                   ...  \n",
       "81                -1.00                  0.51  \n",
       "82                47.58                 35.43  \n",
       "83            207088.00             123662.00  \n",
       "84                 2.93                  3.02  \n",
       "85              3696.75               5067.83  \n",
       "\n",
       "[86 rows x 8 columns]"
      ],
      "text/html": "<div>\n<style scoped>\n    .dataframe tbody tr th:only-of-type {\n        vertical-align: middle;\n    }\n\n    .dataframe tbody tr th {\n        vertical-align: top;\n    }\n\n    .dataframe thead th {\n        text-align: right;\n    }\n</style>\n<table border=\"1\" class=\"dataframe\">\n  <thead>\n    <tr style=\"text-align: right;\">\n      <th></th>\n      <th>Tipos de despesa, número e tamanho médio das famílias</th>\n      <th>Despesa monetária e não monetária média mensal familiar (R$)</th>\n      <th>Até 1908 (2)</th>\n      <th>Mais de 1908 a 2862</th>\n      <th>Mais de 2862 a 5724</th>\n      <th>Mais de 5724 a 9540</th>\n      <th>Mais de 9540 a 14310</th>\n      <th>Mais de 14310 a 23850</th>\n    </tr>\n  </thead>\n  <tbody>\n    <tr>\n      <th>0</th>\n      <td>Alimentação no domicílio</td>\n      <td>421.18</td>\n      <td>310.48</td>\n      <td>432.82</td>\n      <td>562.13</td>\n      <td>664.21</td>\n      <td>784.44</td>\n      <td>1013.62</td>\n    </tr>\n    <tr>\n      <th>1</th>\n      <td>Cereais, leguminosas e oleaginosas</td>\n      <td>22.81</td>\n      <td>20.50</td>\n      <td>23.90</td>\n      <td>22.86</td>\n      <td>22.67</td>\n      <td>33.65</td>\n      <td>30.67</td>\n    </tr>\n    <tr>\n      <th>2</th>\n      <td>Arroz</td>\n      <td>14.25</td>\n      <td>13.31</td>\n      <td>15.60</td>\n      <td>13.85</td>\n      <td>12.66</td>\n      <td>14.22</td>\n      <td>12.00</td>\n    </tr>\n    <tr>\n      <th>3</th>\n      <td>Feijão</td>\n      <td>5.56</td>\n      <td>5.60</td>\n      <td>5.81</td>\n      <td>5.13</td>\n      <td>5.31</td>\n      <td>3.99</td>\n      <td>6.16</td>\n    </tr>\n    <tr>\n      <th>4</th>\n      <td>Orgânicos</td>\n      <td>0.01</td>\n      <td>0.01</td>\n      <td>-1.00</td>\n      <td>-1.00</td>\n      <td>0.07</td>\n      <td>-1.00</td>\n      <td>-1.00</td>\n    </tr>\n    <tr>\n      <th>...</th>\n      <td>...</td>\n      <td>...</td>\n      <td>...</td>\n      <td>...</td>\n      <td>...</td>\n      <td>...</td>\n      <td>...</td>\n      <td>...</td>\n    </tr>\n    <tr>\n      <th>81</th>\n      <td>Alimentação light e diet</td>\n      <td>0.09</td>\n      <td>0.05</td>\n      <td>0.09</td>\n      <td>0.15</td>\n      <td>0.00</td>\n      <td>-1.00</td>\n      <td>0.51</td>\n    </tr>\n    <tr>\n      <th>82</th>\n      <td>Outras</td>\n      <td>47.94</td>\n      <td>48.33</td>\n      <td>51.90</td>\n      <td>67.03</td>\n      <td>38.61</td>\n      <td>47.58</td>\n      <td>35.43</td>\n    </tr>\n    <tr>\n      <th>83</th>\n      <td>Número de famílias</td>\n      <td>7149295.00</td>\n      <td>1478894.00</td>\n      <td>2470800.00</td>\n      <td>1092145.00</td>\n      <td>384637.00</td>\n      <td>207088.00</td>\n      <td>123662.00</td>\n    </tr>\n    <tr>\n      <th>84</th>\n      <td>Tamanho médio da família</td>\n      <td>2.93</td>\n      <td>2.69</td>\n      <td>3.13</td>\n      <td>3.48</td>\n      <td>3.11</td>\n      <td>2.93</td>\n      <td>3.02</td>\n    </tr>\n    <tr>\n      <th>85</th>\n      <td>Total gasto por classes</td>\n      <td>2849.41</td>\n      <td>1212.81</td>\n      <td>1755.74</td>\n      <td>2420.97</td>\n      <td>2942.34</td>\n      <td>3696.75</td>\n      <td>5067.83</td>\n    </tr>\n  </tbody>\n</table>\n<p>86 rows × 8 columns</p>\n</div>"
     },
     "metadata": {},
     "execution_count": 59
    }
   ],
   "source": [
    "dados_alimentacao_estado"
   ]
  },
  {
   "cell_type": "code",
   "execution_count": 60,
   "metadata": {},
   "outputs": [],
   "source": [
    "qtd_top_itens_alimentacao = 5"
   ]
  },
  {
   "cell_type": "code",
   "execution_count": 61,
   "metadata": {},
   "outputs": [],
   "source": [
    "linhas_familia_e_total_por_classes_alimentacao = list(dados_alimentacao_estado.index[-3:])"
   ]
  },
  {
   "cell_type": "code",
   "execution_count": 62,
   "metadata": {},
   "outputs": [],
   "source": [
    "produtos_classe_1908_alimentacao = dados_alimentacao_estado.drop(linhas_familia_e_total_por_classes_alimentacao).iloc[:, [2]].apply(lambda item: item/soma_gastos_alimentacao[2])\n",
    "produtos_classe_1908_alimentacao.sort_values(by=colunas_df[2], ascending=False, inplace=True)"
   ]
  },
  {
   "cell_type": "code",
   "execution_count": 63,
   "metadata": {},
   "outputs": [
    {
     "output_type": "execute_result",
     "data": {
      "text/plain": [
       "   Tipos de despesa, número e tamanho médio das famílias Até 1908 (2)\n",
       "0                            Alimentação no domicílio          310.48\n",
       "74                      Alimentação fora do domicílio          159.78\n",
       "75                                    Almoço e jantar           75.04\n",
       "31                        Carnes, vísceras e pescados           56.02\n",
       "82                                             Outras           48.33\n",
       "85                            Total gasto por classes         1212.81"
      ],
      "text/html": "<div>\n<style scoped>\n    .dataframe tbody tr th:only-of-type {\n        vertical-align: middle;\n    }\n\n    .dataframe tbody tr th {\n        vertical-align: top;\n    }\n\n    .dataframe thead th {\n        text-align: right;\n    }\n</style>\n<table border=\"1\" class=\"dataframe\">\n  <thead>\n    <tr style=\"text-align: right;\">\n      <th></th>\n      <th>Tipos de despesa, número e tamanho médio das famílias</th>\n      <th>Até 1908 (2)</th>\n    </tr>\n  </thead>\n  <tbody>\n    <tr>\n      <th>0</th>\n      <td>Alimentação no domicílio</td>\n      <td>310.48</td>\n    </tr>\n    <tr>\n      <th>74</th>\n      <td>Alimentação fora do domicílio</td>\n      <td>159.78</td>\n    </tr>\n    <tr>\n      <th>75</th>\n      <td>Almoço e jantar</td>\n      <td>75.04</td>\n    </tr>\n    <tr>\n      <th>31</th>\n      <td>Carnes, vísceras e pescados</td>\n      <td>56.02</td>\n    </tr>\n    <tr>\n      <th>82</th>\n      <td>Outras</td>\n      <td>48.33</td>\n    </tr>\n    <tr>\n      <th>85</th>\n      <td>Total gasto por classes</td>\n      <td>1212.81</td>\n    </tr>\n  </tbody>\n</table>\n</div>"
     },
     "metadata": {},
     "execution_count": 63
    }
   ],
   "source": [
    "lista_top_N_1908_alimentacao = list(produtos_classe_1908_alimentacao.index[0:qtd_top_itens_alimentacao]) + list(dados_alimentacao_estado.index[-1:])\n",
    "dados_alimentacao_estado.iloc[lista_top_N_1908_alimentacao, [0, 2]]"
   ]
  },
  {
   "cell_type": "code",
   "execution_count": 64,
   "metadata": {},
   "outputs": [],
   "source": [
    "produtos_classe_2862_alimentacao = dados_alimentacao_estado.drop(linhas_familia_e_total_por_classes_alimentacao).iloc[:, [3]].apply(lambda item: item/soma_gastos_alimentacao[3])\n",
    "produtos_classe_2862_alimentacao.sort_values(by=colunas_df[3], ascending=False, inplace=True)"
   ]
  },
  {
   "cell_type": "code",
   "execution_count": 65,
   "metadata": {},
   "outputs": [
    {
     "output_type": "execute_result",
     "data": {
      "text/plain": [
       "   Tipos de despesa, número e tamanho médio das famílias Mais de 1908 a 2862\n",
       "0                            Alimentação no domicílio                 432.82\n",
       "74                      Alimentação fora do domicílio                 250.09\n",
       "75                                    Almoço e jantar                 134.49\n",
       "31                        Carnes, vísceras e pescados                  81.59\n",
       "50                                        Panificados                  59.49\n",
       "85                            Total gasto por classes                1755.74"
      ],
      "text/html": "<div>\n<style scoped>\n    .dataframe tbody tr th:only-of-type {\n        vertical-align: middle;\n    }\n\n    .dataframe tbody tr th {\n        vertical-align: top;\n    }\n\n    .dataframe thead th {\n        text-align: right;\n    }\n</style>\n<table border=\"1\" class=\"dataframe\">\n  <thead>\n    <tr style=\"text-align: right;\">\n      <th></th>\n      <th>Tipos de despesa, número e tamanho médio das famílias</th>\n      <th>Mais de 1908 a 2862</th>\n    </tr>\n  </thead>\n  <tbody>\n    <tr>\n      <th>0</th>\n      <td>Alimentação no domicílio</td>\n      <td>432.82</td>\n    </tr>\n    <tr>\n      <th>74</th>\n      <td>Alimentação fora do domicílio</td>\n      <td>250.09</td>\n    </tr>\n    <tr>\n      <th>75</th>\n      <td>Almoço e jantar</td>\n      <td>134.49</td>\n    </tr>\n    <tr>\n      <th>31</th>\n      <td>Carnes, vísceras e pescados</td>\n      <td>81.59</td>\n    </tr>\n    <tr>\n      <th>50</th>\n      <td>Panificados</td>\n      <td>59.49</td>\n    </tr>\n    <tr>\n      <th>85</th>\n      <td>Total gasto por classes</td>\n      <td>1755.74</td>\n    </tr>\n  </tbody>\n</table>\n</div>"
     },
     "metadata": {},
     "execution_count": 65
    }
   ],
   "source": [
    "lista_top_N_2862_alimentacao = list(produtos_classe_2862_alimentacao.index[0:qtd_top_itens_alimentacao]) + list(dados_alimentacao_estado.index[-1:])\n",
    "dados_alimentacao_estado.iloc[lista_top_N_2862_alimentacao, [0, 3]]"
   ]
  },
  {
   "cell_type": "code",
   "execution_count": 66,
   "metadata": {},
   "outputs": [],
   "source": [
    "produtos_classe_5724_alimentacao = dados_alimentacao_estado.drop(linhas_familia_e_total_por_classes_alimentacao).iloc[:, [4]].apply(lambda item: item/soma_gastos_alimentacao[4])\n",
    "produtos_classe_5724_alimentacao.sort_values(by=colunas_df[4], ascending=False, inplace=True)"
   ]
  },
  {
   "cell_type": "code",
   "execution_count": 67,
   "metadata": {},
   "outputs": [
    {
     "output_type": "execute_result",
     "data": {
      "text/plain": [
       "   Tipos de despesa, número e tamanho médio das famílias Mais de 2862 a 5724\n",
       "0                            Alimentação no domicílio                 562.13\n",
       "74                      Alimentação fora do domicílio                 403.63\n",
       "75                                    Almoço e jantar                 238.83\n",
       "31                        Carnes, vísceras e pescados                 115.87\n",
       "50                                        Panificados                  73.08\n",
       "85                            Total gasto por classes                2420.97"
      ],
      "text/html": "<div>\n<style scoped>\n    .dataframe tbody tr th:only-of-type {\n        vertical-align: middle;\n    }\n\n    .dataframe tbody tr th {\n        vertical-align: top;\n    }\n\n    .dataframe thead th {\n        text-align: right;\n    }\n</style>\n<table border=\"1\" class=\"dataframe\">\n  <thead>\n    <tr style=\"text-align: right;\">\n      <th></th>\n      <th>Tipos de despesa, número e tamanho médio das famílias</th>\n      <th>Mais de 2862 a 5724</th>\n    </tr>\n  </thead>\n  <tbody>\n    <tr>\n      <th>0</th>\n      <td>Alimentação no domicílio</td>\n      <td>562.13</td>\n    </tr>\n    <tr>\n      <th>74</th>\n      <td>Alimentação fora do domicílio</td>\n      <td>403.63</td>\n    </tr>\n    <tr>\n      <th>75</th>\n      <td>Almoço e jantar</td>\n      <td>238.83</td>\n    </tr>\n    <tr>\n      <th>31</th>\n      <td>Carnes, vísceras e pescados</td>\n      <td>115.87</td>\n    </tr>\n    <tr>\n      <th>50</th>\n      <td>Panificados</td>\n      <td>73.08</td>\n    </tr>\n    <tr>\n      <th>85</th>\n      <td>Total gasto por classes</td>\n      <td>2420.97</td>\n    </tr>\n  </tbody>\n</table>\n</div>"
     },
     "metadata": {},
     "execution_count": 67
    }
   ],
   "source": [
    "lista_top_N_5724_alimentacao = list(produtos_classe_5724_alimentacao.index[0:qtd_top_itens_alimentacao]) + list(dados_alimentacao_estado.index[-1:])\n",
    "dados_alimentacao_estado.iloc[lista_top_N_5724_alimentacao, [0, 4]]"
   ]
  },
  {
   "cell_type": "code",
   "execution_count": 68,
   "metadata": {},
   "outputs": [],
   "source": [
    "produtos_classe_9540_alimentacao = dados_alimentacao_estado.drop(linhas_familia_e_total_por_classes_alimentacao).iloc[:, [5]].apply(lambda item: item/soma_gastos_alimentacao[5])\n",
    "produtos_classe_9540_alimentacao.sort_values(by=colunas_df[5], ascending=False, inplace=True)"
   ]
  },
  {
   "cell_type": "code",
   "execution_count": 69,
   "metadata": {},
   "outputs": [
    {
     "output_type": "execute_result",
     "data": {
      "text/plain": [
       "   Tipos de despesa, número e tamanho médio das famílias Mais de 5724 a 9540\n",
       "0                            Alimentação no domicílio                 664.21\n",
       "74                      Alimentação fora do domicílio                 518.82\n",
       "75                                    Almoço e jantar                 361.74\n",
       "31                        Carnes, vísceras e pescados                 121.03\n",
       "59                                 Bebidas e infusões                  86.69\n",
       "85                            Total gasto por classes                2942.34"
      ],
      "text/html": "<div>\n<style scoped>\n    .dataframe tbody tr th:only-of-type {\n        vertical-align: middle;\n    }\n\n    .dataframe tbody tr th {\n        vertical-align: top;\n    }\n\n    .dataframe thead th {\n        text-align: right;\n    }\n</style>\n<table border=\"1\" class=\"dataframe\">\n  <thead>\n    <tr style=\"text-align: right;\">\n      <th></th>\n      <th>Tipos de despesa, número e tamanho médio das famílias</th>\n      <th>Mais de 5724 a 9540</th>\n    </tr>\n  </thead>\n  <tbody>\n    <tr>\n      <th>0</th>\n      <td>Alimentação no domicílio</td>\n      <td>664.21</td>\n    </tr>\n    <tr>\n      <th>74</th>\n      <td>Alimentação fora do domicílio</td>\n      <td>518.82</td>\n    </tr>\n    <tr>\n      <th>75</th>\n      <td>Almoço e jantar</td>\n      <td>361.74</td>\n    </tr>\n    <tr>\n      <th>31</th>\n      <td>Carnes, vísceras e pescados</td>\n      <td>121.03</td>\n    </tr>\n    <tr>\n      <th>59</th>\n      <td>Bebidas e infusões</td>\n      <td>86.69</td>\n    </tr>\n    <tr>\n      <th>85</th>\n      <td>Total gasto por classes</td>\n      <td>2942.34</td>\n    </tr>\n  </tbody>\n</table>\n</div>"
     },
     "metadata": {},
     "execution_count": 69
    }
   ],
   "source": [
    "lista_top_N_9540_alimentacao = list(produtos_classe_9540_alimentacao.index[0:qtd_top_itens_alimentacao]) + list(dados_alimentacao_estado.index[-1:])\n",
    "dados_alimentacao_estado.iloc[lista_top_N_9540_alimentacao, [0, 5]]"
   ]
  },
  {
   "cell_type": "code",
   "execution_count": 70,
   "metadata": {},
   "outputs": [],
   "source": [
    "produtos_classe_14310_alimentacao = dados_alimentacao_estado.drop(linhas_familia_e_total_por_classes_alimentacao).iloc[:, [6]].apply(lambda item: item/soma_gastos_alimentacao[6])\n",
    "produtos_classe_14310_alimentacao.sort_values(by=colunas_df[6], ascending=False, inplace=True)"
   ]
  },
  {
   "cell_type": "code",
   "execution_count": 71,
   "metadata": {},
   "outputs": [
    {
     "output_type": "execute_result",
     "data": {
      "text/plain": [
       "   Tipos de despesa, número e tamanho médio das famílias Mais de 9540 a 14310\n",
       "0                            Alimentação no domicílio                  784.44\n",
       "74                      Alimentação fora do domicílio                  726.67\n",
       "75                                    Almoço e jantar                  554.93\n",
       "31                        Carnes, vísceras e pescados                  119.50\n",
       "43                                 Leites e derivados                  106.06\n",
       "85                            Total gasto por classes                 3696.75"
      ],
      "text/html": "<div>\n<style scoped>\n    .dataframe tbody tr th:only-of-type {\n        vertical-align: middle;\n    }\n\n    .dataframe tbody tr th {\n        vertical-align: top;\n    }\n\n    .dataframe thead th {\n        text-align: right;\n    }\n</style>\n<table border=\"1\" class=\"dataframe\">\n  <thead>\n    <tr style=\"text-align: right;\">\n      <th></th>\n      <th>Tipos de despesa, número e tamanho médio das famílias</th>\n      <th>Mais de 9540 a 14310</th>\n    </tr>\n  </thead>\n  <tbody>\n    <tr>\n      <th>0</th>\n      <td>Alimentação no domicílio</td>\n      <td>784.44</td>\n    </tr>\n    <tr>\n      <th>74</th>\n      <td>Alimentação fora do domicílio</td>\n      <td>726.67</td>\n    </tr>\n    <tr>\n      <th>75</th>\n      <td>Almoço e jantar</td>\n      <td>554.93</td>\n    </tr>\n    <tr>\n      <th>31</th>\n      <td>Carnes, vísceras e pescados</td>\n      <td>119.50</td>\n    </tr>\n    <tr>\n      <th>43</th>\n      <td>Leites e derivados</td>\n      <td>106.06</td>\n    </tr>\n    <tr>\n      <th>85</th>\n      <td>Total gasto por classes</td>\n      <td>3696.75</td>\n    </tr>\n  </tbody>\n</table>\n</div>"
     },
     "metadata": {},
     "execution_count": 71
    }
   ],
   "source": [
    "lista_top_N_14310_alimentacao = list(produtos_classe_14310_alimentacao.index[0:qtd_top_itens_alimentacao]) + list(dados_alimentacao_estado.index[-1:])\n",
    "dados_alimentacao_estado.iloc[lista_top_N_14310_alimentacao, [0, 6]]"
   ]
  },
  {
   "cell_type": "code",
   "execution_count": 72,
   "metadata": {},
   "outputs": [],
   "source": [
    "produtos_classe_23850_alimentacao = dados_alimentacao_estado.drop(linhas_familia_e_total_por_classes_alimentacao).iloc[:, [7]].apply(lambda item: item/soma_gastos_alimentacao[7])\n",
    "produtos_classe_23850_alimentacao.sort_values(by=colunas_df[7], ascending=False, inplace=True)"
   ]
  },
  {
   "cell_type": "code",
   "execution_count": 73,
   "metadata": {},
   "outputs": [
    {
     "output_type": "execute_result",
     "data": {
      "text/plain": [
       "   Tipos de despesa, número e tamanho médio das famílias Mais de 14310 a 23850\n",
       "74                      Alimentação fora do domicílio                  1097.70\n",
       "0                            Alimentação no domicílio                  1013.62\n",
       "75                                    Almoço e jantar                   885.32\n",
       "31                        Carnes, vísceras e pescados                   182.46\n",
       "59                                 Bebidas e infusões                   123.02\n",
       "85                            Total gasto por classes                  5067.83"
      ],
      "text/html": "<div>\n<style scoped>\n    .dataframe tbody tr th:only-of-type {\n        vertical-align: middle;\n    }\n\n    .dataframe tbody tr th {\n        vertical-align: top;\n    }\n\n    .dataframe thead th {\n        text-align: right;\n    }\n</style>\n<table border=\"1\" class=\"dataframe\">\n  <thead>\n    <tr style=\"text-align: right;\">\n      <th></th>\n      <th>Tipos de despesa, número e tamanho médio das famílias</th>\n      <th>Mais de 14310 a 23850</th>\n    </tr>\n  </thead>\n  <tbody>\n    <tr>\n      <th>74</th>\n      <td>Alimentação fora do domicílio</td>\n      <td>1097.70</td>\n    </tr>\n    <tr>\n      <th>0</th>\n      <td>Alimentação no domicílio</td>\n      <td>1013.62</td>\n    </tr>\n    <tr>\n      <th>75</th>\n      <td>Almoço e jantar</td>\n      <td>885.32</td>\n    </tr>\n    <tr>\n      <th>31</th>\n      <td>Carnes, vísceras e pescados</td>\n      <td>182.46</td>\n    </tr>\n    <tr>\n      <th>59</th>\n      <td>Bebidas e infusões</td>\n      <td>123.02</td>\n    </tr>\n    <tr>\n      <th>85</th>\n      <td>Total gasto por classes</td>\n      <td>5067.83</td>\n    </tr>\n  </tbody>\n</table>\n</div>"
     },
     "metadata": {},
     "execution_count": 73
    }
   ],
   "source": [
    "lista_top_N_23850_alimentacao = list(produtos_classe_23850_alimentacao.index[0:qtd_top_itens_alimentacao]) + list(dados_alimentacao_estado.index[-1:])\n",
    "dados_alimentacao_estado.iloc[lista_top_N_23850_alimentacao, [0, 7]]"
   ]
  }
 ],
 "metadata": {
  "kernelspec": {
   "display_name": "Python 3.8.6 64-bit ('AmbienteTP')",
   "language": "python",
   "name": "python38664bitambientetpcc5dd72b41aa4d0e91520a9822110078"
  },
  "language_info": {
   "codemirror_mode": {
    "name": "ipython",
    "version": 3
   },
   "file_extension": ".py",
   "mimetype": "text/x-python",
   "name": "python",
   "nbconvert_exporter": "python",
   "pygments_lexer": "ipython3",
   "version": "3.8.6-final"
  }
 },
 "nbformat": 4,
 "nbformat_minor": 2
}