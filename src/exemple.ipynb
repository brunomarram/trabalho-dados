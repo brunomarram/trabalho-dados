{
 "cells": [
  {
   "cell_type": "code",
   "execution_count": 1,
   "metadata": {},
   "outputs": [],
   "source": [
    "import pandas as pd\n",
    "import numpy as np\n",
    "import random"
   ]
  },
  {
   "cell_type": "code",
   "execution_count": 2,
   "metadata": {},
   "outputs": [
    {
     "name": "stdout",
     "output_type": "stream",
     "text": [
      "Series([], dtype: float64)\n"
     ]
    }
   ],
   "source": [
    "valores = pd.Series()\n",
    "print(valores)"
   ]
  },
  {
   "cell_type": "code",
   "execution_count": 3,
   "metadata": {},
   "outputs": [
    {
     "name": "stdout",
     "output_type": "stream",
     "text": [
      "0    1\n",
      "1    3\n",
      "2    5\n",
      "3    7\n",
      "4    9\n",
      "dtype: int64\n"
     ]
    }
   ],
   "source": [
    "valores = pd.Series([1, 3, 5, 7, 9])\n",
    "print(valores)"
   ]
  },
  {
   "cell_type": "code",
   "execution_count": 4,
   "metadata": {},
   "outputs": [
    {
     "name": "stdout",
     "output_type": "stream",
     "text": [
      "maca        4.99\n",
      "laranja     2.99\n",
      "morango    11.99\n",
      "uva        14.00\n",
      "dtype: float64\n"
     ]
    }
   ],
   "source": [
    "precos_frutas = pd.Series([4.99, 2.99, 11.99, 14.00], index=['maca', 'laranja', 'morango', 'uva'])\n",
    "print(precos_frutas)"
   ]
  },
  {
   "cell_type": "code",
   "execution_count": 5,
   "metadata": {},
   "outputs": [
    {
     "name": "stdout",
     "output_type": "stream",
     "text": [
      "0    46\n",
      "1    23\n",
      "2    98\n",
      "3    12\n",
      "4     7\n",
      "5    97\n",
      "6    42\n",
      "7    35\n",
      "8    72\n",
      "9    59\n",
      "dtype: int64\n",
      "10\n",
      "12\n"
     ]
    }
   ],
   "source": [
    "rand = random.sample(range(100), 10)\n",
    "valores = pd.Series(rand)\n",
    "print(valores)\n",
    "print(valores.size)\n",
    "print(valores[3])"
   ]
  },
  {
   "cell_type": "code",
   "execution_count": null,
   "metadata": {},
   "outputs": [],
   "source": []
  }
 ],
 "metadata": {
  "kernelspec": {
   "display_name": "Python 3",
   "language": "python",
   "name": "python3"
  },
  "language_info": {
   "codemirror_mode": {
    "name": "ipython",
    "version": 3
   },
   "file_extension": ".py",
   "mimetype": "text/x-python",
   "name": "python",
   "nbconvert_exporter": "python",
   "pygments_lexer": "ipython3",
   "version": "3.7.2"
  }
 },
 "nbformat": 4,
 "nbformat_minor": 2
}
